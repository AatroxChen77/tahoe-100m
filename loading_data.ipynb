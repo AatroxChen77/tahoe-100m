{
  "cells": [
    {
      "cell_type": "markdown",
      "id": "b68cf1d8",
      "metadata": {
        "id": "b68cf1d8"
      },
      "source": [
        "# Tutorial: Creating an AnnData Object from Tahoe-100M Dataset\n",
        "This notebook is intented for users who are familiar with the anndata format for single-cell data. We'll walk through how to parse records in the huggingface dataset format and convert between the two."
      ]
    },
    {
      "cell_type": "markdown",
      "id": "fc9a7282",
      "metadata": {
        "id": "fc9a7282"
      },
      "source": [
        "## Install Required Libraries"
      ]
    },
    {
      "cell_type": "code",
      "execution_count": 1,
      "id": "21bab5b0",
      "metadata": {
        "id": "21bab5b0"
      },
      "outputs": [
        {
          "name": "stdout",
          "output_type": "stream",
          "text": [
            "Collecting datasets\n",
            "  Downloading datasets-3.6.0-py3-none-any.whl.metadata (19 kB)\n",
            "Collecting anndata\n",
            "  Downloading anndata-0.11.4-py3-none-any.whl.metadata (9.3 kB)\n",
            "Collecting scipy\n",
            "  Downloading scipy-1.15.3-cp312-cp312-manylinux_2_17_aarch64.manylinux2014_aarch64.whl.metadata (61 kB)\n",
            "Collecting pandas\n",
            "  Downloading pandas-2.2.3-cp312-cp312-manylinux2014_aarch64.manylinux_2_17_aarch64.whl.metadata (89 kB)\n",
            "Collecting pubchempy\n",
            "  Downloading PubChemPy-1.0.4.tar.gz (29 kB)\n",
            "  Preparing metadata (setup.py) ... \u001b[?25ldone\n",
            "\u001b[?25hCollecting filelock (from datasets)\n",
            "  Downloading filelock-3.18.0-py3-none-any.whl.metadata (2.9 kB)\n",
            "Collecting numpy>=1.17 (from datasets)\n",
            "  Downloading numpy-2.2.6-cp312-cp312-manylinux_2_17_aarch64.manylinux2014_aarch64.whl.metadata (63 kB)\n",
            "Collecting pyarrow>=15.0.0 (from datasets)\n",
            "  Downloading pyarrow-20.0.0-cp312-cp312-manylinux_2_28_aarch64.whl.metadata (3.3 kB)\n",
            "Collecting dill<0.3.9,>=0.3.0 (from datasets)\n",
            "  Downloading dill-0.3.8-py3-none-any.whl.metadata (10 kB)\n",
            "Requirement already satisfied: requests>=2.32.2 in ./miniconda3/envs/my_env/lib/python3.12/site-packages (from datasets) (2.32.3)\n",
            "Collecting tqdm>=4.66.3 (from datasets)\n",
            "  Downloading tqdm-4.67.1-py3-none-any.whl.metadata (57 kB)\n",
            "Collecting xxhash (from datasets)\n",
            "  Downloading xxhash-3.5.0-cp312-cp312-manylinux_2_17_aarch64.manylinux2014_aarch64.whl.metadata (12 kB)\n",
            "Collecting multiprocess<0.70.17 (from datasets)\n",
            "  Downloading multiprocess-0.70.16-py312-none-any.whl.metadata (7.2 kB)\n",
            "Collecting fsspec<=2025.3.0,>=2023.1.0 (from fsspec[http]<=2025.3.0,>=2023.1.0->datasets)\n",
            "  Downloading fsspec-2025.3.0-py3-none-any.whl.metadata (11 kB)\n",
            "Collecting huggingface-hub>=0.24.0 (from datasets)\n",
            "  Downloading huggingface_hub-0.31.4-py3-none-any.whl.metadata (13 kB)\n",
            "Requirement already satisfied: packaging in ./miniconda3/envs/my_env/lib/python3.12/site-packages (from datasets) (25.0)\n",
            "Requirement already satisfied: pyyaml>=5.1 in ./miniconda3/envs/my_env/lib/python3.12/site-packages (from datasets) (6.0.2)\n",
            "Collecting aiohttp!=4.0.0a0,!=4.0.0a1 (from fsspec[http]<=2025.3.0,>=2023.1.0->datasets)\n",
            "  Downloading aiohttp-3.11.18-cp312-cp312-manylinux_2_17_aarch64.manylinux2014_aarch64.whl.metadata (7.7 kB)\n",
            "Collecting array-api-compat!=1.5,>1.4 (from anndata)\n",
            "  Downloading array_api_compat-1.12.0-py3-none-any.whl.metadata (2.5 kB)\n",
            "Collecting h5py>=3.7 (from anndata)\n",
            "  Downloading h5py-3.13.0-cp312-cp312-manylinux_2_17_aarch64.manylinux2014_aarch64.whl.metadata (2.5 kB)\n",
            "Collecting natsort (from anndata)\n",
            "  Downloading natsort-8.4.0-py3-none-any.whl.metadata (21 kB)\n",
            "Requirement already satisfied: python-dateutil>=2.8.2 in ./miniconda3/envs/my_env/lib/python3.12/site-packages (from pandas) (2.9.0.post0)\n",
            "Collecting pytz>=2020.1 (from pandas)\n",
            "  Downloading pytz-2025.2-py2.py3-none-any.whl.metadata (22 kB)\n",
            "Collecting tzdata>=2022.7 (from pandas)\n",
            "  Downloading tzdata-2025.2-py2.py3-none-any.whl.metadata (1.4 kB)\n",
            "Collecting aiohappyeyeballs>=2.3.0 (from aiohttp!=4.0.0a0,!=4.0.0a1->fsspec[http]<=2025.3.0,>=2023.1.0->datasets)\n",
            "  Downloading aiohappyeyeballs-2.6.1-py3-none-any.whl.metadata (5.9 kB)\n",
            "Collecting aiosignal>=1.1.2 (from aiohttp!=4.0.0a0,!=4.0.0a1->fsspec[http]<=2025.3.0,>=2023.1.0->datasets)\n",
            "  Downloading aiosignal-1.3.2-py2.py3-none-any.whl.metadata (3.8 kB)\n",
            "Requirement already satisfied: attrs>=17.3.0 in ./miniconda3/envs/my_env/lib/python3.12/site-packages (from aiohttp!=4.0.0a0,!=4.0.0a1->fsspec[http]<=2025.3.0,>=2023.1.0->datasets) (25.3.0)\n",
            "Collecting frozenlist>=1.1.1 (from aiohttp!=4.0.0a0,!=4.0.0a1->fsspec[http]<=2025.3.0,>=2023.1.0->datasets)\n",
            "  Downloading frozenlist-1.6.0-cp312-cp312-manylinux_2_17_aarch64.manylinux2014_aarch64.whl.metadata (16 kB)\n",
            "Collecting multidict<7.0,>=4.5 (from aiohttp!=4.0.0a0,!=4.0.0a1->fsspec[http]<=2025.3.0,>=2023.1.0->datasets)\n",
            "  Downloading multidict-6.4.4-cp312-cp312-manylinux_2_17_aarch64.manylinux2014_aarch64.whl.metadata (5.3 kB)\n",
            "Collecting propcache>=0.2.0 (from aiohttp!=4.0.0a0,!=4.0.0a1->fsspec[http]<=2025.3.0,>=2023.1.0->datasets)\n",
            "  Downloading propcache-0.3.1-cp312-cp312-manylinux_2_17_aarch64.manylinux2014_aarch64.whl.metadata (10 kB)\n",
            "Collecting yarl<2.0,>=1.17.0 (from aiohttp!=4.0.0a0,!=4.0.0a1->fsspec[http]<=2025.3.0,>=2023.1.0->datasets)\n",
            "  Downloading yarl-1.20.0-cp312-cp312-manylinux_2_17_aarch64.manylinux2014_aarch64.whl.metadata (72 kB)\n",
            "Requirement already satisfied: idna>=2.0 in ./miniconda3/envs/my_env/lib/python3.12/site-packages (from yarl<2.0,>=1.17.0->aiohttp!=4.0.0a0,!=4.0.0a1->fsspec[http]<=2025.3.0,>=2023.1.0->datasets) (3.10)\n",
            "Requirement already satisfied: typing-extensions>=3.7.4.3 in ./miniconda3/envs/my_env/lib/python3.12/site-packages (from huggingface-hub>=0.24.0->datasets) (4.13.2)\n",
            "Requirement already satisfied: six>=1.5 in ./miniconda3/envs/my_env/lib/python3.12/site-packages (from python-dateutil>=2.8.2->pandas) (1.17.0)\n",
            "Requirement already satisfied: charset-normalizer<4,>=2 in ./miniconda3/envs/my_env/lib/python3.12/site-packages (from requests>=2.32.2->datasets) (3.4.2)\n",
            "Requirement already satisfied: urllib3<3,>=1.21.1 in ./miniconda3/envs/my_env/lib/python3.12/site-packages (from requests>=2.32.2->datasets) (2.4.0)\n",
            "Requirement already satisfied: certifi>=2017.4.17 in ./miniconda3/envs/my_env/lib/python3.12/site-packages (from requests>=2.32.2->datasets) (2025.4.26)\n",
            "Downloading datasets-3.6.0-py3-none-any.whl (491 kB)\n",
            "Downloading dill-0.3.8-py3-none-any.whl (116 kB)\n",
            "Downloading fsspec-2025.3.0-py3-none-any.whl (193 kB)\n",
            "Downloading multiprocess-0.70.16-py312-none-any.whl (146 kB)\n",
            "Downloading anndata-0.11.4-py3-none-any.whl (144 kB)\n",
            "Downloading scipy-1.15.3-cp312-cp312-manylinux_2_17_aarch64.manylinux2014_aarch64.whl (35.2 MB)\n",
            "\u001b[2K   \u001b[38;2;114;156;31m━━━━━━━━━━━━━━━━━━━━━━━━━━━━━━━━━━━━━━━━\u001b[0m \u001b[32m35.2/35.2 MB\u001b[0m \u001b[31m102.3 MB/s\u001b[0m eta \u001b[36m0:00:00\u001b[0m1m58.0 MB/s\u001b[0m eta \u001b[36m0:00:01\u001b[0m\n",
            "\u001b[?25hDownloading numpy-2.2.6-cp312-cp312-manylinux_2_17_aarch64.manylinux2014_aarch64.whl (14.0 MB)\n",
            "\u001b[2K   \u001b[38;2;114;156;31m━━━━━━━━━━━━━━━━━━━━━━━━━━━━━━━━━━━━━━━━\u001b[0m \u001b[32m14.0/14.0 MB\u001b[0m \u001b[31m280.8 MB/s\u001b[0m eta \u001b[36m0:00:00\u001b[0m\n",
            "\u001b[?25hDownloading pandas-2.2.3-cp312-cp312-manylinux2014_aarch64.manylinux_2_17_aarch64.whl (15.2 MB)\n",
            "\u001b[2K   \u001b[38;2;114;156;31m━━━━━━━━━━━━━━━━━━━━━━━━━━━━━━━━━━━━━━━━\u001b[0m \u001b[32m15.2/15.2 MB\u001b[0m \u001b[31m270.2 MB/s\u001b[0m eta \u001b[36m0:00:00\u001b[0m\n",
            "\u001b[?25hDownloading aiohttp-3.11.18-cp312-cp312-manylinux_2_17_aarch64.manylinux2014_aarch64.whl (1.7 MB)\n",
            "\u001b[2K   \u001b[38;2;114;156;31m━━━━━━━━━━━━━━━━━━━━━━━━━━━━━━━━━━━━━━━━\u001b[0m \u001b[32m1.7/1.7 MB\u001b[0m \u001b[31m238.9 MB/s\u001b[0m eta \u001b[36m0:00:00\u001b[0m\n",
            "\u001b[?25hDownloading multidict-6.4.4-cp312-cp312-manylinux_2_17_aarch64.manylinux2014_aarch64.whl (224 kB)\n",
            "Downloading yarl-1.20.0-cp312-cp312-manylinux_2_17_aarch64.manylinux2014_aarch64.whl (343 kB)\n",
            "Downloading aiohappyeyeballs-2.6.1-py3-none-any.whl (15 kB)\n",
            "Downloading aiosignal-1.3.2-py2.py3-none-any.whl (7.6 kB)\n",
            "Downloading array_api_compat-1.12.0-py3-none-any.whl (58 kB)\n",
            "Downloading frozenlist-1.6.0-cp312-cp312-manylinux_2_17_aarch64.manylinux2014_aarch64.whl (316 kB)\n",
            "Downloading h5py-3.13.0-cp312-cp312-manylinux_2_17_aarch64.manylinux2014_aarch64.whl (4.7 MB)\n",
            "\u001b[2K   \u001b[38;2;114;156;31m━━━━━━━━━━━━━━━━━━━━━━━━━━━━━━━━━━━━━━━━\u001b[0m \u001b[32m4.7/4.7 MB\u001b[0m \u001b[31m143.5 MB/s\u001b[0m eta \u001b[36m0:00:00\u001b[0m\n",
            "\u001b[?25hDownloading huggingface_hub-0.31.4-py3-none-any.whl (489 kB)\n",
            "Downloading propcache-0.3.1-cp312-cp312-manylinux_2_17_aarch64.manylinux2014_aarch64.whl (243 kB)\n",
            "Downloading pyarrow-20.0.0-cp312-cp312-manylinux_2_28_aarch64.whl (40.7 MB)\n",
            "\u001b[2K   \u001b[38;2;114;156;31m━━━━━━━━━━━━━━━━━━━━━━━━━━━━━━━━━━━━━━━━\u001b[0m \u001b[32m40.7/40.7 MB\u001b[0m \u001b[31m219.9 MB/s\u001b[0m eta \u001b[36m0:00:00\u001b[0m\n",
            "\u001b[?25hDownloading pytz-2025.2-py2.py3-none-any.whl (509 kB)\n",
            "Downloading tqdm-4.67.1-py3-none-any.whl (78 kB)\n",
            "Downloading tzdata-2025.2-py2.py3-none-any.whl (347 kB)\n",
            "Downloading filelock-3.18.0-py3-none-any.whl (16 kB)\n",
            "Downloading natsort-8.4.0-py3-none-any.whl (38 kB)\n",
            "Downloading xxhash-3.5.0-cp312-cp312-manylinux_2_17_aarch64.manylinux2014_aarch64.whl (220 kB)\n",
            "Building wheels for collected packages: pubchempy\n",
            "\u001b[33m  DEPRECATION: Building 'pubchempy' using the legacy setup.py bdist_wheel mechanism, which will be removed in a future version. pip 25.3 will enforce this behaviour change. A possible replacement is to use the standardized build interface by setting the `--use-pep517` option, (possibly combined with `--no-build-isolation`), or adding a `pyproject.toml` file to the source tree of 'pubchempy'. Discussion can be found at https://github.com/pypa/pip/issues/6334\u001b[0m\u001b[33m\n",
            "\u001b[0m  Building wheel for pubchempy (setup.py) ... \u001b[?25ldone\n",
            "\u001b[?25h  Created wheel for pubchempy: filename=pubchempy-1.0.4-py3-none-any.whl size=13899 sha256=8618a73485f16d0187b63df109217631164ce61681dd593eaede42ec260898d6\n",
            "  Stored in directory: /home/ubuntu/.cache/pip/wheels/78/0f/d0/080f82ce0d7fdc771401b6acac304bd2ee77d67dee34737bd6\n",
            "Successfully built pubchempy\n",
            "Installing collected packages: pytz, pubchempy, xxhash, tzdata, tqdm, pyarrow, propcache, numpy, natsort, multidict, fsspec, frozenlist, filelock, dill, array-api-compat, aiohappyeyeballs, yarl, scipy, pandas, multiprocess, huggingface-hub, h5py, aiosignal, anndata, aiohttp, datasets\n",
            "\u001b[2K   \u001b[38;2;114;156;31m━━━━━━━━━━━━━━━━━━━━━━━━━━━━━━━━━━━━━━━━\u001b[0m \u001b[32m26/26\u001b[0m [datasets]\u001b[0m \u001b[32m25/26\u001b[0m [datasets]ohttp]ace-hub]\n",
            "\u001b[1A\u001b[2KSuccessfully installed aiohappyeyeballs-2.6.1 aiohttp-3.11.18 aiosignal-1.3.2 anndata-0.11.4 array-api-compat-1.12.0 datasets-3.6.0 dill-0.3.8 filelock-3.18.0 frozenlist-1.6.0 fsspec-2025.3.0 h5py-3.13.0 huggingface-hub-0.31.4 multidict-6.4.4 multiprocess-0.70.16 natsort-8.4.0 numpy-2.2.6 pandas-2.2.3 propcache-0.3.1 pubchempy-1.0.4 pyarrow-20.0.0 pytz-2025.2 scipy-1.15.3 tqdm-4.67.1 tzdata-2025.2 xxhash-3.5.0 yarl-1.20.0\n"
          ]
        }
      ],
      "source": [
        "!pip install datasets anndata scipy pandas pubchempy"
      ]
    },
    {
      "cell_type": "markdown",
      "id": "7e9bf44e",
      "metadata": {
        "id": "7e9bf44e"
      },
      "source": [
        "## Import Libraries"
      ]
    },
    {
      "cell_type": "code",
      "execution_count": 3,
      "id": "a7589c73",
      "metadata": {
        "id": "a7589c73"
      },
      "outputs": [],
      "source": [
        "from datasets import load_dataset\n",
        "from scipy.sparse import csr_matrix\n",
        "import anndata\n",
        "import pandas as pd\n",
        "import pubchempy as pcp"
      ]
    },
    {
      "cell_type": "markdown",
      "id": "f31cd11c",
      "metadata": {
        "id": "f31cd11c"
      },
      "source": [
        "## Mapping records to anndata\n",
        "\n",
        "This function takes in a generator that emits records from the Tahoe-100M huggingface dataset and returns an anndata object. Use the `sample_size` argument to specify the number of records you need. You can also create a new generator using the `dataset.filter` function to only emit records that match a certain filter (eg: for a specific drug/plate/sample).\n",
        "\n",
        "If you'd like to create a DataLoader for an ML training application, it's likely best to use the data in it's native format without interfacing with anndata."
      ]
    },
    {
      "cell_type": "code",
      "execution_count": 4,
      "id": "f4391697",
      "metadata": {
        "id": "f4391697"
      },
      "outputs": [],
      "source": [
        "\n",
        "def create_anndata_from_generator(generator, gene_vocab, sample_size=None):\n",
        "    sorted_vocab_items = sorted(gene_vocab.items())\n",
        "    token_ids, gene_names = zip(*sorted_vocab_items)\n",
        "    token_id_to_col_idx = {token_id: idx for idx, token_id in enumerate(token_ids)}\n",
        "\n",
        "    data, indices, indptr = [], [], [0]\n",
        "    obs_data = []\n",
        "\n",
        "    for i, cell in enumerate(generator):\n",
        "        if sample_size is not None and i >= sample_size:\n",
        "            break\n",
        "        genes = cell['genes']\n",
        "        expressions = cell['expressions']\n",
        "        if expressions[0] < 0:\n",
        "            genes = genes[1:]\n",
        "            expressions = expressions[1:]\n",
        "\n",
        "        col_indices = [token_id_to_col_idx[gene] for gene in genes if gene in token_id_to_col_idx]\n",
        "        valid_expressions = [expr for gene, expr in zip(genes, expressions) if gene in token_id_to_col_idx]\n",
        "\n",
        "        data.extend(valid_expressions)\n",
        "        indices.extend(col_indices)\n",
        "        indptr.append(len(data))\n",
        "\n",
        "        obs_entry = {k: v for k, v in cell.items() if k not in ['genes', 'expressions']}\n",
        "        obs_data.append(obs_entry)\n",
        "\n",
        "    expr_matrix = csr_matrix((data, indices, indptr), shape=(len(indptr) - 1, len(gene_names)))\n",
        "    obs_df = pd.DataFrame(obs_data)\n",
        "\n",
        "    adata = anndata.AnnData(X=expr_matrix, obs=obs_df)\n",
        "    adata.var.index = pd.Index(gene_names, name='ensembl_id')\n",
        "\n",
        "    return adata\n"
      ]
    },
    {
      "cell_type": "markdown",
      "id": "0cf683cd",
      "metadata": {
        "id": "0cf683cd"
      },
      "source": [
        "## Load Tahoe-100M Dataset"
      ]
    },
    {
      "cell_type": "code",
      "execution_count": 6,
      "id": "80eb5104",
      "metadata": {
        "id": "80eb5104"
      },
      "outputs": [
        {
          "data": {
            "application/vnd.jupyter.widget-view+json": {
              "model_id": "1b18277dfe5b4b42b6e21bbe22b34094",
              "version_major": 2,
              "version_minor": 0
            },
            "text/plain": [
              "README.md:   0%|          | 0.00/18.7k [00:00<?, ?B/s]"
            ]
          },
          "metadata": {},
          "output_type": "display_data"
        },
        {
          "data": {
            "application/vnd.jupyter.widget-view+json": {
              "model_id": "6c8626b9b99f4951a40f64aa943c2fbc",
              "version_major": 2,
              "version_minor": 0
            },
            "text/plain": [
              "Resolving data files:   0%|          | 0/3388 [00:00<?, ?it/s]"
            ]
          },
          "metadata": {},
          "output_type": "display_data"
        },
        {
          "data": {
            "application/vnd.jupyter.widget-view+json": {
              "model_id": "ace6ddf930904139b4941021d580912b",
              "version_major": 2,
              "version_minor": 0
            },
            "text/plain": [
              "Resolving data files:   0%|          | 0/3388 [00:00<?, ?it/s]"
            ]
          },
          "metadata": {},
          "output_type": "display_data"
        }
      ],
      "source": [
        "\n",
        "tahoe_100m_ds = load_dataset('vevotx/Tahoe-100M', streaming=True, split='train')"
      ]
    },
    {
      "cell_type": "markdown",
      "id": "337f02f2",
      "metadata": {
        "id": "337f02f2"
      },
      "source": [
        "## Load Gene Metadata\n",
        "\n",
        "The gene metadata contains the mapping between the integer token IDs used in the dataset and standard identifiers for genes (ensembl IDs and HGNC gene symbols)"
      ]
    },
    {
      "cell_type": "code",
      "execution_count": 12,
      "id": "a0eeaa83",
      "metadata": {
        "id": "a0eeaa83"
      },
      "outputs": [
        {
          "data": {
            "application/vnd.jupyter.widget-view+json": {
              "model_id": "5de53a6ed1b04efc84f1d29cd6f1c179",
              "version_major": 2,
              "version_minor": 0
            },
            "text/plain": [
              "Resolving data files:   0%|          | 0/3388 [00:00<?, ?it/s]"
            ]
          },
          "metadata": {},
          "output_type": "display_data"
        },
        {
          "data": {
            "application/vnd.jupyter.widget-view+json": {
              "model_id": "bfb3d2ed52504b5cab32255233e23ad6",
              "version_major": 2,
              "version_minor": 0
            },
            "text/plain": [
              "gene_metadata.parquet:   0%|          | 0.00/1.33M [00:00<?, ?B/s]"
            ]
          },
          "metadata": {},
          "output_type": "display_data"
        },
        {
          "data": {
            "application/vnd.jupyter.widget-view+json": {
              "model_id": "423a8703a28d430095c591029abb1278",
              "version_major": 2,
              "version_minor": 0
            },
            "text/plain": [
              "Generating train split: 0 examples [00:00, ? examples/s]"
            ]
          },
          "metadata": {},
          "output_type": "display_data"
        }
      ],
      "source": [
        "\n",
        "gene_metadata = load_dataset(\"vevotx/Tahoe-100M\", name=\"gene_metadata\", split=\"train\")\n",
        "gene_vocab = {entry[\"token_id\"]: entry[\"ensembl_id\"] for entry in gene_metadata}"
      ]
    },
    {
      "cell_type": "markdown",
      "id": "ded9c086",
      "metadata": {
        "id": "ded9c086"
      },
      "source": [
        "## Create AnnData Object"
      ]
    },
    {
      "cell_type": "code",
      "execution_count": 32,
      "id": "6fb1d70d",
      "metadata": {
        "id": "6fb1d70d"
      },
      "outputs": [
        {
          "name": "stderr",
          "output_type": "stream",
          "text": [
            "/home/ubuntu/miniconda3/envs/my_env/lib/python3.12/site-packages/anndata/_core/aligned_df.py:68: ImplicitModificationWarning: Transforming to str index.\n",
            "  warnings.warn(\"Transforming to str index.\", ImplicitModificationWarning)\n"
          ]
        },
        {
          "data": {
            "text/plain": [
              "AnnData object with n_obs × n_vars = 1000000 × 62710\n",
              "    obs: 'drug', 'sample', 'BARCODE_SUB_LIB_ID', 'cell_line_id', 'moa-fine', 'canonical_smiles', 'pubchem_cid', 'plate'"
            ]
          },
          "execution_count": 32,
          "metadata": {},
          "output_type": "execute_result"
        }
      ],
      "source": [
        "\n",
        "adata = create_anndata_from_generator(tahoe_100m_ds, gene_vocab, sample_size=1000000)\n",
        "adata"
      ]
    },
    {
      "cell_type": "markdown",
      "id": "c7c07f9e",
      "metadata": {
        "id": "c7c07f9e"
      },
      "source": [
        "## Inspect Metadata (`adata.obs`)"
      ]
    },
    {
      "cell_type": "code",
      "execution_count": 37,
      "id": "15214a5c",
      "metadata": {
        "id": "15214a5c"
      },
      "outputs": [
        {
          "data": {
            "text/html": [
              "<div>\n",
              "<style scoped>\n",
              "    .dataframe tbody tr th:only-of-type {\n",
              "        vertical-align: middle;\n",
              "    }\n",
              "\n",
              "    .dataframe tbody tr th {\n",
              "        vertical-align: top;\n",
              "    }\n",
              "\n",
              "    .dataframe thead th {\n",
              "        text-align: right;\n",
              "    }\n",
              "</style>\n",
              "<table border=\"1\" class=\"dataframe\">\n",
              "  <thead>\n",
              "    <tr style=\"text-align: right;\">\n",
              "      <th></th>\n",
              "      <th>drug</th>\n",
              "      <th>sample</th>\n",
              "      <th>BARCODE_SUB_LIB_ID</th>\n",
              "      <th>cell_line_id</th>\n",
              "      <th>moa-fine</th>\n",
              "      <th>canonical_smiles</th>\n",
              "      <th>pubchem_cid</th>\n",
              "      <th>plate</th>\n",
              "      <th>mean_gene_count</th>\n",
              "      <th>mean_tscp_count</th>\n",
              "      <th>mean_mread_count</th>\n",
              "      <th>mean_pcnt_mito</th>\n",
              "      <th>drugname_drugconc</th>\n",
              "    </tr>\n",
              "  </thead>\n",
              "  <tbody>\n",
              "    <tr>\n",
              "      <th>0</th>\n",
              "      <td>8-Hydroxyquinoline</td>\n",
              "      <td>smp_1783</td>\n",
              "      <td>01_001_052-lib_1105</td>\n",
              "      <td>CVCL_0480</td>\n",
              "      <td>unclear</td>\n",
              "      <td>C1=CC2=C(C(=C1)O)N=CC=C2</td>\n",
              "      <td>1923.0</td>\n",
              "      <td>plate4</td>\n",
              "      <td>1478.268171</td>\n",
              "      <td>2341.339094</td>\n",
              "      <td>2738.463797</td>\n",
              "      <td>0.023783</td>\n",
              "      <td>[('8-Hydroxyquinoline', 0.05, 'uM')]</td>\n",
              "    </tr>\n",
              "    <tr>\n",
              "      <th>1</th>\n",
              "      <td>8-Hydroxyquinoline</td>\n",
              "      <td>smp_1783</td>\n",
              "      <td>01_001_105-lib_1105</td>\n",
              "      <td>CVCL_0546</td>\n",
              "      <td>unclear</td>\n",
              "      <td>C1=CC2=C(C(=C1)O)N=CC=C2</td>\n",
              "      <td>1923.0</td>\n",
              "      <td>plate4</td>\n",
              "      <td>1478.268171</td>\n",
              "      <td>2341.339094</td>\n",
              "      <td>2738.463797</td>\n",
              "      <td>0.023783</td>\n",
              "      <td>[('8-Hydroxyquinoline', 0.05, 'uM')]</td>\n",
              "    </tr>\n",
              "    <tr>\n",
              "      <th>2</th>\n",
              "      <td>8-Hydroxyquinoline</td>\n",
              "      <td>smp_1783</td>\n",
              "      <td>01_001_165-lib_1105</td>\n",
              "      <td>CVCL_1717</td>\n",
              "      <td>unclear</td>\n",
              "      <td>C1=CC2=C(C(=C1)O)N=CC=C2</td>\n",
              "      <td>1923.0</td>\n",
              "      <td>plate4</td>\n",
              "      <td>1478.268171</td>\n",
              "      <td>2341.339094</td>\n",
              "      <td>2738.463797</td>\n",
              "      <td>0.023783</td>\n",
              "      <td>[('8-Hydroxyquinoline', 0.05, 'uM')]</td>\n",
              "    </tr>\n",
              "    <tr>\n",
              "      <th>3</th>\n",
              "      <td>8-Hydroxyquinoline</td>\n",
              "      <td>smp_1783</td>\n",
              "      <td>01_003_094-lib_1105</td>\n",
              "      <td>CVCL_1717</td>\n",
              "      <td>unclear</td>\n",
              "      <td>C1=CC2=C(C(=C1)O)N=CC=C2</td>\n",
              "      <td>1923.0</td>\n",
              "      <td>plate4</td>\n",
              "      <td>1478.268171</td>\n",
              "      <td>2341.339094</td>\n",
              "      <td>2738.463797</td>\n",
              "      <td>0.023783</td>\n",
              "      <td>[('8-Hydroxyquinoline', 0.05, 'uM')]</td>\n",
              "    </tr>\n",
              "    <tr>\n",
              "      <th>4</th>\n",
              "      <td>8-Hydroxyquinoline</td>\n",
              "      <td>smp_1783</td>\n",
              "      <td>01_003_164-lib_1105</td>\n",
              "      <td>CVCL_1056</td>\n",
              "      <td>unclear</td>\n",
              "      <td>C1=CC2=C(C(=C1)O)N=CC=C2</td>\n",
              "      <td>1923.0</td>\n",
              "      <td>plate4</td>\n",
              "      <td>1478.268171</td>\n",
              "      <td>2341.339094</td>\n",
              "      <td>2738.463797</td>\n",
              "      <td>0.023783</td>\n",
              "      <td>[('8-Hydroxyquinoline', 0.05, 'uM')]</td>\n",
              "    </tr>\n",
              "  </tbody>\n",
              "</table>\n",
              "</div>"
            ],
            "text/plain": [
              "                 drug    sample   BARCODE_SUB_LIB_ID cell_line_id moa-fine  \\\n",
              "0  8-Hydroxyquinoline  smp_1783  01_001_052-lib_1105    CVCL_0480  unclear   \n",
              "1  8-Hydroxyquinoline  smp_1783  01_001_105-lib_1105    CVCL_0546  unclear   \n",
              "2  8-Hydroxyquinoline  smp_1783  01_001_165-lib_1105    CVCL_1717  unclear   \n",
              "3  8-Hydroxyquinoline  smp_1783  01_003_094-lib_1105    CVCL_1717  unclear   \n",
              "4  8-Hydroxyquinoline  smp_1783  01_003_164-lib_1105    CVCL_1056  unclear   \n",
              "\n",
              "           canonical_smiles pubchem_cid   plate  mean_gene_count  \\\n",
              "0  C1=CC2=C(C(=C1)O)N=CC=C2      1923.0  plate4      1478.268171   \n",
              "1  C1=CC2=C(C(=C1)O)N=CC=C2      1923.0  plate4      1478.268171   \n",
              "2  C1=CC2=C(C(=C1)O)N=CC=C2      1923.0  plate4      1478.268171   \n",
              "3  C1=CC2=C(C(=C1)O)N=CC=C2      1923.0  plate4      1478.268171   \n",
              "4  C1=CC2=C(C(=C1)O)N=CC=C2      1923.0  plate4      1478.268171   \n",
              "\n",
              "   mean_tscp_count  mean_mread_count  mean_pcnt_mito  \\\n",
              "0      2341.339094       2738.463797        0.023783   \n",
              "1      2341.339094       2738.463797        0.023783   \n",
              "2      2341.339094       2738.463797        0.023783   \n",
              "3      2341.339094       2738.463797        0.023783   \n",
              "4      2341.339094       2738.463797        0.023783   \n",
              "\n",
              "                      drugname_drugconc  \n",
              "0  [('8-Hydroxyquinoline', 0.05, 'uM')]  \n",
              "1  [('8-Hydroxyquinoline', 0.05, 'uM')]  \n",
              "2  [('8-Hydroxyquinoline', 0.05, 'uM')]  \n",
              "3  [('8-Hydroxyquinoline', 0.05, 'uM')]  \n",
              "4  [('8-Hydroxyquinoline', 0.05, 'uM')]  "
            ]
          },
          "execution_count": 37,
          "metadata": {},
          "output_type": "execute_result"
        }
      ],
      "source": [
        "adata.obs.head()"
      ]
    },
    {
      "cell_type": "markdown",
      "id": "ec391116",
      "metadata": {
        "id": "ec391116"
      },
      "source": [
        "## Enrich with Sample Metadata\n",
        "\n",
        "Although the main data contains several metadata fields, there are some additional columns (such as drug concentration) which are omitted to reduce the size of the data. If they are needed, they may be fetched using the sample_metadata."
      ]
    },
    {
      "cell_type": "code",
      "execution_count": 38,
      "id": "657524c8",
      "metadata": {
        "id": "657524c8"
      },
      "outputs": [
        {
          "data": {
            "application/vnd.jupyter.widget-view+json": {
              "model_id": "f5d88641df2e4358a0aaa4c6126a6127",
              "version_major": 2,
              "version_minor": 0
            },
            "text/plain": [
              "Resolving data files:   0%|          | 0/3388 [00:00<?, ?it/s]"
            ]
          },
          "metadata": {},
          "output_type": "display_data"
        },
        {
          "data": {
            "text/html": [
              "<div>\n",
              "<style scoped>\n",
              "    .dataframe tbody tr th:only-of-type {\n",
              "        vertical-align: middle;\n",
              "    }\n",
              "\n",
              "    .dataframe tbody tr th {\n",
              "        vertical-align: top;\n",
              "    }\n",
              "\n",
              "    .dataframe thead th {\n",
              "        text-align: right;\n",
              "    }\n",
              "</style>\n",
              "<table border=\"1\" class=\"dataframe\">\n",
              "  <thead>\n",
              "    <tr style=\"text-align: right;\">\n",
              "      <th></th>\n",
              "      <th>drug</th>\n",
              "      <th>sample</th>\n",
              "      <th>BARCODE_SUB_LIB_ID</th>\n",
              "      <th>cell_line_id</th>\n",
              "      <th>moa-fine</th>\n",
              "      <th>canonical_smiles</th>\n",
              "      <th>pubchem_cid</th>\n",
              "      <th>plate</th>\n",
              "      <th>mean_gene_count_x</th>\n",
              "      <th>mean_tscp_count_x</th>\n",
              "      <th>mean_mread_count_x</th>\n",
              "      <th>mean_pcnt_mito_x</th>\n",
              "      <th>drugname_drugconc_x</th>\n",
              "      <th>mean_gene_count_y</th>\n",
              "      <th>mean_tscp_count_y</th>\n",
              "      <th>mean_mread_count_y</th>\n",
              "      <th>mean_pcnt_mito_y</th>\n",
              "      <th>drugname_drugconc_y</th>\n",
              "    </tr>\n",
              "  </thead>\n",
              "  <tbody>\n",
              "    <tr>\n",
              "      <th>0</th>\n",
              "      <td>8-Hydroxyquinoline</td>\n",
              "      <td>smp_1783</td>\n",
              "      <td>01_001_052-lib_1105</td>\n",
              "      <td>CVCL_0480</td>\n",
              "      <td>unclear</td>\n",
              "      <td>C1=CC2=C(C(=C1)O)N=CC=C2</td>\n",
              "      <td>1923.0</td>\n",
              "      <td>plate4</td>\n",
              "      <td>1478.268171</td>\n",
              "      <td>2341.339094</td>\n",
              "      <td>2738.463797</td>\n",
              "      <td>0.023783</td>\n",
              "      <td>[('8-Hydroxyquinoline', 0.05, 'uM')]</td>\n",
              "      <td>1478.268171</td>\n",
              "      <td>2341.339094</td>\n",
              "      <td>2738.463797</td>\n",
              "      <td>0.023783</td>\n",
              "      <td>[('8-Hydroxyquinoline', 0.05, 'uM')]</td>\n",
              "    </tr>\n",
              "    <tr>\n",
              "      <th>1</th>\n",
              "      <td>8-Hydroxyquinoline</td>\n",
              "      <td>smp_1783</td>\n",
              "      <td>01_001_105-lib_1105</td>\n",
              "      <td>CVCL_0546</td>\n",
              "      <td>unclear</td>\n",
              "      <td>C1=CC2=C(C(=C1)O)N=CC=C2</td>\n",
              "      <td>1923.0</td>\n",
              "      <td>plate4</td>\n",
              "      <td>1478.268171</td>\n",
              "      <td>2341.339094</td>\n",
              "      <td>2738.463797</td>\n",
              "      <td>0.023783</td>\n",
              "      <td>[('8-Hydroxyquinoline', 0.05, 'uM')]</td>\n",
              "      <td>1478.268171</td>\n",
              "      <td>2341.339094</td>\n",
              "      <td>2738.463797</td>\n",
              "      <td>0.023783</td>\n",
              "      <td>[('8-Hydroxyquinoline', 0.05, 'uM')]</td>\n",
              "    </tr>\n",
              "    <tr>\n",
              "      <th>2</th>\n",
              "      <td>8-Hydroxyquinoline</td>\n",
              "      <td>smp_1783</td>\n",
              "      <td>01_001_165-lib_1105</td>\n",
              "      <td>CVCL_1717</td>\n",
              "      <td>unclear</td>\n",
              "      <td>C1=CC2=C(C(=C1)O)N=CC=C2</td>\n",
              "      <td>1923.0</td>\n",
              "      <td>plate4</td>\n",
              "      <td>1478.268171</td>\n",
              "      <td>2341.339094</td>\n",
              "      <td>2738.463797</td>\n",
              "      <td>0.023783</td>\n",
              "      <td>[('8-Hydroxyquinoline', 0.05, 'uM')]</td>\n",
              "      <td>1478.268171</td>\n",
              "      <td>2341.339094</td>\n",
              "      <td>2738.463797</td>\n",
              "      <td>0.023783</td>\n",
              "      <td>[('8-Hydroxyquinoline', 0.05, 'uM')]</td>\n",
              "    </tr>\n",
              "    <tr>\n",
              "      <th>3</th>\n",
              "      <td>8-Hydroxyquinoline</td>\n",
              "      <td>smp_1783</td>\n",
              "      <td>01_003_094-lib_1105</td>\n",
              "      <td>CVCL_1717</td>\n",
              "      <td>unclear</td>\n",
              "      <td>C1=CC2=C(C(=C1)O)N=CC=C2</td>\n",
              "      <td>1923.0</td>\n",
              "      <td>plate4</td>\n",
              "      <td>1478.268171</td>\n",
              "      <td>2341.339094</td>\n",
              "      <td>2738.463797</td>\n",
              "      <td>0.023783</td>\n",
              "      <td>[('8-Hydroxyquinoline', 0.05, 'uM')]</td>\n",
              "      <td>1478.268171</td>\n",
              "      <td>2341.339094</td>\n",
              "      <td>2738.463797</td>\n",
              "      <td>0.023783</td>\n",
              "      <td>[('8-Hydroxyquinoline', 0.05, 'uM')]</td>\n",
              "    </tr>\n",
              "    <tr>\n",
              "      <th>4</th>\n",
              "      <td>8-Hydroxyquinoline</td>\n",
              "      <td>smp_1783</td>\n",
              "      <td>01_003_164-lib_1105</td>\n",
              "      <td>CVCL_1056</td>\n",
              "      <td>unclear</td>\n",
              "      <td>C1=CC2=C(C(=C1)O)N=CC=C2</td>\n",
              "      <td>1923.0</td>\n",
              "      <td>plate4</td>\n",
              "      <td>1478.268171</td>\n",
              "      <td>2341.339094</td>\n",
              "      <td>2738.463797</td>\n",
              "      <td>0.023783</td>\n",
              "      <td>[('8-Hydroxyquinoline', 0.05, 'uM')]</td>\n",
              "      <td>1478.268171</td>\n",
              "      <td>2341.339094</td>\n",
              "      <td>2738.463797</td>\n",
              "      <td>0.023783</td>\n",
              "      <td>[('8-Hydroxyquinoline', 0.05, 'uM')]</td>\n",
              "    </tr>\n",
              "  </tbody>\n",
              "</table>\n",
              "</div>"
            ],
            "text/plain": [
              "                 drug    sample   BARCODE_SUB_LIB_ID cell_line_id moa-fine  \\\n",
              "0  8-Hydroxyquinoline  smp_1783  01_001_052-lib_1105    CVCL_0480  unclear   \n",
              "1  8-Hydroxyquinoline  smp_1783  01_001_105-lib_1105    CVCL_0546  unclear   \n",
              "2  8-Hydroxyquinoline  smp_1783  01_001_165-lib_1105    CVCL_1717  unclear   \n",
              "3  8-Hydroxyquinoline  smp_1783  01_003_094-lib_1105    CVCL_1717  unclear   \n",
              "4  8-Hydroxyquinoline  smp_1783  01_003_164-lib_1105    CVCL_1056  unclear   \n",
              "\n",
              "           canonical_smiles pubchem_cid   plate  mean_gene_count_x  \\\n",
              "0  C1=CC2=C(C(=C1)O)N=CC=C2      1923.0  plate4        1478.268171   \n",
              "1  C1=CC2=C(C(=C1)O)N=CC=C2      1923.0  plate4        1478.268171   \n",
              "2  C1=CC2=C(C(=C1)O)N=CC=C2      1923.0  plate4        1478.268171   \n",
              "3  C1=CC2=C(C(=C1)O)N=CC=C2      1923.0  plate4        1478.268171   \n",
              "4  C1=CC2=C(C(=C1)O)N=CC=C2      1923.0  plate4        1478.268171   \n",
              "\n",
              "   mean_tscp_count_x  mean_mread_count_x  mean_pcnt_mito_x  \\\n",
              "0        2341.339094         2738.463797          0.023783   \n",
              "1        2341.339094         2738.463797          0.023783   \n",
              "2        2341.339094         2738.463797          0.023783   \n",
              "3        2341.339094         2738.463797          0.023783   \n",
              "4        2341.339094         2738.463797          0.023783   \n",
              "\n",
              "                    drugname_drugconc_x  mean_gene_count_y  mean_tscp_count_y  \\\n",
              "0  [('8-Hydroxyquinoline', 0.05, 'uM')]        1478.268171        2341.339094   \n",
              "1  [('8-Hydroxyquinoline', 0.05, 'uM')]        1478.268171        2341.339094   \n",
              "2  [('8-Hydroxyquinoline', 0.05, 'uM')]        1478.268171        2341.339094   \n",
              "3  [('8-Hydroxyquinoline', 0.05, 'uM')]        1478.268171        2341.339094   \n",
              "4  [('8-Hydroxyquinoline', 0.05, 'uM')]        1478.268171        2341.339094   \n",
              "\n",
              "   mean_mread_count_y  mean_pcnt_mito_y                   drugname_drugconc_y  \n",
              "0         2738.463797          0.023783  [('8-Hydroxyquinoline', 0.05, 'uM')]  \n",
              "1         2738.463797          0.023783  [('8-Hydroxyquinoline', 0.05, 'uM')]  \n",
              "2         2738.463797          0.023783  [('8-Hydroxyquinoline', 0.05, 'uM')]  \n",
              "3         2738.463797          0.023783  [('8-Hydroxyquinoline', 0.05, 'uM')]  \n",
              "4         2738.463797          0.023783  [('8-Hydroxyquinoline', 0.05, 'uM')]  "
            ]
          },
          "execution_count": 38,
          "metadata": {},
          "output_type": "execute_result"
        }
      ],
      "source": [
        "\n",
        "sample_metadata = load_dataset(\"vevotx/Tahoe-100M\",\"sample_metadata\", split=\"train\").to_pandas()\n",
        "adata.obs = pd.merge(adata.obs, sample_metadata.drop(columns=[\"drug\",\"plate\"]), on=\"sample\")\n",
        "adata.obs.head()"
      ]
    },
    {
      "cell_type": "markdown",
      "id": "a1504ad7",
      "metadata": {
        "id": "a1504ad7"
      },
      "source": [
        "## Add Drug Metadata\n",
        "\n",
        "The drug metadata contains additional information for the compounds used in Tahoe-100M. See the dataset card and our [paper](https://www.biorxiv.org/content/10.1101/2025.02.20.639398v1) for more information about how this information was generated."
      ]
    },
    {
      "cell_type": "code",
      "execution_count": 39,
      "id": "741c8bcc",
      "metadata": {
        "id": "741c8bcc"
      },
      "outputs": [
        {
          "data": {
            "application/vnd.jupyter.widget-view+json": {
              "model_id": "2a17dbffe5a8418987ed9f77b654a8e5",
              "version_major": 2,
              "version_minor": 0
            },
            "text/plain": [
              "Resolving data files:   0%|          | 0/3388 [00:00<?, ?it/s]"
            ]
          },
          "metadata": {},
          "output_type": "display_data"
        },
        {
          "ename": "ValueError",
          "evalue": "Length of passed value for obs_names is 977906, but this AnnData has shape: (1000000, 62710)",
          "output_type": "error",
          "traceback": [
            "\u001b[31m---------------------------------------------------------------------------\u001b[39m",
            "\u001b[31mValueError\u001b[39m                                Traceback (most recent call last)",
            "\u001b[36mCell\u001b[39m\u001b[36m \u001b[39m\u001b[32mIn[39]\u001b[39m\u001b[32m, line 3\u001b[39m\n\u001b[32m      1\u001b[39m drug_metadata = load_dataset(\u001b[33m\"\u001b[39m\u001b[33mvevotx/Tahoe-100M\u001b[39m\u001b[33m\"\u001b[39m,\u001b[33m\"\u001b[39m\u001b[33mdrug_metadata\u001b[39m\u001b[33m\"\u001b[39m, split=\u001b[33m\"\u001b[39m\u001b[33mtrain\u001b[39m\u001b[33m\"\u001b[39m).to_pandas()\n\u001b[32m----> \u001b[39m\u001b[32m3\u001b[39m \u001b[43madata\u001b[49m\u001b[43m.\u001b[49m\u001b[43mobs\u001b[49m = pd.merge(adata.obs, drug_metadata.drop(columns=[\u001b[33m\"\u001b[39m\u001b[33mcanonical_smiles\u001b[39m\u001b[33m\"\u001b[39m,\u001b[33m\"\u001b[39m\u001b[33mpubchem_cid\u001b[39m\u001b[33m\"\u001b[39m,\u001b[33m\"\u001b[39m\u001b[33mmoa-fine\u001b[39m\u001b[33m\"\u001b[39m]), on=\u001b[33m\"\u001b[39m\u001b[33mdrug\u001b[39m\u001b[33m\"\u001b[39m)\n\u001b[32m      4\u001b[39m adata.obs.head()\n",
            "\u001b[36mFile \u001b[39m\u001b[32m~/miniconda3/envs/my_env/lib/python3.12/site-packages/anndata/_core/anndata.py:799\u001b[39m, in \u001b[36mAnnData.obs\u001b[39m\u001b[34m(self, value)\u001b[39m\n\u001b[32m    797\u001b[39m \u001b[38;5;129m@obs\u001b[39m.setter\n\u001b[32m    798\u001b[39m \u001b[38;5;28;01mdef\u001b[39;00m\u001b[38;5;250m \u001b[39m\u001b[34mobs\u001b[39m(\u001b[38;5;28mself\u001b[39m, value: pd.DataFrame):\n\u001b[32m--> \u001b[39m\u001b[32m799\u001b[39m     \u001b[38;5;28;43mself\u001b[39;49m\u001b[43m.\u001b[49m\u001b[43m_set_dim_df\u001b[49m\u001b[43m(\u001b[49m\u001b[43mvalue\u001b[49m\u001b[43m,\u001b[49m\u001b[43m \u001b[49m\u001b[33;43m\"\u001b[39;49m\u001b[33;43mobs\u001b[39;49m\u001b[33;43m\"\u001b[39;49m\u001b[43m)\u001b[49m\n",
            "\u001b[36mFile \u001b[39m\u001b[32m~/miniconda3/envs/my_env/lib/python3.12/site-packages/anndata/_core/anndata.py:740\u001b[39m, in \u001b[36mAnnData._set_dim_df\u001b[39m\u001b[34m(self, value, attr)\u001b[39m\n\u001b[32m    738\u001b[39m     \u001b[38;5;28;01mraise\u001b[39;00m \u001b[38;5;167;01mValueError\u001b[39;00m(msg)\n\u001b[32m    739\u001b[39m raise_value_error_if_multiindex_columns(value, attr)\n\u001b[32m--> \u001b[39m\u001b[32m740\u001b[39m value_idx = \u001b[38;5;28;43mself\u001b[39;49m\u001b[43m.\u001b[49m\u001b[43m_prep_dim_index\u001b[49m\u001b[43m(\u001b[49m\u001b[43mvalue\u001b[49m\u001b[43m.\u001b[49m\u001b[43mindex\u001b[49m\u001b[43m,\u001b[49m\u001b[43m \u001b[49m\u001b[43mattr\u001b[49m\u001b[43m)\u001b[49m\n\u001b[32m    741\u001b[39m \u001b[38;5;28;01mif\u001b[39;00m \u001b[38;5;28mself\u001b[39m.is_view:\n\u001b[32m    742\u001b[39m     \u001b[38;5;28mself\u001b[39m._init_as_actual(\u001b[38;5;28mself\u001b[39m.copy())\n",
            "\u001b[36mFile \u001b[39m\u001b[32m~/miniconda3/envs/my_env/lib/python3.12/site-packages/anndata/_core/anndata.py:755\u001b[39m, in \u001b[36mAnnData._prep_dim_index\u001b[39m\u001b[34m(self, value, attr)\u001b[39m\n\u001b[32m    753\u001b[39m \u001b[38;5;28;01mif\u001b[39;00m \u001b[38;5;28mself\u001b[39m.shape[attr == \u001b[33m\"\u001b[39m\u001b[33mvar\u001b[39m\u001b[33m\"\u001b[39m] != \u001b[38;5;28mlen\u001b[39m(value):\n\u001b[32m    754\u001b[39m     msg = \u001b[33mf\u001b[39m\u001b[33m\"\u001b[39m\u001b[33mLength of passed value for \u001b[39m\u001b[38;5;132;01m{\u001b[39;00mattr\u001b[38;5;132;01m}\u001b[39;00m\u001b[33m_names is \u001b[39m\u001b[38;5;132;01m{\u001b[39;00m\u001b[38;5;28mlen\u001b[39m(value)\u001b[38;5;132;01m}\u001b[39;00m\u001b[33m, but this AnnData has shape: \u001b[39m\u001b[38;5;132;01m{\u001b[39;00m\u001b[38;5;28mself\u001b[39m.shape\u001b[38;5;132;01m}\u001b[39;00m\u001b[33m\"\u001b[39m\n\u001b[32m--> \u001b[39m\u001b[32m755\u001b[39m     \u001b[38;5;28;01mraise\u001b[39;00m \u001b[38;5;167;01mValueError\u001b[39;00m(msg)\n\u001b[32m    756\u001b[39m \u001b[38;5;28;01mif\u001b[39;00m \u001b[38;5;28misinstance\u001b[39m(value, pd.Index) \u001b[38;5;129;01mand\u001b[39;00m \u001b[38;5;129;01mnot\u001b[39;00m \u001b[38;5;28misinstance\u001b[39m(value.name, \u001b[38;5;28mstr\u001b[39m | \u001b[38;5;28mtype\u001b[39m(\u001b[38;5;28;01mNone\u001b[39;00m)):\n\u001b[32m    757\u001b[39m     msg = (\n\u001b[32m    758\u001b[39m         \u001b[33mf\u001b[39m\u001b[33m\"\u001b[39m\u001b[33mAnnData expects .\u001b[39m\u001b[38;5;132;01m{\u001b[39;00mattr\u001b[38;5;132;01m}\u001b[39;00m\u001b[33m.index.name to be a string or None, \u001b[39m\u001b[33m\"\u001b[39m\n\u001b[32m    759\u001b[39m         \u001b[33mf\u001b[39m\u001b[33m\"\u001b[39m\u001b[33mbut you passed a name of type \u001b[39m\u001b[38;5;132;01m{\u001b[39;00m\u001b[38;5;28mtype\u001b[39m(value.name).\u001b[34m__name__\u001b[39m\u001b[38;5;132;01m!r}\u001b[39;00m\u001b[33m\"\u001b[39m\n\u001b[32m    760\u001b[39m     )\n",
            "\u001b[31mValueError\u001b[39m: Length of passed value for obs_names is 977906, but this AnnData has shape: (1000000, 62710)"
          ]
        }
      ],
      "source": [
        "drug_metadata = load_dataset(\"vevotx/Tahoe-100M\",\"drug_metadata\", split=\"train\").to_pandas()\n",
        "\n",
        "adata.obs = pd.merge(adata.obs, drug_metadata.drop(columns=[\"canonical_smiles\",\"pubchem_cid\",\"moa-fine\"]), on=\"drug\")\n",
        "adata.obs.head()"
      ]
    },
    {
      "cell_type": "markdown",
      "id": "d7eb71ff",
      "metadata": {
        "id": "d7eb71ff"
      },
      "source": [
        "## Drug Info from PubChem\n",
        "\n",
        "We also provide the pubchem IDs for the compounds in Tahoe, this can be used to querry additional information as needed."
      ]
    },
    {
      "cell_type": "code",
      "execution_count": 40,
      "id": "05d74c80",
      "metadata": {
        "id": "05d74c80"
      },
      "outputs": [
        {
          "name": "stdout",
          "output_type": "stream",
          "text": [
            "Name: 8-Hydroxyquinoline\n",
            "Synonyms: ['8-HYDROXYQUINOLINE', 'quinolin-8-ol', '148-24-3', 'Oxyquinoline', 'Oxine', 'Quinophenol', 'Oxychinolin', '8-Quinol', '8-Oxyquinoline', 'Phenopyridine']\n",
            "Formula: C9H7NO\n",
            "SMILES: C1=CC2=C(C(=C1)O)N=CC=C2\n",
            "Mass: 145.052763847\n"
          ]
        }
      ],
      "source": [
        "\n",
        "drug_name = adata.obs[\"drug\"].values[0]\n",
        "cid = int(float(adata.obs[\"pubchem_cid\"].values[0]))\n",
        "compound = pcp.Compound.from_cid(cid)\n",
        "\n",
        "print(f\"Name: {drug_name}\")\n",
        "print(f\"Synonyms: {compound.synonyms[:10]}\")\n",
        "print(f\"Formula: {compound.molecular_formula}\")\n",
        "print(f\"SMILES: {compound.isomeric_smiles}\")\n",
        "print(f\"Mass: {compound.exact_mass}\")"
      ]
    },
    {
      "cell_type": "markdown",
      "id": "2dc7179c",
      "metadata": {
        "id": "2dc7179c"
      },
      "source": [
        "## Load Cell Line Metadata\n",
        "The cell-line metadata contains additional identifiers for the\n",
        "cell-lines used in Tahoe (eg: Depmap-IDs) as well as a curated list of driver mutations for each cell line. This information can be used for instance to train genotype aware models on the Tahoe data."
      ]
    },
    {
      "cell_type": "code",
      "execution_count": 41,
      "id": "6519967a",
      "metadata": {
        "id": "6519967a"
      },
      "outputs": [
        {
          "data": {
            "application/vnd.jupyter.widget-view+json": {
              "model_id": "de8eec45b7bb465985a5bb59f55d262c",
              "version_major": 2,
              "version_minor": 0
            },
            "text/plain": [
              "Resolving data files:   0%|          | 0/3388 [00:00<?, ?it/s]"
            ]
          },
          "metadata": {},
          "output_type": "display_data"
        },
        {
          "data": {
            "text/html": [
              "<div>\n",
              "<style scoped>\n",
              "    .dataframe tbody tr th:only-of-type {\n",
              "        vertical-align: middle;\n",
              "    }\n",
              "\n",
              "    .dataframe tbody tr th {\n",
              "        vertical-align: top;\n",
              "    }\n",
              "\n",
              "    .dataframe thead th {\n",
              "        text-align: right;\n",
              "    }\n",
              "</style>\n",
              "<table border=\"1\" class=\"dataframe\">\n",
              "  <thead>\n",
              "    <tr style=\"text-align: right;\">\n",
              "      <th></th>\n",
              "      <th>cell_name</th>\n",
              "      <th>Cell_ID_DepMap</th>\n",
              "      <th>Cell_ID_Cellosaur</th>\n",
              "      <th>Organ</th>\n",
              "      <th>Driver_Gene_Symbol</th>\n",
              "      <th>Driver_VarZyg</th>\n",
              "      <th>Driver_VarType</th>\n",
              "      <th>Driver_ProtEffect_or_CdnaEffect</th>\n",
              "      <th>Driver_Mech_InferDM</th>\n",
              "      <th>Driver_GeneType_DM</th>\n",
              "    </tr>\n",
              "  </thead>\n",
              "  <tbody>\n",
              "    <tr>\n",
              "      <th>0</th>\n",
              "      <td>A549</td>\n",
              "      <td>ACH-000681</td>\n",
              "      <td>CVCL_0023</td>\n",
              "      <td>Lung</td>\n",
              "      <td>CDKN2A</td>\n",
              "      <td>Hom</td>\n",
              "      <td>Deletion</td>\n",
              "      <td>DEL</td>\n",
              "      <td>LoF</td>\n",
              "      <td>Suppressor</td>\n",
              "    </tr>\n",
              "    <tr>\n",
              "      <th>1</th>\n",
              "      <td>A549</td>\n",
              "      <td>ACH-000681</td>\n",
              "      <td>CVCL_0023</td>\n",
              "      <td>Lung</td>\n",
              "      <td>CDKN2B</td>\n",
              "      <td>Hom</td>\n",
              "      <td>Deletion</td>\n",
              "      <td>DEL</td>\n",
              "      <td>LoF</td>\n",
              "      <td>Suppressor</td>\n",
              "    </tr>\n",
              "    <tr>\n",
              "      <th>2</th>\n",
              "      <td>A549</td>\n",
              "      <td>ACH-000681</td>\n",
              "      <td>CVCL_0023</td>\n",
              "      <td>Lung</td>\n",
              "      <td>KRAS</td>\n",
              "      <td>Hom</td>\n",
              "      <td>Missense</td>\n",
              "      <td>p.G12S</td>\n",
              "      <td>GoF</td>\n",
              "      <td>Oncogene</td>\n",
              "    </tr>\n",
              "    <tr>\n",
              "      <th>3</th>\n",
              "      <td>A549</td>\n",
              "      <td>ACH-000681</td>\n",
              "      <td>CVCL_0023</td>\n",
              "      <td>Lung</td>\n",
              "      <td>SMARCA4</td>\n",
              "      <td>Hom</td>\n",
              "      <td>Frameshift</td>\n",
              "      <td>p.Q729fs</td>\n",
              "      <td>LoF</td>\n",
              "      <td>Suppressor</td>\n",
              "    </tr>\n",
              "    <tr>\n",
              "      <th>4</th>\n",
              "      <td>A549</td>\n",
              "      <td>ACH-000681</td>\n",
              "      <td>CVCL_0023</td>\n",
              "      <td>Lung</td>\n",
              "      <td>STK11</td>\n",
              "      <td>Hom</td>\n",
              "      <td>Stopgain</td>\n",
              "      <td>p.Q37*</td>\n",
              "      <td>LoF</td>\n",
              "      <td>Suppressor</td>\n",
              "    </tr>\n",
              "  </tbody>\n",
              "</table>\n",
              "</div>"
            ],
            "text/plain": [
              "  cell_name Cell_ID_DepMap Cell_ID_Cellosaur Organ Driver_Gene_Symbol  \\\n",
              "0      A549     ACH-000681         CVCL_0023  Lung             CDKN2A   \n",
              "1      A549     ACH-000681         CVCL_0023  Lung             CDKN2B   \n",
              "2      A549     ACH-000681         CVCL_0023  Lung               KRAS   \n",
              "3      A549     ACH-000681         CVCL_0023  Lung            SMARCA4   \n",
              "4      A549     ACH-000681         CVCL_0023  Lung              STK11   \n",
              "\n",
              "  Driver_VarZyg Driver_VarType Driver_ProtEffect_or_CdnaEffect  \\\n",
              "0           Hom       Deletion                             DEL   \n",
              "1           Hom       Deletion                             DEL   \n",
              "2           Hom       Missense                          p.G12S   \n",
              "3           Hom     Frameshift                        p.Q729fs   \n",
              "4           Hom       Stopgain                          p.Q37*   \n",
              "\n",
              "  Driver_Mech_InferDM Driver_GeneType_DM  \n",
              "0                 LoF         Suppressor  \n",
              "1                 LoF         Suppressor  \n",
              "2                 GoF           Oncogene  \n",
              "3                 LoF         Suppressor  \n",
              "4                 LoF         Suppressor  "
            ]
          },
          "execution_count": 41,
          "metadata": {},
          "output_type": "execute_result"
        }
      ],
      "source": [
        "\n",
        "cell_line_metadata = load_dataset(\"vevotx/Tahoe-100M\",\"cell_line_metadata\", split=\"train\").to_pandas()\n",
        "cell_line_metadata.head()"
      ]
    },
    {
      "cell_type": "markdown",
      "id": "218d0758",
      "metadata": {},
      "source": [
        "### Save to data"
      ]
    },
    {
      "cell_type": "code",
      "execution_count": 46,
      "id": "db353a5f",
      "metadata": {},
      "outputs": [],
      "source": [
        "\n",
        "# Save to data\n",
        "adata.write_h5ad(\"/home/ubuntu/anatoly-tahoe-100/datatahoe-100m.h5ad\")\n"
      ]
    },
    {
      "cell_type": "code",
      "execution_count": null,
      "id": "6f903858",
      "metadata": {},
      "outputs": [],
      "source": []
    }
  ],
  "metadata": {
    "colab": {
      "provenance": []
    },
    "kernelspec": {
      "display_name": "Python 3 (ipykernel)",
      "language": "python",
      "name": "python3"
    },
    "language_info": {
      "codemirror_mode": {
        "name": "ipython",
        "version": 3
      },
      "file_extension": ".py",
      "mimetype": "text/x-python",
      "name": "python",
      "nbconvert_exporter": "python",
      "pygments_lexer": "ipython3",
      "version": "3.12.9"
    }
  },
  "nbformat": 4,
  "nbformat_minor": 5
}
