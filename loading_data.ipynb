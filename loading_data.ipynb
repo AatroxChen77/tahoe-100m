{
  "cells": [
    {
      "cell_type": "markdown",
      "id": "b68cf1d8",
      "metadata": {
        "id": "b68cf1d8"
      },
      "source": [
        "# Tutorial: Creating an AnnData Object from Tahoe-100M Dataset\n",
        "This notebook is intented for users who are familiar with the anndata format for single-cell data. We'll walk through how to parse records in the huggingface dataset format and convert between the two."
      ]
    },
    {
      "cell_type": "markdown",
      "id": "fc9a7282",
      "metadata": {
        "id": "fc9a7282"
      },
      "source": [
        "## Install Required Libraries"
      ]
    },
    {
      "cell_type": "code",
      "execution_count": 3,
      "id": "21bab5b0",
      "metadata": {
        "id": "21bab5b0"
      },
      "outputs": [
        {
          "name": "stdout",
          "output_type": "stream",
          "text": [
            "Requirement already satisfied: datasets in ./miniconda3/envs/my_env_model/lib/python3.10/site-packages (3.6.0)\n",
            "Requirement already satisfied: anndata in ./miniconda3/envs/my_env_model/lib/python3.10/site-packages (0.11.4)\n",
            "Requirement already satisfied: scipy in ./miniconda3/envs/my_env_model/lib/python3.10/site-packages (1.15.3)\n",
            "Requirement already satisfied: pandas in ./miniconda3/envs/my_env_model/lib/python3.10/site-packages (2.2.3)\n",
            "Requirement already satisfied: pubchempy in ./miniconda3/envs/my_env_model/lib/python3.10/site-packages (1.0.4)\n",
            "Requirement already satisfied: filelock in ./miniconda3/envs/my_env_model/lib/python3.10/site-packages (from datasets) (3.18.0)\n",
            "Requirement already satisfied: numpy>=1.17 in ./miniconda3/envs/my_env_model/lib/python3.10/site-packages (from datasets) (2.2.6)\n",
            "Requirement already satisfied: pyarrow>=15.0.0 in ./miniconda3/envs/my_env_model/lib/python3.10/site-packages (from datasets) (20.0.0)\n",
            "Requirement already satisfied: dill<0.3.9,>=0.3.0 in ./miniconda3/envs/my_env_model/lib/python3.10/site-packages (from datasets) (0.3.8)\n",
            "Requirement already satisfied: requests>=2.32.2 in ./miniconda3/envs/my_env_model/lib/python3.10/site-packages (from datasets) (2.32.3)\n",
            "Requirement already satisfied: tqdm>=4.66.3 in ./miniconda3/envs/my_env_model/lib/python3.10/site-packages (from datasets) (4.67.1)\n",
            "Requirement already satisfied: xxhash in ./miniconda3/envs/my_env_model/lib/python3.10/site-packages (from datasets) (3.5.0)\n",
            "Requirement already satisfied: multiprocess<0.70.17 in ./miniconda3/envs/my_env_model/lib/python3.10/site-packages (from datasets) (0.70.16)\n",
            "Requirement already satisfied: fsspec<=2025.3.0,>=2023.1.0 in ./miniconda3/envs/my_env_model/lib/python3.10/site-packages (from fsspec[http]<=2025.3.0,>=2023.1.0->datasets) (2025.3.0)\n",
            "Requirement already satisfied: huggingface-hub>=0.24.0 in ./miniconda3/envs/my_env_model/lib/python3.10/site-packages (from datasets) (0.32.3)\n",
            "Requirement already satisfied: packaging in ./miniconda3/envs/my_env_model/lib/python3.10/site-packages (from datasets) (24.2)\n",
            "Requirement already satisfied: pyyaml>=5.1 in ./miniconda3/envs/my_env_model/lib/python3.10/site-packages (from datasets) (6.0.2)\n",
            "Requirement already satisfied: aiohttp!=4.0.0a0,!=4.0.0a1 in ./miniconda3/envs/my_env_model/lib/python3.10/site-packages (from fsspec[http]<=2025.3.0,>=2023.1.0->datasets) (3.12.6)\n",
            "Requirement already satisfied: array-api-compat!=1.5,>1.4 in ./miniconda3/envs/my_env_model/lib/python3.10/site-packages (from anndata) (1.12.0)\n",
            "Requirement already satisfied: exceptiongroup in ./miniconda3/envs/my_env_model/lib/python3.10/site-packages (from anndata) (1.3.0)\n",
            "Requirement already satisfied: h5py>=3.7 in ./miniconda3/envs/my_env_model/lib/python3.10/site-packages (from anndata) (3.13.0)\n",
            "Requirement already satisfied: natsort in ./miniconda3/envs/my_env_model/lib/python3.10/site-packages (from anndata) (8.4.0)\n",
            "Requirement already satisfied: python-dateutil>=2.8.2 in ./miniconda3/envs/my_env_model/lib/python3.10/site-packages (from pandas) (2.9.0.post0)\n",
            "Requirement already satisfied: pytz>=2020.1 in ./miniconda3/envs/my_env_model/lib/python3.10/site-packages (from pandas) (2025.2)\n",
            "Requirement already satisfied: tzdata>=2022.7 in ./miniconda3/envs/my_env_model/lib/python3.10/site-packages (from pandas) (2025.2)\n",
            "Requirement already satisfied: aiohappyeyeballs>=2.5.0 in ./miniconda3/envs/my_env_model/lib/python3.10/site-packages (from aiohttp!=4.0.0a0,!=4.0.0a1->fsspec[http]<=2025.3.0,>=2023.1.0->datasets) (2.6.1)\n",
            "Requirement already satisfied: aiosignal>=1.1.2 in ./miniconda3/envs/my_env_model/lib/python3.10/site-packages (from aiohttp!=4.0.0a0,!=4.0.0a1->fsspec[http]<=2025.3.0,>=2023.1.0->datasets) (1.3.2)\n",
            "Requirement already satisfied: async-timeout<6.0,>=4.0 in ./miniconda3/envs/my_env_model/lib/python3.10/site-packages (from aiohttp!=4.0.0a0,!=4.0.0a1->fsspec[http]<=2025.3.0,>=2023.1.0->datasets) (5.0.1)\n",
            "Requirement already satisfied: attrs>=17.3.0 in ./miniconda3/envs/my_env_model/lib/python3.10/site-packages (from aiohttp!=4.0.0a0,!=4.0.0a1->fsspec[http]<=2025.3.0,>=2023.1.0->datasets) (25.3.0)\n",
            "Requirement already satisfied: frozenlist>=1.1.1 in ./miniconda3/envs/my_env_model/lib/python3.10/site-packages (from aiohttp!=4.0.0a0,!=4.0.0a1->fsspec[http]<=2025.3.0,>=2023.1.0->datasets) (1.6.0)\n",
            "Requirement already satisfied: multidict<7.0,>=4.5 in ./miniconda3/envs/my_env_model/lib/python3.10/site-packages (from aiohttp!=4.0.0a0,!=4.0.0a1->fsspec[http]<=2025.3.0,>=2023.1.0->datasets) (6.4.4)\n",
            "Requirement already satisfied: propcache>=0.2.0 in ./miniconda3/envs/my_env_model/lib/python3.10/site-packages (from aiohttp!=4.0.0a0,!=4.0.0a1->fsspec[http]<=2025.3.0,>=2023.1.0->datasets) (0.3.1)\n",
            "Requirement already satisfied: yarl<2.0,>=1.17.0 in ./miniconda3/envs/my_env_model/lib/python3.10/site-packages (from aiohttp!=4.0.0a0,!=4.0.0a1->fsspec[http]<=2025.3.0,>=2023.1.0->datasets) (1.20.0)\n",
            "Requirement already satisfied: typing-extensions>=4.1.0 in ./miniconda3/envs/my_env_model/lib/python3.10/site-packages (from multidict<7.0,>=4.5->aiohttp!=4.0.0a0,!=4.0.0a1->fsspec[http]<=2025.3.0,>=2023.1.0->datasets) (4.13.2)\n",
            "Requirement already satisfied: idna>=2.0 in ./miniconda3/envs/my_env_model/lib/python3.10/site-packages (from yarl<2.0,>=1.17.0->aiohttp!=4.0.0a0,!=4.0.0a1->fsspec[http]<=2025.3.0,>=2023.1.0->datasets) (3.10)\n",
            "Requirement already satisfied: hf-xet<2.0.0,>=1.1.2 in ./miniconda3/envs/my_env_model/lib/python3.10/site-packages (from huggingface-hub>=0.24.0->datasets) (1.1.2)\n",
            "Requirement already satisfied: six>=1.5 in ./miniconda3/envs/my_env_model/lib/python3.10/site-packages (from python-dateutil>=2.8.2->pandas) (1.17.0)\n",
            "Requirement already satisfied: charset-normalizer<4,>=2 in ./miniconda3/envs/my_env_model/lib/python3.10/site-packages (from requests>=2.32.2->datasets) (3.4.2)\n",
            "Requirement already satisfied: urllib3<3,>=1.21.1 in ./miniconda3/envs/my_env_model/lib/python3.10/site-packages (from requests>=2.32.2->datasets) (2.4.0)\n",
            "Requirement already satisfied: certifi>=2017.4.17 in ./miniconda3/envs/my_env_model/lib/python3.10/site-packages (from requests>=2.32.2->datasets) (2025.4.26)\n"
          ]
        }
      ],
      "source": [
        "!pip install datasets anndata scipy pandas pubchempy"
      ]
    },
    {
      "cell_type": "markdown",
      "id": "7e9bf44e",
      "metadata": {
        "id": "7e9bf44e"
      },
      "source": [
        "## Import Libraries"
      ]
    },
    {
      "cell_type": "code",
      "execution_count": 4,
      "id": "a7589c73",
      "metadata": {
        "id": "a7589c73"
      },
      "outputs": [],
      "source": [
        "\n",
        "from datasets import load_dataset\n",
        "from scipy.sparse import csr_matrix\n",
        "import anndata\n",
        "import pandas as pd\n",
        "import pubchempy as pcp"
      ]
    },
    {
      "cell_type": "markdown",
      "id": "f31cd11c",
      "metadata": {
        "id": "f31cd11c"
      },
      "source": [
        "## Mapping records to anndata\n",
        "\n",
        "This function takes in a generator that emits records from the Tahoe-100M huggingface dataset and returns an anndata object. Use the `sample_size` argument to specify the number of records you need. You can also create a new generator using the `dataset.filter` function to only emit records that match a certain filter (eg: for a specific drug/plate/sample).\n",
        "\n",
        "If you'd like to create a DataLoader for an ML training application, it's likely best to use the data in it's native format without interfacing with anndata."
      ]
    },
    {
      "cell_type": "code",
      "execution_count": 5,
      "id": "f4391697",
      "metadata": {
        "id": "f4391697"
      },
      "outputs": [],
      "source": [
        "\n",
        "def create_anndata_from_generator(generator, gene_vocab, sample_size=None):\n",
        "    sorted_vocab_items = sorted(gene_vocab.items())\n",
        "    token_ids, gene_names = zip(*sorted_vocab_items)\n",
        "    token_id_to_col_idx = {token_id: idx for idx, token_id in enumerate(token_ids)}\n",
        "\n",
        "    data, indices, indptr = [], [], [0]\n",
        "    obs_data = []\n",
        "\n",
        "    for i, cell in enumerate(generator):\n",
        "        if sample_size is not None and i >= sample_size:\n",
        "            break\n",
        "        genes = cell['genes']\n",
        "        expressions = cell['expressions']\n",
        "        if expressions[0] < 0:\n",
        "            genes = genes[1:]\n",
        "            expressions = expressions[1:]\n",
        "\n",
        "        col_indices = [token_id_to_col_idx[gene] for gene in genes if gene in token_id_to_col_idx]\n",
        "        valid_expressions = [expr for gene, expr in zip(genes, expressions) if gene in token_id_to_col_idx]\n",
        "\n",
        "        data.extend(valid_expressions)\n",
        "        indices.extend(col_indices)\n",
        "        indptr.append(len(data))\n",
        "\n",
        "        obs_entry = {k: v for k, v in cell.items() if k not in ['genes', 'expressions']}\n",
        "        obs_data.append(obs_entry)\n",
        "\n",
        "    expr_matrix = csr_matrix((data, indices, indptr), shape=(len(indptr) - 1, len(gene_names)))\n",
        "    obs_df = pd.DataFrame(obs_data)\n",
        "\n",
        "    adata = anndata.AnnData(X=expr_matrix, obs=obs_df)\n",
        "    adata.var.index = pd.Index(gene_names, name='ensembl_id')\n",
        "\n",
        "    return adata\n"
      ]
    },
    {
      "cell_type": "markdown",
      "id": "0cf683cd",
      "metadata": {
        "id": "0cf683cd"
      },
      "source": [
        "## Load Tahoe-100M Dataset"
      ]
    },
    {
      "cell_type": "code",
      "execution_count": 6,
      "id": "80eb5104",
      "metadata": {
        "id": "80eb5104"
      },
      "outputs": [
        {
          "data": {
            "application/vnd.jupyter.widget-view+json": {
              "model_id": "dbaaa25a57c54518a9a41f117835c9b6",
              "version_major": 2,
              "version_minor": 0
            },
            "text/plain": [
              "Resolving data files:   0%|          | 0/3388 [00:00<?, ?it/s]"
            ]
          },
          "metadata": {},
          "output_type": "display_data"
        },
        {
          "data": {
            "application/vnd.jupyter.widget-view+json": {
              "model_id": "240f2e017e334cb6aa5b83ce916aff3c",
              "version_major": 2,
              "version_minor": 0
            },
            "text/plain": [
              "Resolving data files:   0%|          | 0/3388 [00:00<?, ?it/s]"
            ]
          },
          "metadata": {},
          "output_type": "display_data"
        }
      ],
      "source": [
        "\n",
        "tahoe_100m_ds = load_dataset('vevotx/Tahoe-100M', streaming=True, split='train')"
      ]
    },
    {
      "cell_type": "markdown",
      "id": "337f02f2",
      "metadata": {
        "id": "337f02f2"
      },
      "source": [
        "## Load Gene Metadata\n",
        "\n",
        "The gene metadata contains the mapping between the integer token IDs used in the dataset and standard identifiers for genes (ensembl IDs and HGNC gene symbols)"
      ]
    },
    {
      "cell_type": "code",
      "execution_count": 7,
      "id": "a0eeaa83",
      "metadata": {
        "id": "a0eeaa83"
      },
      "outputs": [
        {
          "data": {
            "application/vnd.jupyter.widget-view+json": {
              "model_id": "3662b9a7d8dc432384d0e006a846c997",
              "version_major": 2,
              "version_minor": 0
            },
            "text/plain": [
              "Resolving data files:   0%|          | 0/3388 [00:00<?, ?it/s]"
            ]
          },
          "metadata": {},
          "output_type": "display_data"
        }
      ],
      "source": [
        "\n",
        "gene_metadata = load_dataset(\"vevotx/Tahoe-100M\", name=\"gene_metadata\", split=\"train\")\n",
        "gene_vocab = {entry[\"token_id\"]: entry[\"ensembl_id\"] for entry in gene_metadata}"
      ]
    },
    {
      "cell_type": "markdown",
      "id": "ded9c086",
      "metadata": {
        "id": "ded9c086"
      },
      "source": [
        "## Create AnnData Object"
      ]
    },
    {
      "cell_type": "code",
      "execution_count": 8,
      "id": "6fb1d70d",
      "metadata": {
        "id": "6fb1d70d"
      },
      "outputs": [
        {
          "name": "stderr",
          "output_type": "stream",
          "text": [
            "/home/ubuntu/miniconda3/envs/my_env_model/lib/python3.10/site-packages/anndata/_core/aligned_df.py:68: ImplicitModificationWarning: Transforming to str index.\n",
            "  warnings.warn(\"Transforming to str index.\", ImplicitModificationWarning)\n"
          ]
        },
        {
          "data": {
            "text/plain": [
              "AnnData object with n_obs × n_vars = 5000000 × 62710\n",
              "    obs: 'drug', 'sample', 'BARCODE_SUB_LIB_ID', 'cell_line_id', 'moa-fine', 'canonical_smiles', 'pubchem_cid', 'plate'"
            ]
          },
          "execution_count": 8,
          "metadata": {},
          "output_type": "execute_result"
        }
      ],
      "source": [
        "\n",
        "adata = create_anndata_from_generator(tahoe_100m_ds, gene_vocab, sample_size=5000000)\n",
        "adata"
      ]
    },
    {
      "cell_type": "markdown",
      "id": "c7c07f9e",
      "metadata": {
        "id": "c7c07f9e"
      },
      "source": [
        "## Inspect Metadata (`adata.obs`)"
      ]
    },
    {
      "cell_type": "markdown",
      "id": "ec391116",
      "metadata": {
        "id": "ec391116"
      },
      "source": [
        "## Enrich with Sample Metadata\n",
        "\n",
        "Although the main data contains several metadata fields, there are some additional columns (such as drug concentration) which are omitted to reduce the size of the data. If they are needed, they may be fetched using the sample_metadata."
      ]
    },
    {
      "cell_type": "code",
      "execution_count": 9,
      "id": "657524c8",
      "metadata": {
        "id": "657524c8"
      },
      "outputs": [
        {
          "data": {
            "application/vnd.jupyter.widget-view+json": {
              "model_id": "6155169b2618454ba5eb861b512e08b1",
              "version_major": 2,
              "version_minor": 0
            },
            "text/plain": [
              "Resolving data files:   0%|          | 0/3388 [00:00<?, ?it/s]"
            ]
          },
          "metadata": {},
          "output_type": "display_data"
        },
        {
          "data": {
            "application/vnd.jupyter.widget-view+json": {
              "model_id": "9b806305b64749c69182ac9aa42ebcdc",
              "version_major": 2,
              "version_minor": 0
            },
            "text/plain": [
              "sample_metadata.parquet:   0%|          | 0.00/65.6k [00:00<?, ?B/s]"
            ]
          },
          "metadata": {},
          "output_type": "display_data"
        },
        {
          "data": {
            "application/vnd.jupyter.widget-view+json": {
              "model_id": "83f356ba23754426ae56d5bedfc607e4",
              "version_major": 2,
              "version_minor": 0
            },
            "text/plain": [
              "Generating train split: 0 examples [00:00, ? examples/s]"
            ]
          },
          "metadata": {},
          "output_type": "display_data"
        },
        {
          "data": {
            "text/html": [
              "<div>\n",
              "<style scoped>\n",
              "    .dataframe tbody tr th:only-of-type {\n",
              "        vertical-align: middle;\n",
              "    }\n",
              "\n",
              "    .dataframe tbody tr th {\n",
              "        vertical-align: top;\n",
              "    }\n",
              "\n",
              "    .dataframe thead th {\n",
              "        text-align: right;\n",
              "    }\n",
              "</style>\n",
              "<table border=\"1\" class=\"dataframe\">\n",
              "  <thead>\n",
              "    <tr style=\"text-align: right;\">\n",
              "      <th></th>\n",
              "      <th>drug</th>\n",
              "      <th>sample</th>\n",
              "      <th>BARCODE_SUB_LIB_ID</th>\n",
              "      <th>cell_line_id</th>\n",
              "      <th>moa-fine</th>\n",
              "      <th>canonical_smiles</th>\n",
              "      <th>pubchem_cid</th>\n",
              "      <th>plate</th>\n",
              "      <th>mean_gene_count</th>\n",
              "      <th>mean_tscp_count</th>\n",
              "      <th>mean_mread_count</th>\n",
              "      <th>mean_pcnt_mito</th>\n",
              "      <th>drugname_drugconc</th>\n",
              "    </tr>\n",
              "  </thead>\n",
              "  <tbody>\n",
              "    <tr>\n",
              "      <th>0</th>\n",
              "      <td>8-Hydroxyquinoline</td>\n",
              "      <td>smp_1783</td>\n",
              "      <td>01_001_052-lib_1105</td>\n",
              "      <td>CVCL_0480</td>\n",
              "      <td>unclear</td>\n",
              "      <td>C1=CC2=C(C(=C1)O)N=CC=C2</td>\n",
              "      <td>1923.0</td>\n",
              "      <td>plate4</td>\n",
              "      <td>1478.268171</td>\n",
              "      <td>2341.339094</td>\n",
              "      <td>2738.463797</td>\n",
              "      <td>0.023783</td>\n",
              "      <td>[('8-Hydroxyquinoline', 0.05, 'uM')]</td>\n",
              "    </tr>\n",
              "    <tr>\n",
              "      <th>1</th>\n",
              "      <td>8-Hydroxyquinoline</td>\n",
              "      <td>smp_1783</td>\n",
              "      <td>01_001_105-lib_1105</td>\n",
              "      <td>CVCL_0546</td>\n",
              "      <td>unclear</td>\n",
              "      <td>C1=CC2=C(C(=C1)O)N=CC=C2</td>\n",
              "      <td>1923.0</td>\n",
              "      <td>plate4</td>\n",
              "      <td>1478.268171</td>\n",
              "      <td>2341.339094</td>\n",
              "      <td>2738.463797</td>\n",
              "      <td>0.023783</td>\n",
              "      <td>[('8-Hydroxyquinoline', 0.05, 'uM')]</td>\n",
              "    </tr>\n",
              "    <tr>\n",
              "      <th>2</th>\n",
              "      <td>8-Hydroxyquinoline</td>\n",
              "      <td>smp_1783</td>\n",
              "      <td>01_001_165-lib_1105</td>\n",
              "      <td>CVCL_1717</td>\n",
              "      <td>unclear</td>\n",
              "      <td>C1=CC2=C(C(=C1)O)N=CC=C2</td>\n",
              "      <td>1923.0</td>\n",
              "      <td>plate4</td>\n",
              "      <td>1478.268171</td>\n",
              "      <td>2341.339094</td>\n",
              "      <td>2738.463797</td>\n",
              "      <td>0.023783</td>\n",
              "      <td>[('8-Hydroxyquinoline', 0.05, 'uM')]</td>\n",
              "    </tr>\n",
              "    <tr>\n",
              "      <th>3</th>\n",
              "      <td>8-Hydroxyquinoline</td>\n",
              "      <td>smp_1783</td>\n",
              "      <td>01_003_094-lib_1105</td>\n",
              "      <td>CVCL_1717</td>\n",
              "      <td>unclear</td>\n",
              "      <td>C1=CC2=C(C(=C1)O)N=CC=C2</td>\n",
              "      <td>1923.0</td>\n",
              "      <td>plate4</td>\n",
              "      <td>1478.268171</td>\n",
              "      <td>2341.339094</td>\n",
              "      <td>2738.463797</td>\n",
              "      <td>0.023783</td>\n",
              "      <td>[('8-Hydroxyquinoline', 0.05, 'uM')]</td>\n",
              "    </tr>\n",
              "    <tr>\n",
              "      <th>4</th>\n",
              "      <td>8-Hydroxyquinoline</td>\n",
              "      <td>smp_1783</td>\n",
              "      <td>01_003_164-lib_1105</td>\n",
              "      <td>CVCL_1056</td>\n",
              "      <td>unclear</td>\n",
              "      <td>C1=CC2=C(C(=C1)O)N=CC=C2</td>\n",
              "      <td>1923.0</td>\n",
              "      <td>plate4</td>\n",
              "      <td>1478.268171</td>\n",
              "      <td>2341.339094</td>\n",
              "      <td>2738.463797</td>\n",
              "      <td>0.023783</td>\n",
              "      <td>[('8-Hydroxyquinoline', 0.05, 'uM')]</td>\n",
              "    </tr>\n",
              "  </tbody>\n",
              "</table>\n",
              "</div>"
            ],
            "text/plain": [
              "                 drug    sample   BARCODE_SUB_LIB_ID cell_line_id moa-fine  \\\n",
              "0  8-Hydroxyquinoline  smp_1783  01_001_052-lib_1105    CVCL_0480  unclear   \n",
              "1  8-Hydroxyquinoline  smp_1783  01_001_105-lib_1105    CVCL_0546  unclear   \n",
              "2  8-Hydroxyquinoline  smp_1783  01_001_165-lib_1105    CVCL_1717  unclear   \n",
              "3  8-Hydroxyquinoline  smp_1783  01_003_094-lib_1105    CVCL_1717  unclear   \n",
              "4  8-Hydroxyquinoline  smp_1783  01_003_164-lib_1105    CVCL_1056  unclear   \n",
              "\n",
              "           canonical_smiles pubchem_cid   plate  mean_gene_count  \\\n",
              "0  C1=CC2=C(C(=C1)O)N=CC=C2      1923.0  plate4      1478.268171   \n",
              "1  C1=CC2=C(C(=C1)O)N=CC=C2      1923.0  plate4      1478.268171   \n",
              "2  C1=CC2=C(C(=C1)O)N=CC=C2      1923.0  plate4      1478.268171   \n",
              "3  C1=CC2=C(C(=C1)O)N=CC=C2      1923.0  plate4      1478.268171   \n",
              "4  C1=CC2=C(C(=C1)O)N=CC=C2      1923.0  plate4      1478.268171   \n",
              "\n",
              "   mean_tscp_count  mean_mread_count  mean_pcnt_mito  \\\n",
              "0      2341.339094       2738.463797        0.023783   \n",
              "1      2341.339094       2738.463797        0.023783   \n",
              "2      2341.339094       2738.463797        0.023783   \n",
              "3      2341.339094       2738.463797        0.023783   \n",
              "4      2341.339094       2738.463797        0.023783   \n",
              "\n",
              "                      drugname_drugconc  \n",
              "0  [('8-Hydroxyquinoline', 0.05, 'uM')]  \n",
              "1  [('8-Hydroxyquinoline', 0.05, 'uM')]  \n",
              "2  [('8-Hydroxyquinoline', 0.05, 'uM')]  \n",
              "3  [('8-Hydroxyquinoline', 0.05, 'uM')]  \n",
              "4  [('8-Hydroxyquinoline', 0.05, 'uM')]  "
            ]
          },
          "execution_count": 9,
          "metadata": {},
          "output_type": "execute_result"
        }
      ],
      "source": [
        "\n",
        "sample_metadata = load_dataset(\"vevotx/Tahoe-100M\",\"sample_metadata\", split=\"train\").to_pandas()\n",
        "adata.obs = pd.merge(adata.obs, sample_metadata.drop(columns=[\"drug\",\"plate\"]), on=\"sample\")\n",
        "adata.obs.head()"
      ]
    },
    {
      "cell_type": "markdown",
      "id": "a1504ad7",
      "metadata": {
        "id": "a1504ad7"
      },
      "source": [
        "## Add Drug Metadata\n",
        "\n",
        "The drug metadata contains additional information for the compounds used in Tahoe-100M. See the dataset card and our [paper](https://www.biorxiv.org/content/10.1101/2025.02.20.639398v1) for more information about how this information was generated."
      ]
    },
    {
      "cell_type": "code",
      "execution_count": 10,
      "id": "741c8bcc",
      "metadata": {
        "id": "741c8bcc"
      },
      "outputs": [
        {
          "data": {
            "application/vnd.jupyter.widget-view+json": {
              "model_id": "fb7c0b6a975e47c7a5077b4b4646cc1b",
              "version_major": 2,
              "version_minor": 0
            },
            "text/plain": [
              "Resolving data files:   0%|          | 0/3388 [00:00<?, ?it/s]"
            ]
          },
          "metadata": {},
          "output_type": "display_data"
        },
        {
          "data": {
            "application/vnd.jupyter.widget-view+json": {
              "model_id": "8324799df5f04ffb9d8aa4d9db8de1ad",
              "version_major": 2,
              "version_minor": 0
            },
            "text/plain": [
              "drug_metadata.parquet:   0%|          | 0.00/40.5k [00:00<?, ?B/s]"
            ]
          },
          "metadata": {},
          "output_type": "display_data"
        },
        {
          "data": {
            "application/vnd.jupyter.widget-view+json": {
              "model_id": "5312db2993ec47b88f450dc3b36590b3",
              "version_major": 2,
              "version_minor": 0
            },
            "text/plain": [
              "Generating train split: 0 examples [00:00, ? examples/s]"
            ]
          },
          "metadata": {},
          "output_type": "display_data"
        },
        {
          "ename": "ValueError",
          "evalue": "Length of passed value for obs_names is 4884797, but this AnnData has shape: (5000000, 62710)",
          "output_type": "error",
          "traceback": [
            "\u001b[0;31m---------------------------------------------------------------------------\u001b[0m",
            "\u001b[0;31mValueError\u001b[0m                                Traceback (most recent call last)",
            "Cell \u001b[0;32mIn[10], line 3\u001b[0m\n\u001b[1;32m      1\u001b[0m drug_metadata \u001b[38;5;241m=\u001b[39m load_dataset(\u001b[38;5;124m\"\u001b[39m\u001b[38;5;124mvevotx/Tahoe-100M\u001b[39m\u001b[38;5;124m\"\u001b[39m,\u001b[38;5;124m\"\u001b[39m\u001b[38;5;124mdrug_metadata\u001b[39m\u001b[38;5;124m\"\u001b[39m, split\u001b[38;5;241m=\u001b[39m\u001b[38;5;124m\"\u001b[39m\u001b[38;5;124mtrain\u001b[39m\u001b[38;5;124m\"\u001b[39m)\u001b[38;5;241m.\u001b[39mto_pandas()\n\u001b[0;32m----> 3\u001b[0m \u001b[43madata\u001b[49m\u001b[38;5;241;43m.\u001b[39;49m\u001b[43mobs\u001b[49m \u001b[38;5;241m=\u001b[39m pd\u001b[38;5;241m.\u001b[39mmerge(adata\u001b[38;5;241m.\u001b[39mobs, drug_metadata\u001b[38;5;241m.\u001b[39mdrop(columns\u001b[38;5;241m=\u001b[39m[\u001b[38;5;124m\"\u001b[39m\u001b[38;5;124mcanonical_smiles\u001b[39m\u001b[38;5;124m\"\u001b[39m,\u001b[38;5;124m\"\u001b[39m\u001b[38;5;124mpubchem_cid\u001b[39m\u001b[38;5;124m\"\u001b[39m,\u001b[38;5;124m\"\u001b[39m\u001b[38;5;124mmoa-fine\u001b[39m\u001b[38;5;124m\"\u001b[39m]), on\u001b[38;5;241m=\u001b[39m\u001b[38;5;124m\"\u001b[39m\u001b[38;5;124mdrug\u001b[39m\u001b[38;5;124m\"\u001b[39m)\n\u001b[1;32m      4\u001b[0m adata\u001b[38;5;241m.\u001b[39mobs\u001b[38;5;241m.\u001b[39mhead()\n",
            "File \u001b[0;32m~/miniconda3/envs/my_env_model/lib/python3.10/site-packages/anndata/_core/anndata.py:799\u001b[0m, in \u001b[0;36mAnnData.obs\u001b[0;34m(self, value)\u001b[0m\n\u001b[1;32m    797\u001b[0m \u001b[38;5;129m@obs\u001b[39m\u001b[38;5;241m.\u001b[39msetter\n\u001b[1;32m    798\u001b[0m \u001b[38;5;28;01mdef\u001b[39;00m\u001b[38;5;250m \u001b[39m\u001b[38;5;21mobs\u001b[39m(\u001b[38;5;28mself\u001b[39m, value: pd\u001b[38;5;241m.\u001b[39mDataFrame):\n\u001b[0;32m--> 799\u001b[0m     \u001b[38;5;28;43mself\u001b[39;49m\u001b[38;5;241;43m.\u001b[39;49m\u001b[43m_set_dim_df\u001b[49m\u001b[43m(\u001b[49m\u001b[43mvalue\u001b[49m\u001b[43m,\u001b[49m\u001b[43m \u001b[49m\u001b[38;5;124;43m\"\u001b[39;49m\u001b[38;5;124;43mobs\u001b[39;49m\u001b[38;5;124;43m\"\u001b[39;49m\u001b[43m)\u001b[49m\n",
            "File \u001b[0;32m~/miniconda3/envs/my_env_model/lib/python3.10/site-packages/anndata/_core/anndata.py:740\u001b[0m, in \u001b[0;36mAnnData._set_dim_df\u001b[0;34m(self, value, attr)\u001b[0m\n\u001b[1;32m    738\u001b[0m     \u001b[38;5;28;01mraise\u001b[39;00m \u001b[38;5;167;01mValueError\u001b[39;00m(msg)\n\u001b[1;32m    739\u001b[0m raise_value_error_if_multiindex_columns(value, attr)\n\u001b[0;32m--> 740\u001b[0m value_idx \u001b[38;5;241m=\u001b[39m \u001b[38;5;28;43mself\u001b[39;49m\u001b[38;5;241;43m.\u001b[39;49m\u001b[43m_prep_dim_index\u001b[49m\u001b[43m(\u001b[49m\u001b[43mvalue\u001b[49m\u001b[38;5;241;43m.\u001b[39;49m\u001b[43mindex\u001b[49m\u001b[43m,\u001b[49m\u001b[43m \u001b[49m\u001b[43mattr\u001b[49m\u001b[43m)\u001b[49m\n\u001b[1;32m    741\u001b[0m \u001b[38;5;28;01mif\u001b[39;00m \u001b[38;5;28mself\u001b[39m\u001b[38;5;241m.\u001b[39mis_view:\n\u001b[1;32m    742\u001b[0m     \u001b[38;5;28mself\u001b[39m\u001b[38;5;241m.\u001b[39m_init_as_actual(\u001b[38;5;28mself\u001b[39m\u001b[38;5;241m.\u001b[39mcopy())\n",
            "File \u001b[0;32m~/miniconda3/envs/my_env_model/lib/python3.10/site-packages/anndata/_core/anndata.py:755\u001b[0m, in \u001b[0;36mAnnData._prep_dim_index\u001b[0;34m(self, value, attr)\u001b[0m\n\u001b[1;32m    753\u001b[0m \u001b[38;5;28;01mif\u001b[39;00m \u001b[38;5;28mself\u001b[39m\u001b[38;5;241m.\u001b[39mshape[attr \u001b[38;5;241m==\u001b[39m \u001b[38;5;124m\"\u001b[39m\u001b[38;5;124mvar\u001b[39m\u001b[38;5;124m\"\u001b[39m] \u001b[38;5;241m!=\u001b[39m \u001b[38;5;28mlen\u001b[39m(value):\n\u001b[1;32m    754\u001b[0m     msg \u001b[38;5;241m=\u001b[39m \u001b[38;5;124mf\u001b[39m\u001b[38;5;124m\"\u001b[39m\u001b[38;5;124mLength of passed value for \u001b[39m\u001b[38;5;132;01m{\u001b[39;00mattr\u001b[38;5;132;01m}\u001b[39;00m\u001b[38;5;124m_names is \u001b[39m\u001b[38;5;132;01m{\u001b[39;00m\u001b[38;5;28mlen\u001b[39m(value)\u001b[38;5;132;01m}\u001b[39;00m\u001b[38;5;124m, but this AnnData has shape: \u001b[39m\u001b[38;5;132;01m{\u001b[39;00m\u001b[38;5;28mself\u001b[39m\u001b[38;5;241m.\u001b[39mshape\u001b[38;5;132;01m}\u001b[39;00m\u001b[38;5;124m\"\u001b[39m\n\u001b[0;32m--> 755\u001b[0m     \u001b[38;5;28;01mraise\u001b[39;00m \u001b[38;5;167;01mValueError\u001b[39;00m(msg)\n\u001b[1;32m    756\u001b[0m \u001b[38;5;28;01mif\u001b[39;00m \u001b[38;5;28misinstance\u001b[39m(value, pd\u001b[38;5;241m.\u001b[39mIndex) \u001b[38;5;129;01mand\u001b[39;00m \u001b[38;5;129;01mnot\u001b[39;00m \u001b[38;5;28misinstance\u001b[39m(value\u001b[38;5;241m.\u001b[39mname, \u001b[38;5;28mstr\u001b[39m \u001b[38;5;241m|\u001b[39m \u001b[38;5;28mtype\u001b[39m(\u001b[38;5;28;01mNone\u001b[39;00m)):\n\u001b[1;32m    757\u001b[0m     msg \u001b[38;5;241m=\u001b[39m (\n\u001b[1;32m    758\u001b[0m         \u001b[38;5;124mf\u001b[39m\u001b[38;5;124m\"\u001b[39m\u001b[38;5;124mAnnData expects .\u001b[39m\u001b[38;5;132;01m{\u001b[39;00mattr\u001b[38;5;132;01m}\u001b[39;00m\u001b[38;5;124m.index.name to be a string or None, \u001b[39m\u001b[38;5;124m\"\u001b[39m\n\u001b[1;32m    759\u001b[0m         \u001b[38;5;124mf\u001b[39m\u001b[38;5;124m\"\u001b[39m\u001b[38;5;124mbut you passed a name of type \u001b[39m\u001b[38;5;132;01m{\u001b[39;00m\u001b[38;5;28mtype\u001b[39m(value\u001b[38;5;241m.\u001b[39mname)\u001b[38;5;241m.\u001b[39m\u001b[38;5;18m__name__\u001b[39m\u001b[38;5;132;01m!r}\u001b[39;00m\u001b[38;5;124m\"\u001b[39m\n\u001b[1;32m    760\u001b[0m     )\n",
            "\u001b[0;31mValueError\u001b[0m: Length of passed value for obs_names is 4884797, but this AnnData has shape: (5000000, 62710)"
          ]
        }
      ],
      "source": [
        "drug_metadata = load_dataset(\"vevotx/Tahoe-100M\",\"drug_metadata\", split=\"train\").to_pandas()\n",
        "\n",
        "adata.obs = pd.merge(adata.obs, drug_metadata.drop(columns=[\"canonical_smiles\",\"pubchem_cid\",\"moa-fine\"]), on=\"drug\")\n",
        "adata.obs.head()"
      ]
    },
    {
      "cell_type": "markdown",
      "id": "d7eb71ff",
      "metadata": {
        "id": "d7eb71ff"
      },
      "source": [
        "## Drug Info from PubChem\n",
        "\n",
        "We also provide the pubchem IDs for the compounds in Tahoe, this can be used to querry additional information as needed."
      ]
    },
    {
      "cell_type": "code",
      "execution_count": 11,
      "id": "05d74c80",
      "metadata": {
        "id": "05d74c80"
      },
      "outputs": [
        {
          "name": "stdout",
          "output_type": "stream",
          "text": [
            "Name: 8-Hydroxyquinoline\n",
            "Synonyms: ['8-HYDROXYQUINOLINE', 'quinolin-8-ol', '148-24-3', 'Oxyquinoline', 'Oxine', 'Quinophenol', 'Oxychinolin', '8-Quinol', '8-Oxyquinoline', 'Phenopyridine']\n",
            "Formula: C9H7NO\n",
            "SMILES: C1=CC2=C(C(=C1)O)N=CC=C2\n",
            "Mass: 145.052763847\n"
          ]
        }
      ],
      "source": [
        "\n",
        "drug_name = adata.obs[\"drug\"].values[0]\n",
        "cid = int(float(adata.obs[\"pubchem_cid\"].values[0]))\n",
        "compound = pcp.Compound.from_cid(cid)\n",
        "\n",
        "print(f\"Name: {drug_name}\")\n",
        "print(f\"Synonyms: {compound.synonyms[:10]}\")\n",
        "print(f\"Formula: {compound.molecular_formula}\")\n",
        "print(f\"SMILES: {compound.isomeric_smiles}\")\n",
        "print(f\"Mass: {compound.exact_mass}\")"
      ]
    },
    {
      "cell_type": "markdown",
      "id": "2dc7179c",
      "metadata": {
        "id": "2dc7179c"
      },
      "source": [
        "## Load Cell Line Metadata\n",
        "The cell-line metadata contains additional identifiers for the\n",
        "cell-lines used in Tahoe (eg: Depmap-IDs) as well as a curated list of driver mutations for each cell line. This information can be used for instance to train genotype aware models on the Tahoe data."
      ]
    },
    {
      "cell_type": "code",
      "execution_count": 12,
      "id": "6519967a",
      "metadata": {
        "id": "6519967a"
      },
      "outputs": [
        {
          "data": {
            "application/vnd.jupyter.widget-view+json": {
              "model_id": "ee1b0d1c74ea49c2b84f61d27afe4e85",
              "version_major": 2,
              "version_minor": 0
            },
            "text/plain": [
              "Resolving data files:   0%|          | 0/3388 [00:00<?, ?it/s]"
            ]
          },
          "metadata": {},
          "output_type": "display_data"
        },
        {
          "data": {
            "application/vnd.jupyter.widget-view+json": {
              "model_id": "55432dabda6f4cb88102edabd8aaa356",
              "version_major": 2,
              "version_minor": 0
            },
            "text/plain": [
              "cell_line_metadata.parquet:   0%|          | 0.00/19.0k [00:00<?, ?B/s]"
            ]
          },
          "metadata": {},
          "output_type": "display_data"
        },
        {
          "data": {
            "application/vnd.jupyter.widget-view+json": {
              "model_id": "79b52cfd8f9a4fc1ae9f89b3e5227cab",
              "version_major": 2,
              "version_minor": 0
            },
            "text/plain": [
              "Generating train split: 0 examples [00:00, ? examples/s]"
            ]
          },
          "metadata": {},
          "output_type": "display_data"
        },
        {
          "data": {
            "text/html": [
              "<div>\n",
              "<style scoped>\n",
              "    .dataframe tbody tr th:only-of-type {\n",
              "        vertical-align: middle;\n",
              "    }\n",
              "\n",
              "    .dataframe tbody tr th {\n",
              "        vertical-align: top;\n",
              "    }\n",
              "\n",
              "    .dataframe thead th {\n",
              "        text-align: right;\n",
              "    }\n",
              "</style>\n",
              "<table border=\"1\" class=\"dataframe\">\n",
              "  <thead>\n",
              "    <tr style=\"text-align: right;\">\n",
              "      <th></th>\n",
              "      <th>cell_name</th>\n",
              "      <th>Cell_ID_DepMap</th>\n",
              "      <th>Cell_ID_Cellosaur</th>\n",
              "      <th>Organ</th>\n",
              "      <th>Driver_Gene_Symbol</th>\n",
              "      <th>Driver_VarZyg</th>\n",
              "      <th>Driver_VarType</th>\n",
              "      <th>Driver_ProtEffect_or_CdnaEffect</th>\n",
              "      <th>Driver_Mech_InferDM</th>\n",
              "      <th>Driver_GeneType_DM</th>\n",
              "    </tr>\n",
              "  </thead>\n",
              "  <tbody>\n",
              "    <tr>\n",
              "      <th>0</th>\n",
              "      <td>A549</td>\n",
              "      <td>ACH-000681</td>\n",
              "      <td>CVCL_0023</td>\n",
              "      <td>Lung</td>\n",
              "      <td>CDKN2A</td>\n",
              "      <td>Hom</td>\n",
              "      <td>Deletion</td>\n",
              "      <td>DEL</td>\n",
              "      <td>LoF</td>\n",
              "      <td>Suppressor</td>\n",
              "    </tr>\n",
              "    <tr>\n",
              "      <th>1</th>\n",
              "      <td>A549</td>\n",
              "      <td>ACH-000681</td>\n",
              "      <td>CVCL_0023</td>\n",
              "      <td>Lung</td>\n",
              "      <td>CDKN2B</td>\n",
              "      <td>Hom</td>\n",
              "      <td>Deletion</td>\n",
              "      <td>DEL</td>\n",
              "      <td>LoF</td>\n",
              "      <td>Suppressor</td>\n",
              "    </tr>\n",
              "    <tr>\n",
              "      <th>2</th>\n",
              "      <td>A549</td>\n",
              "      <td>ACH-000681</td>\n",
              "      <td>CVCL_0023</td>\n",
              "      <td>Lung</td>\n",
              "      <td>KRAS</td>\n",
              "      <td>Hom</td>\n",
              "      <td>Missense</td>\n",
              "      <td>p.G12S</td>\n",
              "      <td>GoF</td>\n",
              "      <td>Oncogene</td>\n",
              "    </tr>\n",
              "    <tr>\n",
              "      <th>3</th>\n",
              "      <td>A549</td>\n",
              "      <td>ACH-000681</td>\n",
              "      <td>CVCL_0023</td>\n",
              "      <td>Lung</td>\n",
              "      <td>SMARCA4</td>\n",
              "      <td>Hom</td>\n",
              "      <td>Frameshift</td>\n",
              "      <td>p.Q729fs</td>\n",
              "      <td>LoF</td>\n",
              "      <td>Suppressor</td>\n",
              "    </tr>\n",
              "    <tr>\n",
              "      <th>4</th>\n",
              "      <td>A549</td>\n",
              "      <td>ACH-000681</td>\n",
              "      <td>CVCL_0023</td>\n",
              "      <td>Lung</td>\n",
              "      <td>STK11</td>\n",
              "      <td>Hom</td>\n",
              "      <td>Stopgain</td>\n",
              "      <td>p.Q37*</td>\n",
              "      <td>LoF</td>\n",
              "      <td>Suppressor</td>\n",
              "    </tr>\n",
              "  </tbody>\n",
              "</table>\n",
              "</div>"
            ],
            "text/plain": [
              "  cell_name Cell_ID_DepMap Cell_ID_Cellosaur Organ Driver_Gene_Symbol  \\\n",
              "0      A549     ACH-000681         CVCL_0023  Lung             CDKN2A   \n",
              "1      A549     ACH-000681         CVCL_0023  Lung             CDKN2B   \n",
              "2      A549     ACH-000681         CVCL_0023  Lung               KRAS   \n",
              "3      A549     ACH-000681         CVCL_0023  Lung            SMARCA4   \n",
              "4      A549     ACH-000681         CVCL_0023  Lung              STK11   \n",
              "\n",
              "  Driver_VarZyg Driver_VarType Driver_ProtEffect_or_CdnaEffect  \\\n",
              "0           Hom       Deletion                             DEL   \n",
              "1           Hom       Deletion                             DEL   \n",
              "2           Hom       Missense                          p.G12S   \n",
              "3           Hom     Frameshift                        p.Q729fs   \n",
              "4           Hom       Stopgain                          p.Q37*   \n",
              "\n",
              "  Driver_Mech_InferDM Driver_GeneType_DM  \n",
              "0                 LoF         Suppressor  \n",
              "1                 LoF         Suppressor  \n",
              "2                 GoF           Oncogene  \n",
              "3                 LoF         Suppressor  \n",
              "4                 LoF         Suppressor  "
            ]
          },
          "execution_count": 12,
          "metadata": {},
          "output_type": "execute_result"
        }
      ],
      "source": [
        "\n",
        "cell_line_metadata = load_dataset(\"vevotx/Tahoe-100M\",\"cell_line_metadata\", split=\"train\").to_pandas()\n",
        "cell_line_metadata.head()"
      ]
    },
    {
      "cell_type": "markdown",
      "id": "a98bf220",
      "metadata": {},
      "source": [
        "### Save results"
      ]
    },
    {
      "cell_type": "code",
      "execution_count": 18,
      "id": "80682a07",
      "metadata": {},
      "outputs": [],
      "source": [
        "\n",
        "# save cell line data\n",
        "cell_line_metadata.to_csv(\"/home/ubuntu/anatoly-tahoe-100/data/cell_line.csv\")\n"
      ]
    },
    {
      "cell_type": "markdown",
      "id": "218d0758",
      "metadata": {},
      "source": [
        "### Save to adata"
      ]
    },
    {
      "cell_type": "code",
      "execution_count": 17,
      "id": "db353a5f",
      "metadata": {},
      "outputs": [],
      "source": [
        "\n",
        "# Save to data\n",
        "adata.write_h5ad(\"/home/ubuntu/anatoly-tahoe-100/datatahoe-100m_5M.h5ad\")\n"
      ]
    }
  ],
  "metadata": {
    "colab": {
      "provenance": []
    },
    "kernelspec": {
      "display_name": "Python 3 (ipykernel)",
      "language": "python",
      "name": "python3"
    },
    "language_info": {
      "codemirror_mode": {
        "name": "ipython",
        "version": 3
      },
      "file_extension": ".py",
      "mimetype": "text/x-python",
      "name": "python",
      "nbconvert_exporter": "python",
      "pygments_lexer": "ipython3",
      "version": "3.10.16"
    }
  },
  "nbformat": 4,
  "nbformat_minor": 5
}
