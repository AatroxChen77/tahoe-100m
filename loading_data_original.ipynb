{
  "cells": [
    {
      "cell_type": "markdown",
      "id": "b68cf1d8",
      "metadata": {
        "id": "b68cf1d8"
      },
      "source": [
        "# Tutorial: Creating an AnnData Object from Tahoe-100M Dataset\n",
        "This notebook is intented for users who are familiar with the anndata format for single-cell data. We'll walk through how to parse records in the huggingface dataset format and convert between the two."
      ]
    },
    {
      "cell_type": "markdown",
      "id": "fc9a7282",
      "metadata": {
        "id": "fc9a7282"
      },
      "source": [
        "## Install Required Libraries"
      ]
    },
    {
      "cell_type": "code",
      "execution_count": 1,
      "id": "21bab5b0",
      "metadata": {
        "id": "21bab5b0"
      },
      "outputs": [],
      "source": [
        "#!pip install datasets anndata scipy pandas pubchempy"
      ]
    },
    {
      "cell_type": "markdown",
      "id": "7e9bf44e",
      "metadata": {
        "id": "7e9bf44e"
      },
      "source": [
        "## Import Libraries"
      ]
    },
    {
      "cell_type": "code",
      "execution_count": 64,
      "id": "a7589c73",
      "metadata": {
        "id": "a7589c73"
      },
      "outputs": [],
      "source": [
        "\n",
        "from datasets import load_dataset\n",
        "from scipy.sparse import csr_matrix\n",
        "import anndata\n",
        "import pandas as pd\n",
        "import pubchempy as pcp\n",
        "import numpy as np\n",
        "import ast"
      ]
    },
    {
      "cell_type": "markdown",
      "id": "f31cd11c",
      "metadata": {
        "id": "f31cd11c"
      },
      "source": [
        "## Mapping records to anndata\n",
        "\n",
        "This function takes in a generator that emits records from the Tahoe-100M huggingface dataset and returns an anndata object. Use the `sample_size` argument to specify the number of records you need. You can also create a new generator using the `dataset.filter` function to only emit records that match a certain filter (eg: for a specific drug/plate/sample).\n",
        "\n",
        "If you'd like to create a DataLoader for an ML training application, it's likely best to use the data in it's native format without interfacing with anndata."
      ]
    },
    {
      "cell_type": "code",
      "execution_count": 3,
      "id": "f4391697",
      "metadata": {
        "id": "f4391697"
      },
      "outputs": [],
      "source": [
        "\n",
        "def create_anndata_from_generator(generator, gene_vocab, sample_size=None):\n",
        "    sorted_vocab_items = sorted(gene_vocab.items())\n",
        "    token_ids, gene_names = zip(*sorted_vocab_items)\n",
        "    token_id_to_col_idx = {token_id: idx for idx, token_id in enumerate(token_ids)}\n",
        "\n",
        "    data, indices, indptr = [], [], [0]\n",
        "    obs_data = []\n",
        "\n",
        "    for i, cell in enumerate(generator):\n",
        "        if sample_size is not None and i >= sample_size:\n",
        "            break\n",
        "        genes = cell['genes']\n",
        "        expressions = cell['expressions']\n",
        "        if expressions[0] < 0:\n",
        "            genes = genes[1:]\n",
        "            expressions = expressions[1:]\n",
        "\n",
        "        col_indices = [token_id_to_col_idx[gene] for gene in genes if gene in token_id_to_col_idx]\n",
        "        valid_expressions = [expr for gene, expr in zip(genes, expressions) if gene in token_id_to_col_idx]\n",
        "\n",
        "        data.extend(valid_expressions)\n",
        "        indices.extend(col_indices)\n",
        "        indptr.append(len(data))\n",
        "\n",
        "        obs_entry = {k: v for k, v in cell.items() if k not in ['genes', 'expressions']}\n",
        "        obs_data.append(obs_entry)\n",
        "\n",
        "    expr_matrix = csr_matrix((data, indices, indptr), shape=(len(indptr) - 1, len(gene_names)))\n",
        "    obs_df = pd.DataFrame(obs_data)\n",
        "\n",
        "    adata = anndata.AnnData(X=expr_matrix, obs=obs_df)\n",
        "    adata.var.index = pd.Index(gene_names, name='ensembl_id')\n",
        "\n",
        "    return adata\n"
      ]
    },
    {
      "cell_type": "markdown",
      "id": "0cf683cd",
      "metadata": {
        "id": "0cf683cd"
      },
      "source": [
        "## Load Tahoe-100M Dataset"
      ]
    },
    {
      "cell_type": "code",
      "execution_count": 4,
      "id": "80eb5104",
      "metadata": {
        "id": "80eb5104"
      },
      "outputs": [
        {
          "data": {
            "application/vnd.jupyter.widget-view+json": {
              "model_id": "0a3612a2e5dd4c21909d6360d30f8846",
              "version_major": 2,
              "version_minor": 0
            },
            "text/plain": [
              "Resolving data files:   0%|          | 0/3388 [00:00<?, ?it/s]"
            ]
          },
          "metadata": {},
          "output_type": "display_data"
        },
        {
          "data": {
            "application/vnd.jupyter.widget-view+json": {
              "model_id": "334c398b1c4344848bae0e7ee1b43c44",
              "version_major": 2,
              "version_minor": 0
            },
            "text/plain": [
              "Resolving data files:   0%|          | 0/3388 [00:00<?, ?it/s]"
            ]
          },
          "metadata": {},
          "output_type": "display_data"
        }
      ],
      "source": [
        "\n",
        "# setup dataset\n",
        "tahoe_100m_ds = load_dataset('vevotx/Tahoe-100M', streaming=True, split='train')\n"
      ]
    },
    {
      "cell_type": "markdown",
      "id": "337f02f2",
      "metadata": {
        "id": "337f02f2"
      },
      "source": [
        "## Load Gene Metadata\n",
        "\n",
        "The gene metadata contains the mapping between the integer token IDs used in the dataset and standard identifiers for genes (ensembl IDs and HGNC gene symbols)"
      ]
    },
    {
      "cell_type": "code",
      "execution_count": 6,
      "id": "a0eeaa83",
      "metadata": {
        "id": "a0eeaa83"
      },
      "outputs": [
        {
          "data": {
            "application/vnd.jupyter.widget-view+json": {
              "model_id": "e64fa9c203f54839be77eec1900864c6",
              "version_major": 2,
              "version_minor": 0
            },
            "text/plain": [
              "Resolving data files:   0%|          | 0/3388 [00:00<?, ?it/s]"
            ]
          },
          "metadata": {},
          "output_type": "display_data"
        },
        {
          "data": {
            "application/vnd.jupyter.widget-view+json": {
              "model_id": "36df8363cb2844978c30e76241e7cc14",
              "version_major": 2,
              "version_minor": 0
            },
            "text/plain": [
              "gene_metadata.parquet:   0%|          | 0.00/1.33M [00:00<?, ?B/s]"
            ]
          },
          "metadata": {},
          "output_type": "display_data"
        },
        {
          "data": {
            "application/vnd.jupyter.widget-view+json": {
              "model_id": "efbc242241c24438b3169d6a8514a502",
              "version_major": 2,
              "version_minor": 0
            },
            "text/plain": [
              "Generating train split: 0 examples [00:00, ? examples/s]"
            ]
          },
          "metadata": {},
          "output_type": "display_data"
        }
      ],
      "source": [
        "\n",
        "gene_metadata = load_dataset(\"vevotx/Tahoe-100M\", name=\"gene_metadata\", split=\"train\")\n",
        "gene_vocab = {entry[\"token_id\"]: entry[\"ensembl_id\"] for entry in gene_metadata}\n"
      ]
    },
    {
      "cell_type": "markdown",
      "id": "ded9c086",
      "metadata": {
        "id": "ded9c086"
      },
      "source": [
        "## Create AnnData Object"
      ]
    },
    {
      "cell_type": "code",
      "execution_count": null,
      "id": "6fb1d70d",
      "metadata": {
        "id": "6fb1d70d"
      },
      "outputs": [],
      "source": [
        "adata = create_anndata_from_generator(tahoe_100m_ds, gene_vocab, sample_size=1000000)\n",
        "adata"
      ]
    },
    {
      "cell_type": "markdown",
      "id": "c7c07f9e",
      "metadata": {
        "id": "c7c07f9e"
      },
      "source": [
        "## Inspect Metadata (`adata.obs`)"
      ]
    },
    {
      "cell_type": "code",
      "execution_count": 10,
      "id": "15214a5c",
      "metadata": {
        "id": "15214a5c"
      },
      "outputs": [
        {
          "data": {
            "text/html": [
              "<div>\n",
              "<style scoped>\n",
              "    .dataframe tbody tr th:only-of-type {\n",
              "        vertical-align: middle;\n",
              "    }\n",
              "\n",
              "    .dataframe tbody tr th {\n",
              "        vertical-align: top;\n",
              "    }\n",
              "\n",
              "    .dataframe thead th {\n",
              "        text-align: right;\n",
              "    }\n",
              "</style>\n",
              "<table border=\"1\" class=\"dataframe\">\n",
              "  <thead>\n",
              "    <tr style=\"text-align: right;\">\n",
              "      <th></th>\n",
              "      <th>drug</th>\n",
              "      <th>sample</th>\n",
              "      <th>BARCODE_SUB_LIB_ID</th>\n",
              "      <th>cell_line_id</th>\n",
              "      <th>moa-fine</th>\n",
              "      <th>canonical_smiles</th>\n",
              "      <th>pubchem_cid</th>\n",
              "      <th>plate</th>\n",
              "    </tr>\n",
              "  </thead>\n",
              "  <tbody>\n",
              "    <tr>\n",
              "      <th>0</th>\n",
              "      <td>8-Hydroxyquinoline</td>\n",
              "      <td>smp_1783</td>\n",
              "      <td>01_001_052-lib_1105</td>\n",
              "      <td>CVCL_0480</td>\n",
              "      <td>unclear</td>\n",
              "      <td>C1=CC2=C(C(=C1)O)N=CC=C2</td>\n",
              "      <td>1923.0</td>\n",
              "      <td>plate4</td>\n",
              "    </tr>\n",
              "    <tr>\n",
              "      <th>1</th>\n",
              "      <td>8-Hydroxyquinoline</td>\n",
              "      <td>smp_1783</td>\n",
              "      <td>01_001_105-lib_1105</td>\n",
              "      <td>CVCL_0546</td>\n",
              "      <td>unclear</td>\n",
              "      <td>C1=CC2=C(C(=C1)O)N=CC=C2</td>\n",
              "      <td>1923.0</td>\n",
              "      <td>plate4</td>\n",
              "    </tr>\n",
              "    <tr>\n",
              "      <th>2</th>\n",
              "      <td>8-Hydroxyquinoline</td>\n",
              "      <td>smp_1783</td>\n",
              "      <td>01_001_165-lib_1105</td>\n",
              "      <td>CVCL_1717</td>\n",
              "      <td>unclear</td>\n",
              "      <td>C1=CC2=C(C(=C1)O)N=CC=C2</td>\n",
              "      <td>1923.0</td>\n",
              "      <td>plate4</td>\n",
              "    </tr>\n",
              "    <tr>\n",
              "      <th>3</th>\n",
              "      <td>8-Hydroxyquinoline</td>\n",
              "      <td>smp_1783</td>\n",
              "      <td>01_003_094-lib_1105</td>\n",
              "      <td>CVCL_1717</td>\n",
              "      <td>unclear</td>\n",
              "      <td>C1=CC2=C(C(=C1)O)N=CC=C2</td>\n",
              "      <td>1923.0</td>\n",
              "      <td>plate4</td>\n",
              "    </tr>\n",
              "    <tr>\n",
              "      <th>4</th>\n",
              "      <td>8-Hydroxyquinoline</td>\n",
              "      <td>smp_1783</td>\n",
              "      <td>01_003_164-lib_1105</td>\n",
              "      <td>CVCL_1056</td>\n",
              "      <td>unclear</td>\n",
              "      <td>C1=CC2=C(C(=C1)O)N=CC=C2</td>\n",
              "      <td>1923.0</td>\n",
              "      <td>plate4</td>\n",
              "    </tr>\n",
              "  </tbody>\n",
              "</table>\n",
              "</div>"
            ],
            "text/plain": [
              "                 drug    sample   BARCODE_SUB_LIB_ID cell_line_id moa-fine  \\\n",
              "0  8-Hydroxyquinoline  smp_1783  01_001_052-lib_1105    CVCL_0480  unclear   \n",
              "1  8-Hydroxyquinoline  smp_1783  01_001_105-lib_1105    CVCL_0546  unclear   \n",
              "2  8-Hydroxyquinoline  smp_1783  01_001_165-lib_1105    CVCL_1717  unclear   \n",
              "3  8-Hydroxyquinoline  smp_1783  01_003_094-lib_1105    CVCL_1717  unclear   \n",
              "4  8-Hydroxyquinoline  smp_1783  01_003_164-lib_1105    CVCL_1056  unclear   \n",
              "\n",
              "           canonical_smiles pubchem_cid   plate  \n",
              "0  C1=CC2=C(C(=C1)O)N=CC=C2      1923.0  plate4  \n",
              "1  C1=CC2=C(C(=C1)O)N=CC=C2      1923.0  plate4  \n",
              "2  C1=CC2=C(C(=C1)O)N=CC=C2      1923.0  plate4  \n",
              "3  C1=CC2=C(C(=C1)O)N=CC=C2      1923.0  plate4  \n",
              "4  C1=CC2=C(C(=C1)O)N=CC=C2      1923.0  plate4  "
            ]
          },
          "execution_count": 10,
          "metadata": {},
          "output_type": "execute_result"
        }
      ],
      "source": [
        "adata.obs.head()"
      ]
    },
    {
      "cell_type": "markdown",
      "id": "ec391116",
      "metadata": {
        "id": "ec391116"
      },
      "source": [
        "## Enrich with Sample Metadata\n",
        "\n",
        "Although the main data contains several metadata fields, there are some additional columns (such as drug concentration) which are omitted to reduce the size of the data. If they are needed, they may be fetched using the sample_metadata."
      ]
    },
    {
      "cell_type": "code",
      "execution_count": 51,
      "id": "657524c8",
      "metadata": {
        "id": "657524c8"
      },
      "outputs": [
        {
          "data": {
            "application/vnd.jupyter.widget-view+json": {
              "model_id": "48b2b76f41024aab9c94da1ede5edb3e",
              "version_major": 2,
              "version_minor": 0
            },
            "text/plain": [
              "Resolving data files:   0%|          | 0/3388 [00:00<?, ?it/s]"
            ]
          },
          "metadata": {},
          "output_type": "display_data"
        },
        {
          "data": {
            "text/html": [
              "<div>\n",
              "<style scoped>\n",
              "    .dataframe tbody tr th:only-of-type {\n",
              "        vertical-align: middle;\n",
              "    }\n",
              "\n",
              "    .dataframe tbody tr th {\n",
              "        vertical-align: top;\n",
              "    }\n",
              "\n",
              "    .dataframe thead th {\n",
              "        text-align: right;\n",
              "    }\n",
              "</style>\n",
              "<table border=\"1\" class=\"dataframe\">\n",
              "  <thead>\n",
              "    <tr style=\"text-align: right;\">\n",
              "      <th></th>\n",
              "      <th>drug</th>\n",
              "      <th>sample</th>\n",
              "      <th>BARCODE_SUB_LIB_ID</th>\n",
              "      <th>cell_line_id</th>\n",
              "      <th>moa-fine</th>\n",
              "      <th>canonical_smiles</th>\n",
              "      <th>pubchem_cid</th>\n",
              "      <th>plate</th>\n",
              "      <th>targets_x</th>\n",
              "      <th>moa-broad_x</th>\n",
              "      <th>...</th>\n",
              "      <th>targets_y</th>\n",
              "      <th>moa-broad_y</th>\n",
              "      <th>human-approved_y</th>\n",
              "      <th>clinical-trials_y</th>\n",
              "      <th>gpt-notes-approval_y</th>\n",
              "      <th>mean_gene_count</th>\n",
              "      <th>mean_tscp_count</th>\n",
              "      <th>mean_mread_count</th>\n",
              "      <th>mean_pcnt_mito</th>\n",
              "      <th>drugname_drugconc</th>\n",
              "    </tr>\n",
              "  </thead>\n",
              "  <tbody>\n",
              "    <tr>\n",
              "      <th>0</th>\n",
              "      <td>8-Hydroxyquinoline</td>\n",
              "      <td>smp_1783</td>\n",
              "      <td>01_001_052-lib_1105</td>\n",
              "      <td>CVCL_0480</td>\n",
              "      <td>unclear</td>\n",
              "      <td>C1=CC2=C(C(=C1)O)N=CC=C2</td>\n",
              "      <td>1923.0</td>\n",
              "      <td>plate4</td>\n",
              "      <td>None</td>\n",
              "      <td>unclear</td>\n",
              "      <td>...</td>\n",
              "      <td>None</td>\n",
              "      <td>unclear</td>\n",
              "      <td>no</td>\n",
              "      <td>yes</td>\n",
              "      <td>Used in some clinical trial formulations, not ...</td>\n",
              "      <td>1478.268171</td>\n",
              "      <td>2341.339094</td>\n",
              "      <td>2738.463797</td>\n",
              "      <td>0.023783</td>\n",
              "      <td>[('8-Hydroxyquinoline', 0.05, 'uM')]</td>\n",
              "    </tr>\n",
              "    <tr>\n",
              "      <th>1</th>\n",
              "      <td>8-Hydroxyquinoline</td>\n",
              "      <td>smp_1783</td>\n",
              "      <td>01_001_105-lib_1105</td>\n",
              "      <td>CVCL_0546</td>\n",
              "      <td>unclear</td>\n",
              "      <td>C1=CC2=C(C(=C1)O)N=CC=C2</td>\n",
              "      <td>1923.0</td>\n",
              "      <td>plate4</td>\n",
              "      <td>None</td>\n",
              "      <td>unclear</td>\n",
              "      <td>...</td>\n",
              "      <td>None</td>\n",
              "      <td>unclear</td>\n",
              "      <td>no</td>\n",
              "      <td>yes</td>\n",
              "      <td>Used in some clinical trial formulations, not ...</td>\n",
              "      <td>1478.268171</td>\n",
              "      <td>2341.339094</td>\n",
              "      <td>2738.463797</td>\n",
              "      <td>0.023783</td>\n",
              "      <td>[('8-Hydroxyquinoline', 0.05, 'uM')]</td>\n",
              "    </tr>\n",
              "    <tr>\n",
              "      <th>2</th>\n",
              "      <td>8-Hydroxyquinoline</td>\n",
              "      <td>smp_1783</td>\n",
              "      <td>01_001_165-lib_1105</td>\n",
              "      <td>CVCL_1717</td>\n",
              "      <td>unclear</td>\n",
              "      <td>C1=CC2=C(C(=C1)O)N=CC=C2</td>\n",
              "      <td>1923.0</td>\n",
              "      <td>plate4</td>\n",
              "      <td>None</td>\n",
              "      <td>unclear</td>\n",
              "      <td>...</td>\n",
              "      <td>None</td>\n",
              "      <td>unclear</td>\n",
              "      <td>no</td>\n",
              "      <td>yes</td>\n",
              "      <td>Used in some clinical trial formulations, not ...</td>\n",
              "      <td>1478.268171</td>\n",
              "      <td>2341.339094</td>\n",
              "      <td>2738.463797</td>\n",
              "      <td>0.023783</td>\n",
              "      <td>[('8-Hydroxyquinoline', 0.05, 'uM')]</td>\n",
              "    </tr>\n",
              "    <tr>\n",
              "      <th>3</th>\n",
              "      <td>8-Hydroxyquinoline</td>\n",
              "      <td>smp_1783</td>\n",
              "      <td>01_003_094-lib_1105</td>\n",
              "      <td>CVCL_1717</td>\n",
              "      <td>unclear</td>\n",
              "      <td>C1=CC2=C(C(=C1)O)N=CC=C2</td>\n",
              "      <td>1923.0</td>\n",
              "      <td>plate4</td>\n",
              "      <td>None</td>\n",
              "      <td>unclear</td>\n",
              "      <td>...</td>\n",
              "      <td>None</td>\n",
              "      <td>unclear</td>\n",
              "      <td>no</td>\n",
              "      <td>yes</td>\n",
              "      <td>Used in some clinical trial formulations, not ...</td>\n",
              "      <td>1478.268171</td>\n",
              "      <td>2341.339094</td>\n",
              "      <td>2738.463797</td>\n",
              "      <td>0.023783</td>\n",
              "      <td>[('8-Hydroxyquinoline', 0.05, 'uM')]</td>\n",
              "    </tr>\n",
              "    <tr>\n",
              "      <th>4</th>\n",
              "      <td>8-Hydroxyquinoline</td>\n",
              "      <td>smp_1783</td>\n",
              "      <td>01_003_164-lib_1105</td>\n",
              "      <td>CVCL_1056</td>\n",
              "      <td>unclear</td>\n",
              "      <td>C1=CC2=C(C(=C1)O)N=CC=C2</td>\n",
              "      <td>1923.0</td>\n",
              "      <td>plate4</td>\n",
              "      <td>None</td>\n",
              "      <td>unclear</td>\n",
              "      <td>...</td>\n",
              "      <td>None</td>\n",
              "      <td>unclear</td>\n",
              "      <td>no</td>\n",
              "      <td>yes</td>\n",
              "      <td>Used in some clinical trial formulations, not ...</td>\n",
              "      <td>1478.268171</td>\n",
              "      <td>2341.339094</td>\n",
              "      <td>2738.463797</td>\n",
              "      <td>0.023783</td>\n",
              "      <td>[('8-Hydroxyquinoline', 0.05, 'uM')]</td>\n",
              "    </tr>\n",
              "  </tbody>\n",
              "</table>\n",
              "<p>5 rows × 23 columns</p>\n",
              "</div>"
            ],
            "text/plain": [
              "                 drug    sample   BARCODE_SUB_LIB_ID cell_line_id moa-fine  \\\n",
              "0  8-Hydroxyquinoline  smp_1783  01_001_052-lib_1105    CVCL_0480  unclear   \n",
              "1  8-Hydroxyquinoline  smp_1783  01_001_105-lib_1105    CVCL_0546  unclear   \n",
              "2  8-Hydroxyquinoline  smp_1783  01_001_165-lib_1105    CVCL_1717  unclear   \n",
              "3  8-Hydroxyquinoline  smp_1783  01_003_094-lib_1105    CVCL_1717  unclear   \n",
              "4  8-Hydroxyquinoline  smp_1783  01_003_164-lib_1105    CVCL_1056  unclear   \n",
              "\n",
              "           canonical_smiles pubchem_cid   plate targets_x moa-broad_x  ...  \\\n",
              "0  C1=CC2=C(C(=C1)O)N=CC=C2      1923.0  plate4      None     unclear  ...   \n",
              "1  C1=CC2=C(C(=C1)O)N=CC=C2      1923.0  plate4      None     unclear  ...   \n",
              "2  C1=CC2=C(C(=C1)O)N=CC=C2      1923.0  plate4      None     unclear  ...   \n",
              "3  C1=CC2=C(C(=C1)O)N=CC=C2      1923.0  plate4      None     unclear  ...   \n",
              "4  C1=CC2=C(C(=C1)O)N=CC=C2      1923.0  plate4      None     unclear  ...   \n",
              "\n",
              "  targets_y moa-broad_y human-approved_y clinical-trials_y  \\\n",
              "0      None     unclear               no               yes   \n",
              "1      None     unclear               no               yes   \n",
              "2      None     unclear               no               yes   \n",
              "3      None     unclear               no               yes   \n",
              "4      None     unclear               no               yes   \n",
              "\n",
              "                                gpt-notes-approval_y mean_gene_count  \\\n",
              "0  Used in some clinical trial formulations, not ...     1478.268171   \n",
              "1  Used in some clinical trial formulations, not ...     1478.268171   \n",
              "2  Used in some clinical trial formulations, not ...     1478.268171   \n",
              "3  Used in some clinical trial formulations, not ...     1478.268171   \n",
              "4  Used in some clinical trial formulations, not ...     1478.268171   \n",
              "\n",
              "  mean_tscp_count mean_mread_count  mean_pcnt_mito  \\\n",
              "0     2341.339094      2738.463797        0.023783   \n",
              "1     2341.339094      2738.463797        0.023783   \n",
              "2     2341.339094      2738.463797        0.023783   \n",
              "3     2341.339094      2738.463797        0.023783   \n",
              "4     2341.339094      2738.463797        0.023783   \n",
              "\n",
              "                      drugname_drugconc  \n",
              "0  [('8-Hydroxyquinoline', 0.05, 'uM')]  \n",
              "1  [('8-Hydroxyquinoline', 0.05, 'uM')]  \n",
              "2  [('8-Hydroxyquinoline', 0.05, 'uM')]  \n",
              "3  [('8-Hydroxyquinoline', 0.05, 'uM')]  \n",
              "4  [('8-Hydroxyquinoline', 0.05, 'uM')]  \n",
              "\n",
              "[5 rows x 23 columns]"
            ]
          },
          "execution_count": 51,
          "metadata": {},
          "output_type": "execute_result"
        }
      ],
      "source": [
        "\n",
        "sample_metadata = load_dataset(\"vevotx/Tahoe-100M\",\"sample_metadata\", split=\"train\").to_pandas()\n",
        "adata.obs = pd.merge(adata.obs, sample_metadata.drop(columns=[\"drug\",\"plate\"]), on=\"sample\")\n",
        "adata.obs.head()"
      ]
    },
    {
      "cell_type": "markdown",
      "id": "0a4ba64a",
      "metadata": {},
      "source": [
        "### Extract drug concentration from drugname_drugconc"
      ]
    },
    {
      "cell_type": "code",
      "execution_count": 65,
      "id": "173b3da3",
      "metadata": {},
      "outputs": [],
      "source": [
        "# convert drugname_drugconc to drug_name, drug_conc, drug_unit\n",
        "\n",
        "adata.obs[\"drugname_drugconc\"] = adata.obs[\"drugname_drugconc\"].apply(\n",
        "    lambda x: ast.literal_eval(x) if isinstance(x, str) else x\n",
        ")\n"
      ]
    },
    {
      "cell_type": "code",
      "execution_count": 72,
      "id": "c0d8e9fc",
      "metadata": {},
      "outputs": [],
      "source": [
        "\n",
        "# extact drug concentration name faster\n",
        "\n",
        "# Convert column to NumPy array of tuples\n",
        "vals = adata.obs[\"drugname_drugconc\"].values\n",
        "\n",
        "# Extract tuples efficiently\n",
        "drug_array = np.array([x[0] if isinstance(x, list) and len(x) > 0 else (None, None, None) for x in vals])\n"
      ]
    },
    {
      "cell_type": "code",
      "execution_count": 79,
      "id": "21bfb6a6",
      "metadata": {},
      "outputs": [],
      "source": [
        "\n",
        "# add drug array values\n",
        "adata.obs[\"drug_name\"] = drug_array[:, 0]\n",
        "adata.obs[\"drug_conc\"] = drug_array[:, 1]\n",
        "adata.obs[\"drug_unit\"] = drug_array[:, 2]\n"
      ]
    },
    {
      "cell_type": "markdown",
      "id": "a1504ad7",
      "metadata": {
        "id": "a1504ad7"
      },
      "source": [
        "## Add Drug Metadata\n",
        "\n",
        "The drug metadata contains additional information for the compounds used in Tahoe-100M. See the dataset card and our [paper](https://www.biorxiv.org/content/10.1101/2025.02.20.639398v1) for more information about how this information was generated."
      ]
    },
    {
      "cell_type": "code",
      "execution_count": 83,
      "id": "741c8bcc",
      "metadata": {
        "id": "741c8bcc"
      },
      "outputs": [
        {
          "data": {
            "application/vnd.jupyter.widget-view+json": {
              "model_id": "0aabde0947344f02a462a216ba29844c",
              "version_major": 2,
              "version_minor": 0
            },
            "text/plain": [
              "Resolving data files:   0%|          | 0/3388 [00:00<?, ?it/s]"
            ]
          },
          "metadata": {},
          "output_type": "display_data"
        },
        {
          "data": {
            "text/html": [
              "<div>\n",
              "<style scoped>\n",
              "    .dataframe tbody tr th:only-of-type {\n",
              "        vertical-align: middle;\n",
              "    }\n",
              "\n",
              "    .dataframe tbody tr th {\n",
              "        vertical-align: top;\n",
              "    }\n",
              "\n",
              "    .dataframe thead th {\n",
              "        text-align: right;\n",
              "    }\n",
              "</style>\n",
              "<table border=\"1\" class=\"dataframe\">\n",
              "  <thead>\n",
              "    <tr style=\"text-align: right;\">\n",
              "      <th></th>\n",
              "      <th>drug</th>\n",
              "      <th>sample</th>\n",
              "      <th>BARCODE_SUB_LIB_ID</th>\n",
              "      <th>cell_line_id</th>\n",
              "      <th>moa-fine</th>\n",
              "      <th>canonical_smiles</th>\n",
              "      <th>pubchem_cid</th>\n",
              "      <th>plate</th>\n",
              "      <th>targets_x</th>\n",
              "      <th>moa-broad_x</th>\n",
              "      <th>...</th>\n",
              "      <th>mean_pcnt_mito</th>\n",
              "      <th>drugname_drugconc</th>\n",
              "      <th>drug_name</th>\n",
              "      <th>drug_conc</th>\n",
              "      <th>drug_unit</th>\n",
              "      <th>targets</th>\n",
              "      <th>moa-broad</th>\n",
              "      <th>human-approved</th>\n",
              "      <th>clinical-trials</th>\n",
              "      <th>gpt-notes-approval</th>\n",
              "    </tr>\n",
              "  </thead>\n",
              "  <tbody>\n",
              "    <tr>\n",
              "      <th>0</th>\n",
              "      <td>8-Hydroxyquinoline</td>\n",
              "      <td>smp_1783</td>\n",
              "      <td>01_001_052-lib_1105</td>\n",
              "      <td>CVCL_0480</td>\n",
              "      <td>unclear</td>\n",
              "      <td>C1=CC2=C(C(=C1)O)N=CC=C2</td>\n",
              "      <td>1923.0</td>\n",
              "      <td>plate4</td>\n",
              "      <td>None</td>\n",
              "      <td>unclear</td>\n",
              "      <td>...</td>\n",
              "      <td>0.023783</td>\n",
              "      <td>[(8-Hydroxyquinoline, 0.05, uM)]</td>\n",
              "      <td>8-Hydroxyquinoline</td>\n",
              "      <td>0.05</td>\n",
              "      <td>uM</td>\n",
              "      <td>None</td>\n",
              "      <td>unclear</td>\n",
              "      <td>no</td>\n",
              "      <td>yes</td>\n",
              "      <td>Used in some clinical trial formulations, not ...</td>\n",
              "    </tr>\n",
              "    <tr>\n",
              "      <th>1</th>\n",
              "      <td>8-Hydroxyquinoline</td>\n",
              "      <td>smp_1783</td>\n",
              "      <td>01_001_105-lib_1105</td>\n",
              "      <td>CVCL_0546</td>\n",
              "      <td>unclear</td>\n",
              "      <td>C1=CC2=C(C(=C1)O)N=CC=C2</td>\n",
              "      <td>1923.0</td>\n",
              "      <td>plate4</td>\n",
              "      <td>None</td>\n",
              "      <td>unclear</td>\n",
              "      <td>...</td>\n",
              "      <td>0.023783</td>\n",
              "      <td>[(8-Hydroxyquinoline, 0.05, uM)]</td>\n",
              "      <td>8-Hydroxyquinoline</td>\n",
              "      <td>0.05</td>\n",
              "      <td>uM</td>\n",
              "      <td>None</td>\n",
              "      <td>unclear</td>\n",
              "      <td>no</td>\n",
              "      <td>yes</td>\n",
              "      <td>Used in some clinical trial formulations, not ...</td>\n",
              "    </tr>\n",
              "    <tr>\n",
              "      <th>2</th>\n",
              "      <td>8-Hydroxyquinoline</td>\n",
              "      <td>smp_1783</td>\n",
              "      <td>01_001_165-lib_1105</td>\n",
              "      <td>CVCL_1717</td>\n",
              "      <td>unclear</td>\n",
              "      <td>C1=CC2=C(C(=C1)O)N=CC=C2</td>\n",
              "      <td>1923.0</td>\n",
              "      <td>plate4</td>\n",
              "      <td>None</td>\n",
              "      <td>unclear</td>\n",
              "      <td>...</td>\n",
              "      <td>0.023783</td>\n",
              "      <td>[(8-Hydroxyquinoline, 0.05, uM)]</td>\n",
              "      <td>8-Hydroxyquinoline</td>\n",
              "      <td>0.05</td>\n",
              "      <td>uM</td>\n",
              "      <td>None</td>\n",
              "      <td>unclear</td>\n",
              "      <td>no</td>\n",
              "      <td>yes</td>\n",
              "      <td>Used in some clinical trial formulations, not ...</td>\n",
              "    </tr>\n",
              "    <tr>\n",
              "      <th>3</th>\n",
              "      <td>8-Hydroxyquinoline</td>\n",
              "      <td>smp_1783</td>\n",
              "      <td>01_003_094-lib_1105</td>\n",
              "      <td>CVCL_1717</td>\n",
              "      <td>unclear</td>\n",
              "      <td>C1=CC2=C(C(=C1)O)N=CC=C2</td>\n",
              "      <td>1923.0</td>\n",
              "      <td>plate4</td>\n",
              "      <td>None</td>\n",
              "      <td>unclear</td>\n",
              "      <td>...</td>\n",
              "      <td>0.023783</td>\n",
              "      <td>[(8-Hydroxyquinoline, 0.05, uM)]</td>\n",
              "      <td>8-Hydroxyquinoline</td>\n",
              "      <td>0.05</td>\n",
              "      <td>uM</td>\n",
              "      <td>None</td>\n",
              "      <td>unclear</td>\n",
              "      <td>no</td>\n",
              "      <td>yes</td>\n",
              "      <td>Used in some clinical trial formulations, not ...</td>\n",
              "    </tr>\n",
              "    <tr>\n",
              "      <th>4</th>\n",
              "      <td>8-Hydroxyquinoline</td>\n",
              "      <td>smp_1783</td>\n",
              "      <td>01_003_164-lib_1105</td>\n",
              "      <td>CVCL_1056</td>\n",
              "      <td>unclear</td>\n",
              "      <td>C1=CC2=C(C(=C1)O)N=CC=C2</td>\n",
              "      <td>1923.0</td>\n",
              "      <td>plate4</td>\n",
              "      <td>None</td>\n",
              "      <td>unclear</td>\n",
              "      <td>...</td>\n",
              "      <td>0.023783</td>\n",
              "      <td>[(8-Hydroxyquinoline, 0.05, uM)]</td>\n",
              "      <td>8-Hydroxyquinoline</td>\n",
              "      <td>0.05</td>\n",
              "      <td>uM</td>\n",
              "      <td>None</td>\n",
              "      <td>unclear</td>\n",
              "      <td>no</td>\n",
              "      <td>yes</td>\n",
              "      <td>Used in some clinical trial formulations, not ...</td>\n",
              "    </tr>\n",
              "  </tbody>\n",
              "</table>\n",
              "<p>5 rows × 31 columns</p>\n",
              "</div>"
            ],
            "text/plain": [
              "                 drug    sample   BARCODE_SUB_LIB_ID cell_line_id moa-fine  \\\n",
              "0  8-Hydroxyquinoline  smp_1783  01_001_052-lib_1105    CVCL_0480  unclear   \n",
              "1  8-Hydroxyquinoline  smp_1783  01_001_105-lib_1105    CVCL_0546  unclear   \n",
              "2  8-Hydroxyquinoline  smp_1783  01_001_165-lib_1105    CVCL_1717  unclear   \n",
              "3  8-Hydroxyquinoline  smp_1783  01_003_094-lib_1105    CVCL_1717  unclear   \n",
              "4  8-Hydroxyquinoline  smp_1783  01_003_164-lib_1105    CVCL_1056  unclear   \n",
              "\n",
              "           canonical_smiles pubchem_cid   plate targets_x moa-broad_x  ...  \\\n",
              "0  C1=CC2=C(C(=C1)O)N=CC=C2      1923.0  plate4      None     unclear  ...   \n",
              "1  C1=CC2=C(C(=C1)O)N=CC=C2      1923.0  plate4      None     unclear  ...   \n",
              "2  C1=CC2=C(C(=C1)O)N=CC=C2      1923.0  plate4      None     unclear  ...   \n",
              "3  C1=CC2=C(C(=C1)O)N=CC=C2      1923.0  plate4      None     unclear  ...   \n",
              "4  C1=CC2=C(C(=C1)O)N=CC=C2      1923.0  plate4      None     unclear  ...   \n",
              "\n",
              "  mean_pcnt_mito                 drugname_drugconc           drug_name  \\\n",
              "0       0.023783  [(8-Hydroxyquinoline, 0.05, uM)]  8-Hydroxyquinoline   \n",
              "1       0.023783  [(8-Hydroxyquinoline, 0.05, uM)]  8-Hydroxyquinoline   \n",
              "2       0.023783  [(8-Hydroxyquinoline, 0.05, uM)]  8-Hydroxyquinoline   \n",
              "3       0.023783  [(8-Hydroxyquinoline, 0.05, uM)]  8-Hydroxyquinoline   \n",
              "4       0.023783  [(8-Hydroxyquinoline, 0.05, uM)]  8-Hydroxyquinoline   \n",
              "\n",
              "  drug_conc drug_unit targets moa-broad human-approved  clinical-trials  \\\n",
              "0      0.05        uM    None   unclear             no              yes   \n",
              "1      0.05        uM    None   unclear             no              yes   \n",
              "2      0.05        uM    None   unclear             no              yes   \n",
              "3      0.05        uM    None   unclear             no              yes   \n",
              "4      0.05        uM    None   unclear             no              yes   \n",
              "\n",
              "                                  gpt-notes-approval  \n",
              "0  Used in some clinical trial formulations, not ...  \n",
              "1  Used in some clinical trial formulations, not ...  \n",
              "2  Used in some clinical trial formulations, not ...  \n",
              "3  Used in some clinical trial formulations, not ...  \n",
              "4  Used in some clinical trial formulations, not ...  \n",
              "\n",
              "[5 rows x 31 columns]"
            ]
          },
          "execution_count": 83,
          "metadata": {},
          "output_type": "execute_result"
        }
      ],
      "source": [
        "\n",
        "# get drug metadata\n",
        "drug_metadata = load_dataset(\"vevotx/Tahoe-100M\",\"drug_metadata\", split=\"train\").to_pandas()\n",
        "\n",
        "adata.obs = pd.merge(adata.obs, drug_metadata.drop(columns=[\"canonical_smiles\",\"pubchem_cid\",\"moa-fine\"]), on=\"drug\", how='left')\n",
        "\n",
        "adata.obs.head()\n"
      ]
    },
    {
      "cell_type": "markdown",
      "id": "d7eb71ff",
      "metadata": {
        "id": "d7eb71ff"
      },
      "source": [
        "## Drug Info from PubChem\n",
        "\n",
        "We also provide the pubchem IDs for the compounds in Tahoe, this can be used to querry additional information as needed."
      ]
    },
    {
      "cell_type": "code",
      "execution_count": 84,
      "id": "05d74c80",
      "metadata": {
        "id": "05d74c80"
      },
      "outputs": [
        {
          "name": "stdout",
          "output_type": "stream",
          "text": [
            "Name: 8-Hydroxyquinoline\n",
            "Synonyms: ['8-HYDROXYQUINOLINE', 'quinolin-8-ol', '148-24-3', 'Oxyquinoline', 'Oxine', 'Quinophenol', 'Oxychinolin', '8-Quinol', '8-Oxyquinoline', 'Phenopyridine']\n",
            "Formula: C9H7NO\n",
            "SMILES: C1=CC2=C(C(=C1)O)N=CC=C2\n",
            "Mass: 145.052763847\n"
          ]
        }
      ],
      "source": [
        "drug_name = adata.obs[\"drug\"].values[0]\n",
        "cid = int(float(adata.obs[\"pubchem_cid\"].values[0]))\n",
        "compound = pcp.Compound.from_cid(cid)\n",
        "\n",
        "print(f\"Name: {drug_name}\")\n",
        "print(f\"Synonyms: {compound.synonyms[:10]}\")\n",
        "print(f\"Formula: {compound.molecular_formula}\")\n",
        "print(f\"SMILES: {compound.isomeric_smiles}\")\n",
        "print(f\"Mass: {compound.exact_mass}\")"
      ]
    },
    {
      "cell_type": "markdown",
      "id": "2dc7179c",
      "metadata": {
        "id": "2dc7179c"
      },
      "source": [
        "## Load Cell Line Metadata\n",
        "The cell-line metadata contains additional identifiers for the\n",
        "cell-lines used in Tahoe (eg: Depmap-IDs) as well as a curated list of driver mutations for each cell line. This information can be used for instance to train genotype aware models on the Tahoe data."
      ]
    },
    {
      "cell_type": "code",
      "execution_count": 88,
      "id": "6519967a",
      "metadata": {
        "id": "6519967a"
      },
      "outputs": [
        {
          "data": {
            "application/vnd.jupyter.widget-view+json": {
              "model_id": "e3e0ad382638449aad1e8cb0764ae27b",
              "version_major": 2,
              "version_minor": 0
            },
            "text/plain": [
              "Resolving data files:   0%|          | 0/3388 [00:00<?, ?it/s]"
            ]
          },
          "metadata": {},
          "output_type": "display_data"
        },
        {
          "data": {
            "text/html": [
              "<div>\n",
              "<style scoped>\n",
              "    .dataframe tbody tr th:only-of-type {\n",
              "        vertical-align: middle;\n",
              "    }\n",
              "\n",
              "    .dataframe tbody tr th {\n",
              "        vertical-align: top;\n",
              "    }\n",
              "\n",
              "    .dataframe thead th {\n",
              "        text-align: right;\n",
              "    }\n",
              "</style>\n",
              "<table border=\"1\" class=\"dataframe\">\n",
              "  <thead>\n",
              "    <tr style=\"text-align: right;\">\n",
              "      <th></th>\n",
              "      <th>cell_name</th>\n",
              "      <th>Cell_ID_DepMap</th>\n",
              "      <th>Cell_ID_Cellosaur</th>\n",
              "      <th>Organ</th>\n",
              "      <th>Driver_Gene_Symbol</th>\n",
              "      <th>Driver_VarZyg</th>\n",
              "      <th>Driver_VarType</th>\n",
              "      <th>Driver_ProtEffect_or_CdnaEffect</th>\n",
              "      <th>Driver_Mech_InferDM</th>\n",
              "      <th>Driver_GeneType_DM</th>\n",
              "    </tr>\n",
              "  </thead>\n",
              "  <tbody>\n",
              "    <tr>\n",
              "      <th>0</th>\n",
              "      <td>A549</td>\n",
              "      <td>ACH-000681</td>\n",
              "      <td>CVCL_0023</td>\n",
              "      <td>Lung</td>\n",
              "      <td>CDKN2A</td>\n",
              "      <td>Hom</td>\n",
              "      <td>Deletion</td>\n",
              "      <td>DEL</td>\n",
              "      <td>LoF</td>\n",
              "      <td>Suppressor</td>\n",
              "    </tr>\n",
              "    <tr>\n",
              "      <th>1</th>\n",
              "      <td>A549</td>\n",
              "      <td>ACH-000681</td>\n",
              "      <td>CVCL_0023</td>\n",
              "      <td>Lung</td>\n",
              "      <td>CDKN2B</td>\n",
              "      <td>Hom</td>\n",
              "      <td>Deletion</td>\n",
              "      <td>DEL</td>\n",
              "      <td>LoF</td>\n",
              "      <td>Suppressor</td>\n",
              "    </tr>\n",
              "    <tr>\n",
              "      <th>2</th>\n",
              "      <td>A549</td>\n",
              "      <td>ACH-000681</td>\n",
              "      <td>CVCL_0023</td>\n",
              "      <td>Lung</td>\n",
              "      <td>KRAS</td>\n",
              "      <td>Hom</td>\n",
              "      <td>Missense</td>\n",
              "      <td>p.G12S</td>\n",
              "      <td>GoF</td>\n",
              "      <td>Oncogene</td>\n",
              "    </tr>\n",
              "    <tr>\n",
              "      <th>3</th>\n",
              "      <td>A549</td>\n",
              "      <td>ACH-000681</td>\n",
              "      <td>CVCL_0023</td>\n",
              "      <td>Lung</td>\n",
              "      <td>SMARCA4</td>\n",
              "      <td>Hom</td>\n",
              "      <td>Frameshift</td>\n",
              "      <td>p.Q729fs</td>\n",
              "      <td>LoF</td>\n",
              "      <td>Suppressor</td>\n",
              "    </tr>\n",
              "    <tr>\n",
              "      <th>4</th>\n",
              "      <td>A549</td>\n",
              "      <td>ACH-000681</td>\n",
              "      <td>CVCL_0023</td>\n",
              "      <td>Lung</td>\n",
              "      <td>STK11</td>\n",
              "      <td>Hom</td>\n",
              "      <td>Stopgain</td>\n",
              "      <td>p.Q37*</td>\n",
              "      <td>LoF</td>\n",
              "      <td>Suppressor</td>\n",
              "    </tr>\n",
              "  </tbody>\n",
              "</table>\n",
              "</div>"
            ],
            "text/plain": [
              "  cell_name Cell_ID_DepMap Cell_ID_Cellosaur Organ Driver_Gene_Symbol  \\\n",
              "0      A549     ACH-000681         CVCL_0023  Lung             CDKN2A   \n",
              "1      A549     ACH-000681         CVCL_0023  Lung             CDKN2B   \n",
              "2      A549     ACH-000681         CVCL_0023  Lung               KRAS   \n",
              "3      A549     ACH-000681         CVCL_0023  Lung            SMARCA4   \n",
              "4      A549     ACH-000681         CVCL_0023  Lung              STK11   \n",
              "\n",
              "  Driver_VarZyg Driver_VarType Driver_ProtEffect_or_CdnaEffect  \\\n",
              "0           Hom       Deletion                             DEL   \n",
              "1           Hom       Deletion                             DEL   \n",
              "2           Hom       Missense                          p.G12S   \n",
              "3           Hom     Frameshift                        p.Q729fs   \n",
              "4           Hom       Stopgain                          p.Q37*   \n",
              "\n",
              "  Driver_Mech_InferDM Driver_GeneType_DM  \n",
              "0                 LoF         Suppressor  \n",
              "1                 LoF         Suppressor  \n",
              "2                 GoF           Oncogene  \n",
              "3                 LoF         Suppressor  \n",
              "4                 LoF         Suppressor  "
            ]
          },
          "execution_count": 88,
          "metadata": {},
          "output_type": "execute_result"
        }
      ],
      "source": [
        "\n",
        "cell_line_metadata = load_dataset(\"vevotx/Tahoe-100M\",\"cell_line_metadata\", split=\"train\").to_pandas()\n",
        "\n",
        "# save cell line to csv\n",
        "cell_line_metadata.to_csv(\"/home/ubuntu/anatoly-tahoe-100-texas/data/tahoe-100m_5M_cell_line_metadata.csv\", index=False)\n",
        "\n",
        "# show cell names\n",
        "cell_line_metadata.head(5)\n"
      ]
    },
    {
      "cell_type": "markdown",
      "id": "4ced8a90",
      "metadata": {},
      "source": [
        "### Save the data"
      ]
    },
    {
      "cell_type": "code",
      "execution_count": 91,
      "id": "7d6bd1c7",
      "metadata": {},
      "outputs": [],
      "source": [
        "\n",
        " # convert targets to string\n",
        "adata.obs[\"targets\"] = adata.obs[\"targets\"].astype(str)\n",
        "\n",
        "# rename drug_conc as string\n",
        "adata.obs[\"drugname_drugconc\"] = adata.obs[\"drugname_drugconc\"].astype(str)\n"
      ]
    },
    {
      "cell_type": "code",
      "execution_count": 92,
      "id": "8a62e107",
      "metadata": {},
      "outputs": [],
      "source": [
        "\n",
        "# save down-sampled adata file\n",
        "adata.write_h5ad(\"/home/ubuntu/anatoly-tahoe-100-texas/data/tahoe-100m_5M.h5ad\")\n"
      ]
    }
  ],
  "metadata": {
    "colab": {
      "provenance": []
    },
    "kernelspec": {
      "display_name": "Python (torch-gpu)",
      "language": "python",
      "name": "torch-gpu"
    }
  },
  "nbformat": 4,
  "nbformat_minor": 5
}
