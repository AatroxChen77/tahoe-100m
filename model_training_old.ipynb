{
 "cells": [
  {
   "cell_type": "markdown",
   "metadata": {},
   "source": [
    "# Model development\n",
    "\n",
    "The goal is to train a conditional model that predicts gene expression based on drug, dose, cell line, and mutation profile. We’ll explore generative approaches like variational inference, GANs, or others to build a predictive model that outputs gene expression under perturbed conditions, given expression in a control state.\n",
    "\n",
    "The core idea is:\n",
    "\n",
    "Train a model to generate gene expression under perturbation (conditioned on metadata and baseline/control expression).\n",
    "Fine-tune the model to adapt to unseen contexts (e.g., normal lung cell types, brain cell types from atlases) using transfer learning.\n",
    "Use the adapted model to predict gene expression changes in these new settings.\n",
    "Check predictions for expected pathways up-regulated/down-regulated for given drugs (GO analysis and comparison to training set).\n",
    "Looking for teammates interested in generative modeling, transfer learning, and gene expression prediction to shape this project together.\n",
    "\n"
   ]
  },
  {
   "cell_type": "markdown",
   "metadata": {
    "vscode": {
     "languageId": "plaintext"
    }
   },
   "source": [
    "### Import libraries"
   ]
  },
  {
   "cell_type": "code",
   "execution_count": 1,
   "metadata": {},
   "outputs": [
    {
     "name": "stderr",
     "output_type": "stream",
     "text": [
      "/home/ubuntu/.local/lib/python3.10/site-packages/tqdm/auto.py:21: TqdmWarning: IProgress not found. Please update jupyter and ipywidgets. See https://ipywidgets.readthedocs.io/en/stable/user_install.html\n",
      "  from .autonotebook import tqdm as notebook_tqdm\n"
     ]
    }
   ],
   "source": [
    "\n",
    "import scanpy as sc\n",
    "import pandas as pd\n",
    "import numpy as np\n",
    "import scvi.hub\n"
   ]
  },
  {
   "cell_type": "code",
   "execution_count": 3,
   "metadata": {},
   "outputs": [
    {
     "name": "stdout",
     "output_type": "stream",
     "text": [
      "/home/ubuntu/anatoly-tahoe-100/code/tahoe-100m/my_model_env/bin/python\n"
     ]
    }
   ],
   "source": [
    "\n",
    "# check whcih python version is used\n",
    "import sys\n",
    "print(sys.executable)\n"
   ]
  },
  {
   "cell_type": "markdown",
   "metadata": {},
   "source": [
    "### Download the scVI model for Tahoe-100M"
   ]
  },
  {
   "cell_type": "code",
   "execution_count": 6,
   "metadata": {},
   "outputs": [],
   "source": [
    "\n",
    "# download from HuggingFace\n",
    "from huggingface_hub import snapshot_download"
   ]
  },
  {
   "cell_type": "code",
   "execution_count": 7,
   "metadata": {},
   "outputs": [
    {
     "name": "stderr",
     "output_type": "stream",
     "text": [
      "/home/ubuntu/.local/lib/python3.10/site-packages/huggingface_hub/file_download.py:980: UserWarning: `local_dir_use_symlinks` parameter is deprecated and will be ignored. The process to download files to a local folder has been updated and do not rely on symlinks anymore. You only need to pass a destination folder as`local_dir`.\n",
      "For more details, check out https://huggingface.co/docs/huggingface_hub/main/en/guides/download#download-files-to-local-folder.\n",
      "  warnings.warn(\n",
      "Fetching 5 files: 100%|████████████████████████████████████████████████████| 5/5 [11:10<00:00, 134.09s/it]\n"
     ]
    },
    {
     "data": {
      "text/plain": [
       "'/home/ubuntu/anatoly-tahoe-100/data/scvi_tahoe'"
      ]
     },
     "execution_count": 7,
     "metadata": {},
     "output_type": "execute_result"
    }
   ],
   "source": [
    "# download the data\n",
    "# Specify the repository ID\n",
    "repo_id = \"tahoebio/Tahoe-100M-SCVI-v1\"\n",
    "\n",
    "# Specify the local directory where files will be downloaded\n",
    "local_dir = \"/home/ubuntu/anatoly-tahoe-100/data/scvi_tahoe\"  # Replace with your desired path\n",
    "\n",
    "# Download the repository\n",
    "snapshot_download(repo_id=repo_id, local_dir=local_dir, local_dir_use_symlinks=False)"
   ]
  },
  {
   "cell_type": "code",
   "execution_count": null,
   "metadata": {},
   "outputs": [
    {
     "name": "stderr",
     "output_type": "stream",
     "text": [
      "Fetching 3401 files:   4%|█▋                                           | 127/3401 [00:09<05:40,  9.63it/s]"
     ]
    }
   ],
   "source": [
    "\n",
    "# download the original Tahoe-100M data\n",
    "# Specify the repository ID\n",
    "repo_id = \"tahoebio/Tahoe-100M\"\n",
    "\n",
    "# Specify the local directory where files will be downloaded\n",
    "local_dir = \"/home/ubuntu/anatoly-tahoe-100/data/tahoe_100m_data\"  # Replace with your desired path\n",
    "\n",
    "# Download the repository\n",
    "snapshot_download(repo_id=repo_id, repo_type=\"dataset\", local_dir=local_dir, local_dir_use_symlinks=False)\n"
   ]
  },
  {
   "cell_type": "markdown",
   "metadata": {
    "vscode": {
     "languageId": "plaintext"
    }
   },
   "source": [
    "### Load the data"
   ]
  },
  {
   "cell_type": "code",
   "execution_count": 4,
   "metadata": {},
   "outputs": [
    {
     "name": "stderr",
     "output_type": "stream",
     "text": [
      "/home/ubuntu/.local/lib/python3.10/site-packages/anndata/_core/aligned_df.py:68: ImplicitModificationWarning: Transforming to str index.\n",
      "  warnings.warn(\"Transforming to str index.\", ImplicitModificationWarning)\n"
     ]
    }
   ],
   "source": [
    "\n",
    "# read the data\n",
    "adata_tahoe = sc.read_h5ad('/home/ubuntu/anatoly-tahoe-100/data/datatahoe-100m.h5ad')\n"
   ]
  },
  {
   "cell_type": "code",
   "execution_count": 10,
   "metadata": {},
   "outputs": [
    {
     "data": {
      "text/plain": [
       "['C1=CC2=C(C(=C1)O)N=CC=C2', 'CC(=O)O.CC(=O)O.C1=CC(=CC=C1NC(=NC(=NCCCCCCN=..., 'C1C(C(OC1N2C=C(C(=O)NC2=O)C(F)(F)F)CO)O', 'CN1CCC2=CC(=C3C=C2C1CC4=CC=C(C=C4)OC5=C(C=CC(..., 'CC1=C(C(CCC1)(C)C)C=CC(=CC=CC(=CC(=O)O)C)C', ..., 'COC1=C(C=CC(=C1)NS(=O)(=O)C)NC2=C3C=CC=CC3=NC..., 'COC1=CC=C(C=C1)C2=CC(=S)SS2', 'C1CN=C(N1)NC2=C(C=CC=C2Cl)Cl.Cl', 'CN1CCCC1COC2=NC3=C(CCN(C3)C4=CC=CC5=C4C(=CC=C..., '']\n",
       "Length: 95\n",
       "Categories (95, object): ['', 'C1(C(=O)NC(=O)N1)NC(=O)N', 'C1=C(C=C(C(=C1I)OC2=CC(=C(C(=C2)I)O)I)I)CC(C(..., 'C1=C(C=C(C(=C1O)O)O)C(=O)O', ..., 'COCCCCC(=NOCCN)C1=CC=C(C=C1)C(F)(F)F.C(=CC(=O..., 'CS(=O)(=O)OCCCCOS(=O)(=O)C', 'C[As](C)SCC(C(=O)NCC(=O)O)NC(=O)CCC(C(=O)O)N', 'C[C@]12CC[C@](C[C@H]1C3=CC(=O)[C@@H]4[C@]5(CC...]"
      ]
     },
     "execution_count": 10,
     "metadata": {},
     "output_type": "execute_result"
    }
   ],
   "source": [
    "\n",
    "# show unique numeber of elements\n",
    "adata_tahoe.obs['canonical_smiles'].unique()\n"
   ]
  },
  {
   "cell_type": "markdown",
   "metadata": {},
   "source": [
    "### Encode the data"
   ]
  },
  {
   "cell_type": "markdown",
   "metadata": {},
   "source": []
  },
  {
   "cell_type": "markdown",
   "metadata": {},
   "source": [
    "### Train the models"
   ]
  },
  {
   "cell_type": "code",
   "execution_count": null,
   "metadata": {},
   "outputs": [],
   "source": []
  },
  {
   "cell_type": "markdown",
   "metadata": {},
   "source": [
    "### Save results"
   ]
  },
  {
   "cell_type": "markdown",
   "metadata": {},
   "source": []
  }
 ],
 "metadata": {
  "kernelspec": {
   "display_name": "Python (my_model_env)",
   "language": "python",
   "name": "my_model_env"
  },
  "language_info": {
   "codemirror_mode": {
    "name": "ipython",
    "version": 3
   },
   "file_extension": ".py",
   "mimetype": "text/x-python",
   "name": "python",
   "nbconvert_exporter": "python",
   "pygments_lexer": "ipython3",
   "version": "3.10.16"
  }
 },
 "nbformat": 4,
 "nbformat_minor": 2
}
