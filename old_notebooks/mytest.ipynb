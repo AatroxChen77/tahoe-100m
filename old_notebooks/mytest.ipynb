{
 "cells": [
  {
   "cell_type": "markdown",
   "metadata": {},
   "source": [
    "# 稀疏 vs. 稠密"
   ]
  },
  {
   "cell_type": "code",
   "execution_count": 1,
   "metadata": {},
   "outputs": [],
   "source": [
    "from scipy.sparse import csr_matrix\n",
    "import torch\n"
   ]
  },
  {
   "cell_type": "code",
   "execution_count": 3,
   "metadata": {},
   "outputs": [
    {
     "name": "stdout",
     "output_type": "stream",
     "text": [
      "稀疏矩阵:\n",
      " <Compressed Sparse Row sparse matrix of dtype 'int64'\n",
      "\twith 1 stored elements and shape (2, 3)>\n",
      "  Coords\tValues\n",
      "  (0, 2)\t3\n"
     ]
    }
   ],
   "source": [
    "# 原始稠密数据\n",
    "dense = [[0, 0, 3], [0, 0, 0]]\n",
    "\n",
    "# 创建稀疏矩阵\n",
    "sparse = csr_matrix(dense) # csr stand for Compressed Sparse Row\n",
    "print(\"稀疏矩阵:\\n\", sparse)"
   ]
  },
  {
   "cell_type": "code",
   "execution_count": 4,
   "metadata": {},
   "outputs": [
    {
     "name": "stdout",
     "output_type": "stream",
     "text": [
      "toarray() 结果:\n",
      " [[0 0 3]\n",
      " [0 0 0]]\n"
     ]
    }
   ],
   "source": [
    "# 转成稠密\n",
    "dense_again = sparse.toarray()\n",
    "print(\"toarray() 结果:\\n\", dense_again)"
   ]
  },
  {
   "cell_type": "code",
   "execution_count": 5,
   "metadata": {},
   "outputs": [
    {
     "name": "stdout",
     "output_type": "stream",
     "text": [
      "PyTorch tensor:\n",
      " tensor([[0., 0., 3.],\n",
      "        [0., 0., 0.]])\n"
     ]
    }
   ],
   "source": [
    "# 转成 PyTorch tensor\n",
    "tensor = torch.tensor(dense_again, dtype=torch.float32)\n",
    "print(\"PyTorch tensor:\\n\", tensor)"
   ]
  },
  {
   "cell_type": "markdown",
   "metadata": {},
   "source": [
    "# Squeeze\n",
    "\n",
    ".squeeze() 删除所有维度为1的维度（比如从 (1, 2048) 变成 (2048,)）"
   ]
  },
  {
   "cell_type": "code",
   "execution_count": 1,
   "metadata": {},
   "outputs": [
    {
     "name": "stdout",
     "output_type": "stream",
     "text": [
      "原始形状： torch.Size([1, 3, 1])\n",
      "squeeze 后形状： torch.Size([3])\n"
     ]
    }
   ],
   "source": [
    "import torch\n",
    "\n",
    "x = torch.randn(1, 3, 1)\n",
    "print(\"原始形状：\", x.shape)  # torch.Size([1, 3, 1])\n",
    "\n",
    "y = x.squeeze()\n",
    "print(\"squeeze 后形状：\", y.shape)  # torch.Size([3])\n"
   ]
  },
  {
   "cell_type": "markdown",
   "metadata": {},
   "source": [
    ".squeeze() 会自动把所有 维度为 1 的轴删掉。\n",
    "\n",
    "上面例子中删掉了第 0 维和第 2 维，变成了一维 [3]"
   ]
  },
  {
   "cell_type": "markdown",
   "metadata": {},
   "source": [
    "# .flatten()\n",
    "\n",
    "把所有维度拉平成一个维度"
   ]
  },
  {
   "cell_type": "code",
   "execution_count": 3,
   "metadata": {},
   "outputs": [
    {
     "name": "stdout",
     "output_type": "stream",
     "text": [
      "原始形状： torch.Size([1, 3, 1])\n",
      "flatten 后形状： torch.Size([3])\n"
     ]
    }
   ],
   "source": [
    "x = torch.randn(1, 3, 1)\n",
    "print(\"原始形状：\", x.shape)  # torch.Size([1, 3, 1])\n",
    "\n",
    "y = x.flatten()\n",
    "print(\"flatten 后形状：\", y.shape)  # torch.Size([3])"
   ]
  },
  {
   "cell_type": "code",
   "execution_count": 4,
   "metadata": {},
   "outputs": [
    {
     "name": "stdout",
     "output_type": "stream",
     "text": [
      "原始形状： torch.Size([2, 3, 4])\n",
      "flatten 后： torch.Size([24])\n",
      "squeeze 后： torch.Size([2, 3, 4])\n"
     ]
    }
   ],
   "source": [
    "x = torch.randn(2, 3, 4)  # 形状是 (2, 3, 4)\n",
    "print(\"原始形状：\", x.shape)  # torch.Size([2, 3, 4])\n",
    "\n",
    "# flatten\n",
    "y1 = x.flatten()\n",
    "print(\"flatten 后：\", y1.shape)  # torch.Size([24])\n",
    "\n",
    "# squeeze（啥都不变，因为没有维度为1）\n",
    "y2 = x.squeeze()\n",
    "print(\"squeeze 后：\", y2.shape)  # torch.Size([2, 3, 4])"
   ]
  },
  {
   "cell_type": "markdown",
   "metadata": {},
   "source": [
    "# 如何确认是否和 VPN 有关？"
   ]
  },
  {
   "cell_type": "code",
   "execution_count": 1,
   "metadata": {},
   "outputs": [
    {
     "name": "stderr",
     "output_type": "stream",
     "text": [
      "c:\\Users\\Cavendishes\\.conda\\envs\\tahoe-cvae\\Lib\\site-packages\\urllib3\\connectionpool.py:1097: InsecureRequestWarning: Unverified HTTPS request is being made to host '127.0.0.1'. Adding certificate verification is strongly advised. See: https://urllib3.readthedocs.io/en/latest/advanced-usage.html#tls-warnings\n",
      "  warnings.warn(\n"
     ]
    },
    {
     "name": "stdout",
     "output_type": "stream",
     "text": [
      "{\n",
      "  \"origin\": \"62.192.175.4\"\n",
      "}\n",
      "\n"
     ]
    }
   ],
   "source": [
    "import requests\n",
    "\n",
    "proxies = {\n",
    "    \"http\": \"http://127.0.0.1:7890\",\n",
    "    \"https\": \"http://127.0.0.1:7890\",\n",
    "}\n",
    "\n",
    "resp = requests.get(\"https://httpbin.org/ip\", proxies=proxies, verify=False)\n",
    "print(resp.text)\n"
   ]
  }
 ],
 "metadata": {
  "kernelspec": {
   "display_name": "tahoe-cvae",
   "language": "python",
   "name": "python3"
  },
  "language_info": {
   "codemirror_mode": {
    "name": "ipython",
    "version": 3
   },
   "file_extension": ".py",
   "mimetype": "text/x-python",
   "name": "python",
   "nbconvert_exporter": "python",
   "pygments_lexer": "ipython3",
   "version": "3.11.13"
  }
 },
 "nbformat": 4,
 "nbformat_minor": 2
}
