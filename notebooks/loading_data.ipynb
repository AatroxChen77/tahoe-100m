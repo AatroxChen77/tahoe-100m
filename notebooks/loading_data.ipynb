{
 "cells": [
  {
   "cell_type": "markdown",
   "id": "b68cf1d8",
   "metadata": {
    "id": "b68cf1d8"
   },
   "source": [
    "# Tutorial: Creating an AnnData Object from Tahoe-100M Dataset\n",
    "https://hf-mirror.com/datasets/tahoebio/Tahoe-100M/blob/main/tutorials/loading_data.ipynb\n",
    "\n",
    "https://hf-mirror.com/datasets/tahoebio/Tahoe-100M\n",
    "\n",
    "This notebook is intented for users who are familiar with the anndata format for single-cell data. \n",
    "\n",
    "We'll walk through how to parse records in the huggingface dataset format and convert between the two."
   ]
  },
  {
   "cell_type": "markdown",
   "id": "fc9a7282",
   "metadata": {
    "id": "fc9a7282"
   },
   "source": [
    "## Install Required Libraries\n",
    "\n",
    "```\n",
    "!pip install datasets anndata scipy pandas pubchempy\n",
    "```"
   ]
  },
  {
   "cell_type": "markdown",
   "id": "7e9bf44e",
   "metadata": {
    "id": "7e9bf44e"
   },
   "source": [
    "## Import Libraries"
   ]
  },
  {
   "cell_type": "code",
   "execution_count": 1,
   "id": "a7589c73",
   "metadata": {
    "id": "a7589c73"
   },
   "outputs": [
    {
     "name": "stderr",
     "output_type": "stream",
     "text": [
      "c:\\Users\\Cavendishes\\.conda\\envs\\tahoe-cvae\\Lib\\site-packages\\tqdm\\auto.py:21: TqdmWarning: IProgress not found. Please update jupyter and ipywidgets. See https://ipywidgets.readthedocs.io/en/stable/user_install.html\n",
      "  from .autonotebook import tqdm as notebook_tqdm\n"
     ]
    }
   ],
   "source": [
    "from datasets import load_dataset\n",
    "from scipy.sparse import csr_matrix\n",
    "from tqdm import tqdm\n",
    "import anndata\n",
    "import pandas as pd\n",
    "import pubchempy as pcp\n",
    "import numpy as np\n",
    "import ast"
   ]
  },
  {
   "cell_type": "markdown",
   "id": "f31cd11c",
   "metadata": {
    "id": "f31cd11c"
   },
   "source": [
    "## Mapping records to anndata\n",
    "\n",
    "This function takes in a generator that emits records from the Tahoe-100M huggingface dataset and returns an anndata object. \n",
    "\n",
    "Use the `sample_size` argument to specify the number of records you need. \n",
    "\n",
    "You can also create a new generator using the `dataset.filter` function to only emit records that match a certain filter (eg: for a specific drug/plate/sample).\n",
    "\n",
    "If you'd like to create a DataLoader for an ML training application, it's likely best to use the data in it's native format without interfacing with anndata."
   ]
  },
  {
   "cell_type": "code",
   "execution_count": 2,
   "id": "f4391697",
   "metadata": {
    "id": "f4391697"
   },
   "outputs": [],
   "source": [
    "def create_anndata_from_generator(generator, gene_vocab, sample_size=None):\n",
    "    sorted_vocab_items = sorted(gene_vocab.items())\n",
    "    token_ids, gene_names = zip(*sorted_vocab_items)\n",
    "    token_id_to_col_idx = {token_id: idx for idx, token_id in enumerate(token_ids)}\n",
    "\n",
    "    data, indices, indptr = [], [], [0]\n",
    "    obs_data = []\n",
    "\n",
    "    for i, cell in tqdm(enumerate(generator), total = sample_size):\n",
    "        if sample_size is not None and i >= sample_size:\n",
    "            break\n",
    "        genes = cell['genes']\n",
    "        expressions = cell['expressions']\n",
    "        if expressions[0] < 0:\n",
    "            genes = genes[1:]\n",
    "            expressions = expressions[1:]\n",
    "\n",
    "        col_indices = [token_id_to_col_idx[gene] for gene in genes if gene in token_id_to_col_idx]\n",
    "        valid_expressions = [expr for gene, expr in zip(genes, expressions) if gene in token_id_to_col_idx]\n",
    "\n",
    "        data.extend(valid_expressions)\n",
    "        indices.extend(col_indices)\n",
    "        indptr.append(len(data))\n",
    "\n",
    "        obs_entry = {k: v for k, v in cell.items() if k not in ['genes', 'expressions']}\n",
    "        obs_data.append(obs_entry)\n",
    "\n",
    "    expr_matrix = csr_matrix((data, indices, indptr), shape=(len(indptr) - 1, len(gene_names)))\n",
    "    obs_df = pd.DataFrame(obs_data)\n",
    "\n",
    "    adata = anndata.AnnData(X=expr_matrix, obs=obs_df)\n",
    "    adata.var.index = pd.Index(gene_names, name='ensembl_id')\n",
    "\n",
    "    return adata\n"
   ]
  },
  {
   "cell_type": "markdown",
   "id": "0cf683cd",
   "metadata": {
    "id": "0cf683cd"
   },
   "source": [
    "## Load Tahoe-100M Dataset"
   ]
  },
  {
   "cell_type": "code",
   "execution_count": 3,
   "id": "80eb5104",
   "metadata": {
    "id": "80eb5104"
   },
   "outputs": [],
   "source": [
    "# setup dataset\n",
    "tahoe_100m_ds = load_dataset('vevotx/Tahoe-100M', streaming=True, split='train')"
   ]
  },
  {
   "cell_type": "markdown",
   "id": "337f02f2",
   "metadata": {
    "id": "337f02f2"
   },
   "source": [
    "## Load Gene Metadata\n",
    "\n",
    "The gene metadata contains the mapping between the integer token IDs used in the dataset and standard identifiers for genes (ensembl IDs and HGNC gene symbols)\n",
    "\n",
    "基因元数据包含数据集中使用的整数标记 ID 与基因标准标识符（集成 ID 和 HGNC 基因符号）之间的映射"
   ]
  },
  {
   "cell_type": "code",
   "execution_count": 4,
   "id": "a0eeaa83",
   "metadata": {
    "id": "a0eeaa83"
   },
   "outputs": [],
   "source": [
    "gene_metadata = load_dataset(\"vevotx/Tahoe-100M\", name=\"gene_metadata\", split=\"train\")\n",
    "gene_vocab = {entry[\"token_id\"]: entry[\"ensembl_id\"] for entry in gene_metadata}"
   ]
  },
  {
   "cell_type": "code",
   "execution_count": 5,
   "id": "b6edc985",
   "metadata": {},
   "outputs": [],
   "source": [
    "import json\n",
    "# 将 gene_vocab 保存下来\n",
    "with open(\"gene_vocab.json\", \"w\") as f:\n",
    "    json.dump(gene_vocab, f)"
   ]
  },
  {
   "cell_type": "code",
   "execution_count": null,
   "id": "3ac2e994",
   "metadata": {},
   "outputs": [],
   "source": [
    "# 加载 gene_vocab\n",
    "with open(\"gene_vocab.json\", \"r\") as f:\n",
    "    gene_vocab = json.load(f)"
   ]
  },
  {
   "cell_type": "markdown",
   "id": "ded9c086",
   "metadata": {
    "id": "ded9c086"
   },
   "source": [
    "## Create AnnData Object"
   ]
  },
  {
   "cell_type": "code",
   "execution_count": 5,
   "id": "6fb1d70d",
   "metadata": {
    "id": "6fb1d70d"
   },
   "outputs": [
    {
     "name": "stderr",
     "output_type": "stream",
     "text": [
      "100%|██████████| 500000/500000 [11:43<00:00, 710.43it/s] \n",
      "c:\\Users\\Cavendishes\\.conda\\envs\\tahoe-cvae\\Lib\\functools.py:909: ImplicitModificationWarning: Transforming to str index.\n",
      "  return dispatch(args[0].__class__)(*args, **kw)\n"
     ]
    }
   ],
   "source": [
    "adata = create_anndata_from_generator(tahoe_100m_ds, gene_vocab, sample_size=500000) # 1000 000"
   ]
  },
  {
   "cell_type": "code",
   "execution_count": 6,
   "id": "33440a70",
   "metadata": {},
   "outputs": [
    {
     "data": {
      "text/plain": [
       "AnnData object with n_obs × n_vars = 500000 × 62710\n",
       "    obs: 'drug', 'sample', 'BARCODE_SUB_LIB_ID', 'cell_line_id', 'moa-fine', 'canonical_smiles', 'pubchem_cid', 'plate'"
      ]
     },
     "execution_count": 6,
     "metadata": {},
     "output_type": "execute_result"
    }
   ],
   "source": [
    "adata"
   ]
  },
  {
   "cell_type": "markdown",
   "id": "c7c07f9e",
   "metadata": {
    "id": "c7c07f9e"
   },
   "source": [
    "## Inspect Metadata (`adata.obs`)"
   ]
  },
  {
   "cell_type": "code",
   "execution_count": 7,
   "id": "15214a5c",
   "metadata": {
    "id": "15214a5c"
   },
   "outputs": [
    {
     "data": {
      "application/vnd.microsoft.datawrangler.viewer.v0+json": {
       "columns": [
        {
         "name": "index",
         "rawType": "object",
         "type": "string"
        },
        {
         "name": "drug",
         "rawType": "object",
         "type": "string"
        },
        {
         "name": "sample",
         "rawType": "object",
         "type": "string"
        },
        {
         "name": "BARCODE_SUB_LIB_ID",
         "rawType": "object",
         "type": "string"
        },
        {
         "name": "cell_line_id",
         "rawType": "object",
         "type": "string"
        },
        {
         "name": "moa-fine",
         "rawType": "object",
         "type": "string"
        },
        {
         "name": "canonical_smiles",
         "rawType": "object",
         "type": "string"
        },
        {
         "name": "pubchem_cid",
         "rawType": "object",
         "type": "string"
        },
        {
         "name": "plate",
         "rawType": "object",
         "type": "string"
        }
       ],
       "ref": "6f0aba91-d042-49fa-96d9-8bf45e8eb3c5",
       "rows": [
        [
         "0",
         "8-Hydroxyquinoline",
         "smp_1783",
         "01_001_052-lib_1105",
         "CVCL_0480",
         "unclear",
         "C1=CC2=C(C(=C1)O)N=CC=C2",
         "1923.0",
         "plate4"
        ],
        [
         "1",
         "8-Hydroxyquinoline",
         "smp_1783",
         "01_001_105-lib_1105",
         "CVCL_0546",
         "unclear",
         "C1=CC2=C(C(=C1)O)N=CC=C2",
         "1923.0",
         "plate4"
        ],
        [
         "2",
         "8-Hydroxyquinoline",
         "smp_1783",
         "01_001_165-lib_1105",
         "CVCL_1717",
         "unclear",
         "C1=CC2=C(C(=C1)O)N=CC=C2",
         "1923.0",
         "plate4"
        ],
        [
         "3",
         "8-Hydroxyquinoline",
         "smp_1783",
         "01_003_094-lib_1105",
         "CVCL_1717",
         "unclear",
         "C1=CC2=C(C(=C1)O)N=CC=C2",
         "1923.0",
         "plate4"
        ],
        [
         "4",
         "8-Hydroxyquinoline",
         "smp_1783",
         "01_003_164-lib_1105",
         "CVCL_1056",
         "unclear",
         "C1=CC2=C(C(=C1)O)N=CC=C2",
         "1923.0",
         "plate4"
        ]
       ],
       "shape": {
        "columns": 8,
        "rows": 5
       }
      },
      "text/html": [
       "<div>\n",
       "<style scoped>\n",
       "    .dataframe tbody tr th:only-of-type {\n",
       "        vertical-align: middle;\n",
       "    }\n",
       "\n",
       "    .dataframe tbody tr th {\n",
       "        vertical-align: top;\n",
       "    }\n",
       "\n",
       "    .dataframe thead th {\n",
       "        text-align: right;\n",
       "    }\n",
       "</style>\n",
       "<table border=\"1\" class=\"dataframe\">\n",
       "  <thead>\n",
       "    <tr style=\"text-align: right;\">\n",
       "      <th></th>\n",
       "      <th>drug</th>\n",
       "      <th>sample</th>\n",
       "      <th>BARCODE_SUB_LIB_ID</th>\n",
       "      <th>cell_line_id</th>\n",
       "      <th>moa-fine</th>\n",
       "      <th>canonical_smiles</th>\n",
       "      <th>pubchem_cid</th>\n",
       "      <th>plate</th>\n",
       "    </tr>\n",
       "  </thead>\n",
       "  <tbody>\n",
       "    <tr>\n",
       "      <th>0</th>\n",
       "      <td>8-Hydroxyquinoline</td>\n",
       "      <td>smp_1783</td>\n",
       "      <td>01_001_052-lib_1105</td>\n",
       "      <td>CVCL_0480</td>\n",
       "      <td>unclear</td>\n",
       "      <td>C1=CC2=C(C(=C1)O)N=CC=C2</td>\n",
       "      <td>1923.0</td>\n",
       "      <td>plate4</td>\n",
       "    </tr>\n",
       "    <tr>\n",
       "      <th>1</th>\n",
       "      <td>8-Hydroxyquinoline</td>\n",
       "      <td>smp_1783</td>\n",
       "      <td>01_001_105-lib_1105</td>\n",
       "      <td>CVCL_0546</td>\n",
       "      <td>unclear</td>\n",
       "      <td>C1=CC2=C(C(=C1)O)N=CC=C2</td>\n",
       "      <td>1923.0</td>\n",
       "      <td>plate4</td>\n",
       "    </tr>\n",
       "    <tr>\n",
       "      <th>2</th>\n",
       "      <td>8-Hydroxyquinoline</td>\n",
       "      <td>smp_1783</td>\n",
       "      <td>01_001_165-lib_1105</td>\n",
       "      <td>CVCL_1717</td>\n",
       "      <td>unclear</td>\n",
       "      <td>C1=CC2=C(C(=C1)O)N=CC=C2</td>\n",
       "      <td>1923.0</td>\n",
       "      <td>plate4</td>\n",
       "    </tr>\n",
       "    <tr>\n",
       "      <th>3</th>\n",
       "      <td>8-Hydroxyquinoline</td>\n",
       "      <td>smp_1783</td>\n",
       "      <td>01_003_094-lib_1105</td>\n",
       "      <td>CVCL_1717</td>\n",
       "      <td>unclear</td>\n",
       "      <td>C1=CC2=C(C(=C1)O)N=CC=C2</td>\n",
       "      <td>1923.0</td>\n",
       "      <td>plate4</td>\n",
       "    </tr>\n",
       "    <tr>\n",
       "      <th>4</th>\n",
       "      <td>8-Hydroxyquinoline</td>\n",
       "      <td>smp_1783</td>\n",
       "      <td>01_003_164-lib_1105</td>\n",
       "      <td>CVCL_1056</td>\n",
       "      <td>unclear</td>\n",
       "      <td>C1=CC2=C(C(=C1)O)N=CC=C2</td>\n",
       "      <td>1923.0</td>\n",
       "      <td>plate4</td>\n",
       "    </tr>\n",
       "  </tbody>\n",
       "</table>\n",
       "</div>"
      ],
      "text/plain": [
       "                 drug    sample   BARCODE_SUB_LIB_ID cell_line_id moa-fine  \\\n",
       "0  8-Hydroxyquinoline  smp_1783  01_001_052-lib_1105    CVCL_0480  unclear   \n",
       "1  8-Hydroxyquinoline  smp_1783  01_001_105-lib_1105    CVCL_0546  unclear   \n",
       "2  8-Hydroxyquinoline  smp_1783  01_001_165-lib_1105    CVCL_1717  unclear   \n",
       "3  8-Hydroxyquinoline  smp_1783  01_003_094-lib_1105    CVCL_1717  unclear   \n",
       "4  8-Hydroxyquinoline  smp_1783  01_003_164-lib_1105    CVCL_1056  unclear   \n",
       "\n",
       "           canonical_smiles pubchem_cid   plate  \n",
       "0  C1=CC2=C(C(=C1)O)N=CC=C2      1923.0  plate4  \n",
       "1  C1=CC2=C(C(=C1)O)N=CC=C2      1923.0  plate4  \n",
       "2  C1=CC2=C(C(=C1)O)N=CC=C2      1923.0  plate4  \n",
       "3  C1=CC2=C(C(=C1)O)N=CC=C2      1923.0  plate4  \n",
       "4  C1=CC2=C(C(=C1)O)N=CC=C2      1923.0  plate4  "
      ]
     },
     "execution_count": 7,
     "metadata": {},
     "output_type": "execute_result"
    }
   ],
   "source": [
    "adata.obs.head()"
   ]
  },
  {
   "cell_type": "markdown",
   "id": "ec391116",
   "metadata": {
    "id": "ec391116"
   },
   "source": [
    "## Enrich with Sample Metadata\n",
    "\n",
    "Although the main data contains several metadata fields, there are some additional columns (such as drug concentration) which are omitted to reduce the size of the data. \n",
    "\n",
    "If they are needed, they may be fetched using the sample_metadata.\n",
    "\n",
    "虽然主数据包含多个元数据字段，但省略了一些额外的列（例如药物浓度）以减小数据的大小。如果需要，可以使用 sample_metadata 获取它们。"
   ]
  },
  {
   "cell_type": "code",
   "execution_count": 8,
   "id": "657524c8",
   "metadata": {
    "id": "657524c8"
   },
   "outputs": [
    {
     "name": "stderr",
     "output_type": "stream",
     "text": [
      "c:\\Users\\Cavendishes\\.conda\\envs\\tahoe-cvae\\Lib\\functools.py:909: ImplicitModificationWarning: Transforming to str index.\n",
      "  return dispatch(args[0].__class__)(*args, **kw)\n"
     ]
    },
    {
     "data": {
      "application/vnd.microsoft.datawrangler.viewer.v0+json": {
       "columns": [
        {
         "name": "index",
         "rawType": "object",
         "type": "string"
        },
        {
         "name": "drug",
         "rawType": "object",
         "type": "string"
        },
        {
         "name": "sample",
         "rawType": "object",
         "type": "string"
        },
        {
         "name": "BARCODE_SUB_LIB_ID",
         "rawType": "object",
         "type": "string"
        },
        {
         "name": "cell_line_id",
         "rawType": "object",
         "type": "string"
        },
        {
         "name": "moa-fine",
         "rawType": "object",
         "type": "string"
        },
        {
         "name": "canonical_smiles",
         "rawType": "object",
         "type": "string"
        },
        {
         "name": "pubchem_cid",
         "rawType": "object",
         "type": "string"
        },
        {
         "name": "plate",
         "rawType": "object",
         "type": "string"
        },
        {
         "name": "mean_gene_count",
         "rawType": "float64",
         "type": "float"
        },
        {
         "name": "mean_tscp_count",
         "rawType": "float64",
         "type": "float"
        },
        {
         "name": "mean_mread_count",
         "rawType": "float64",
         "type": "float"
        },
        {
         "name": "mean_pcnt_mito",
         "rawType": "float32",
         "type": "float"
        },
        {
         "name": "drugname_drugconc",
         "rawType": "object",
         "type": "string"
        }
       ],
       "ref": "a5b9a8c0-1bce-4513-b559-9b31b7a36356",
       "rows": [
        [
         "0",
         "8-Hydroxyquinoline",
         "smp_1783",
         "01_001_052-lib_1105",
         "CVCL_0480",
         "unclear",
         "C1=CC2=C(C(=C1)O)N=CC=C2",
         "1923.0",
         "plate4",
         "1478.2681707354711",
         "2341.339094472393",
         "2738.46379741366",
         "0.023782853",
         "[('8-Hydroxyquinoline', 0.05, 'uM')]"
        ],
        [
         "1",
         "8-Hydroxyquinoline",
         "smp_1783",
         "01_001_105-lib_1105",
         "CVCL_0546",
         "unclear",
         "C1=CC2=C(C(=C1)O)N=CC=C2",
         "1923.0",
         "plate4",
         "1478.2681707354711",
         "2341.339094472393",
         "2738.46379741366",
         "0.023782853",
         "[('8-Hydroxyquinoline', 0.05, 'uM')]"
        ],
        [
         "2",
         "8-Hydroxyquinoline",
         "smp_1783",
         "01_001_165-lib_1105",
         "CVCL_1717",
         "unclear",
         "C1=CC2=C(C(=C1)O)N=CC=C2",
         "1923.0",
         "plate4",
         "1478.2681707354711",
         "2341.339094472393",
         "2738.46379741366",
         "0.023782853",
         "[('8-Hydroxyquinoline', 0.05, 'uM')]"
        ],
        [
         "3",
         "8-Hydroxyquinoline",
         "smp_1783",
         "01_003_094-lib_1105",
         "CVCL_1717",
         "unclear",
         "C1=CC2=C(C(=C1)O)N=CC=C2",
         "1923.0",
         "plate4",
         "1478.2681707354711",
         "2341.339094472393",
         "2738.46379741366",
         "0.023782853",
         "[('8-Hydroxyquinoline', 0.05, 'uM')]"
        ],
        [
         "4",
         "8-Hydroxyquinoline",
         "smp_1783",
         "01_003_164-lib_1105",
         "CVCL_1056",
         "unclear",
         "C1=CC2=C(C(=C1)O)N=CC=C2",
         "1923.0",
         "plate4",
         "1478.2681707354711",
         "2341.339094472393",
         "2738.46379741366",
         "0.023782853",
         "[('8-Hydroxyquinoline', 0.05, 'uM')]"
        ]
       ],
       "shape": {
        "columns": 13,
        "rows": 5
       }
      },
      "text/html": [
       "<div>\n",
       "<style scoped>\n",
       "    .dataframe tbody tr th:only-of-type {\n",
       "        vertical-align: middle;\n",
       "    }\n",
       "\n",
       "    .dataframe tbody tr th {\n",
       "        vertical-align: top;\n",
       "    }\n",
       "\n",
       "    .dataframe thead th {\n",
       "        text-align: right;\n",
       "    }\n",
       "</style>\n",
       "<table border=\"1\" class=\"dataframe\">\n",
       "  <thead>\n",
       "    <tr style=\"text-align: right;\">\n",
       "      <th></th>\n",
       "      <th>drug</th>\n",
       "      <th>sample</th>\n",
       "      <th>BARCODE_SUB_LIB_ID</th>\n",
       "      <th>cell_line_id</th>\n",
       "      <th>moa-fine</th>\n",
       "      <th>canonical_smiles</th>\n",
       "      <th>pubchem_cid</th>\n",
       "      <th>plate</th>\n",
       "      <th>mean_gene_count</th>\n",
       "      <th>mean_tscp_count</th>\n",
       "      <th>mean_mread_count</th>\n",
       "      <th>mean_pcnt_mito</th>\n",
       "      <th>drugname_drugconc</th>\n",
       "    </tr>\n",
       "  </thead>\n",
       "  <tbody>\n",
       "    <tr>\n",
       "      <th>0</th>\n",
       "      <td>8-Hydroxyquinoline</td>\n",
       "      <td>smp_1783</td>\n",
       "      <td>01_001_052-lib_1105</td>\n",
       "      <td>CVCL_0480</td>\n",
       "      <td>unclear</td>\n",
       "      <td>C1=CC2=C(C(=C1)O)N=CC=C2</td>\n",
       "      <td>1923.0</td>\n",
       "      <td>plate4</td>\n",
       "      <td>1478.268171</td>\n",
       "      <td>2341.339094</td>\n",
       "      <td>2738.463797</td>\n",
       "      <td>0.023783</td>\n",
       "      <td>[('8-Hydroxyquinoline', 0.05, 'uM')]</td>\n",
       "    </tr>\n",
       "    <tr>\n",
       "      <th>1</th>\n",
       "      <td>8-Hydroxyquinoline</td>\n",
       "      <td>smp_1783</td>\n",
       "      <td>01_001_105-lib_1105</td>\n",
       "      <td>CVCL_0546</td>\n",
       "      <td>unclear</td>\n",
       "      <td>C1=CC2=C(C(=C1)O)N=CC=C2</td>\n",
       "      <td>1923.0</td>\n",
       "      <td>plate4</td>\n",
       "      <td>1478.268171</td>\n",
       "      <td>2341.339094</td>\n",
       "      <td>2738.463797</td>\n",
       "      <td>0.023783</td>\n",
       "      <td>[('8-Hydroxyquinoline', 0.05, 'uM')]</td>\n",
       "    </tr>\n",
       "    <tr>\n",
       "      <th>2</th>\n",
       "      <td>8-Hydroxyquinoline</td>\n",
       "      <td>smp_1783</td>\n",
       "      <td>01_001_165-lib_1105</td>\n",
       "      <td>CVCL_1717</td>\n",
       "      <td>unclear</td>\n",
       "      <td>C1=CC2=C(C(=C1)O)N=CC=C2</td>\n",
       "      <td>1923.0</td>\n",
       "      <td>plate4</td>\n",
       "      <td>1478.268171</td>\n",
       "      <td>2341.339094</td>\n",
       "      <td>2738.463797</td>\n",
       "      <td>0.023783</td>\n",
       "      <td>[('8-Hydroxyquinoline', 0.05, 'uM')]</td>\n",
       "    </tr>\n",
       "    <tr>\n",
       "      <th>3</th>\n",
       "      <td>8-Hydroxyquinoline</td>\n",
       "      <td>smp_1783</td>\n",
       "      <td>01_003_094-lib_1105</td>\n",
       "      <td>CVCL_1717</td>\n",
       "      <td>unclear</td>\n",
       "      <td>C1=CC2=C(C(=C1)O)N=CC=C2</td>\n",
       "      <td>1923.0</td>\n",
       "      <td>plate4</td>\n",
       "      <td>1478.268171</td>\n",
       "      <td>2341.339094</td>\n",
       "      <td>2738.463797</td>\n",
       "      <td>0.023783</td>\n",
       "      <td>[('8-Hydroxyquinoline', 0.05, 'uM')]</td>\n",
       "    </tr>\n",
       "    <tr>\n",
       "      <th>4</th>\n",
       "      <td>8-Hydroxyquinoline</td>\n",
       "      <td>smp_1783</td>\n",
       "      <td>01_003_164-lib_1105</td>\n",
       "      <td>CVCL_1056</td>\n",
       "      <td>unclear</td>\n",
       "      <td>C1=CC2=C(C(=C1)O)N=CC=C2</td>\n",
       "      <td>1923.0</td>\n",
       "      <td>plate4</td>\n",
       "      <td>1478.268171</td>\n",
       "      <td>2341.339094</td>\n",
       "      <td>2738.463797</td>\n",
       "      <td>0.023783</td>\n",
       "      <td>[('8-Hydroxyquinoline', 0.05, 'uM')]</td>\n",
       "    </tr>\n",
       "  </tbody>\n",
       "</table>\n",
       "</div>"
      ],
      "text/plain": [
       "                 drug    sample   BARCODE_SUB_LIB_ID cell_line_id moa-fine  \\\n",
       "0  8-Hydroxyquinoline  smp_1783  01_001_052-lib_1105    CVCL_0480  unclear   \n",
       "1  8-Hydroxyquinoline  smp_1783  01_001_105-lib_1105    CVCL_0546  unclear   \n",
       "2  8-Hydroxyquinoline  smp_1783  01_001_165-lib_1105    CVCL_1717  unclear   \n",
       "3  8-Hydroxyquinoline  smp_1783  01_003_094-lib_1105    CVCL_1717  unclear   \n",
       "4  8-Hydroxyquinoline  smp_1783  01_003_164-lib_1105    CVCL_1056  unclear   \n",
       "\n",
       "           canonical_smiles pubchem_cid   plate  mean_gene_count  \\\n",
       "0  C1=CC2=C(C(=C1)O)N=CC=C2      1923.0  plate4      1478.268171   \n",
       "1  C1=CC2=C(C(=C1)O)N=CC=C2      1923.0  plate4      1478.268171   \n",
       "2  C1=CC2=C(C(=C1)O)N=CC=C2      1923.0  plate4      1478.268171   \n",
       "3  C1=CC2=C(C(=C1)O)N=CC=C2      1923.0  plate4      1478.268171   \n",
       "4  C1=CC2=C(C(=C1)O)N=CC=C2      1923.0  plate4      1478.268171   \n",
       "\n",
       "   mean_tscp_count  mean_mread_count  mean_pcnt_mito  \\\n",
       "0      2341.339094       2738.463797        0.023783   \n",
       "1      2341.339094       2738.463797        0.023783   \n",
       "2      2341.339094       2738.463797        0.023783   \n",
       "3      2341.339094       2738.463797        0.023783   \n",
       "4      2341.339094       2738.463797        0.023783   \n",
       "\n",
       "                      drugname_drugconc  \n",
       "0  [('8-Hydroxyquinoline', 0.05, 'uM')]  \n",
       "1  [('8-Hydroxyquinoline', 0.05, 'uM')]  \n",
       "2  [('8-Hydroxyquinoline', 0.05, 'uM')]  \n",
       "3  [('8-Hydroxyquinoline', 0.05, 'uM')]  \n",
       "4  [('8-Hydroxyquinoline', 0.05, 'uM')]  "
      ]
     },
     "execution_count": 8,
     "metadata": {},
     "output_type": "execute_result"
    }
   ],
   "source": [
    "sample_metadata = load_dataset(\"vevotx/Tahoe-100M\",\"sample_metadata\", split=\"train\").to_pandas()\n",
    "adata.obs = pd.merge(adata.obs, sample_metadata.drop(columns=[\"drug\",\"plate\"]), on=\"sample\")\n",
    "adata.obs.head()"
   ]
  },
  {
   "cell_type": "markdown",
   "id": "0a4ba64a",
   "metadata": {},
   "source": [
    "### Extract drug concentration from drugname_drugconc"
   ]
  },
  {
   "cell_type": "code",
   "execution_count": 9,
   "id": "173b3da3",
   "metadata": {},
   "outputs": [],
   "source": [
    "# convert drugname_drugconc to drug_name, drug_conc, drug_unit\n",
    "\n",
    "adata.obs[\"drugname_drugconc\"] = adata.obs[\"drugname_drugconc\"].apply(\n",
    "    lambda x: ast.literal_eval(x) if isinstance(x, str) else x\n",
    ")\n"
   ]
  },
  {
   "cell_type": "code",
   "execution_count": 10,
   "id": "c0d8e9fc",
   "metadata": {},
   "outputs": [],
   "source": [
    "\n",
    "# extact drug concentration name faster\n",
    "\n",
    "# Convert column to NumPy array of tuples\n",
    "vals = adata.obs[\"drugname_drugconc\"].values\n",
    "\n",
    "# Extract tuples efficiently\n",
    "drug_array = np.array([x[0] if isinstance(x, list) and len(x) > 0 else (None, None, None) for x in vals])\n"
   ]
  },
  {
   "cell_type": "code",
   "execution_count": 11,
   "id": "21bfb6a6",
   "metadata": {},
   "outputs": [],
   "source": [
    "\n",
    "# add drug array values\n",
    "adata.obs[\"drug_name\"] = drug_array[:, 0]\n",
    "adata.obs[\"drug_conc\"] = drug_array[:, 1]\n",
    "adata.obs[\"drug_unit\"] = drug_array[:, 2]\n"
   ]
  },
  {
   "cell_type": "markdown",
   "id": "a1504ad7",
   "metadata": {
    "id": "a1504ad7"
   },
   "source": [
    "## Add Drug Metadata\n",
    "\n",
    "The drug metadata contains additional information for the compounds used in Tahoe-100M. \n",
    "\n",
    "See the dataset card and our [paper](https://www.biorxiv.org/content/10.1101/2025.02.20.639398v1) for more information about how this information was generated.\n",
    "\n",
    "药物元数据包含 Tahoe-100M 中使用的化合物的附加信息。有关如何生成此信息的更多信息，请参阅数据集卡和我们的论文 "
   ]
  },
  {
   "cell_type": "code",
   "execution_count": null,
   "id": "741c8bcc",
   "metadata": {
    "id": "741c8bcc"
   },
   "outputs": [
    {
     "name": "stderr",
     "output_type": "stream",
     "text": [
      "c:\\Users\\Cavendishes\\.conda\\envs\\tahoe-cvae\\Lib\\functools.py:909: ImplicitModificationWarning: Transforming to str index.\n",
      "  return dispatch(args[0].__class__)(*args, **kw)\n"
     ]
    },
    {
     "data": {
      "application/vnd.microsoft.datawrangler.viewer.v0+json": {
       "columns": [
        {
         "name": "index",
         "rawType": "object",
         "type": "string"
        },
        {
         "name": "drug",
         "rawType": "object",
         "type": "string"
        },
        {
         "name": "sample",
         "rawType": "object",
         "type": "string"
        },
        {
         "name": "BARCODE_SUB_LIB_ID",
         "rawType": "object",
         "type": "string"
        },
        {
         "name": "cell_line_id",
         "rawType": "object",
         "type": "string"
        },
        {
         "name": "moa-fine",
         "rawType": "object",
         "type": "string"
        },
        {
         "name": "canonical_smiles",
         "rawType": "object",
         "type": "string"
        },
        {
         "name": "pubchem_cid",
         "rawType": "object",
         "type": "string"
        },
        {
         "name": "plate",
         "rawType": "object",
         "type": "string"
        },
        {
         "name": "mean_gene_count",
         "rawType": "float64",
         "type": "float"
        },
        {
         "name": "mean_tscp_count",
         "rawType": "float64",
         "type": "float"
        },
        {
         "name": "mean_mread_count",
         "rawType": "float64",
         "type": "float"
        },
        {
         "name": "mean_pcnt_mito",
         "rawType": "float32",
         "type": "float"
        },
        {
         "name": "drugname_drugconc",
         "rawType": "object",
         "type": "unknown"
        },
        {
         "name": "drug_name",
         "rawType": "object",
         "type": "string"
        },
        {
         "name": "drug_conc",
         "rawType": "object",
         "type": "string"
        },
        {
         "name": "drug_unit",
         "rawType": "object",
         "type": "string"
        },
        {
         "name": "targets",
         "rawType": "object",
         "type": "unknown"
        },
        {
         "name": "moa-broad",
         "rawType": "object",
         "type": "string"
        },
        {
         "name": "human-approved",
         "rawType": "object",
         "type": "string"
        },
        {
         "name": "clinical-trials",
         "rawType": "object",
         "type": "string"
        },
        {
         "name": "gpt-notes-approval",
         "rawType": "object",
         "type": "string"
        }
       ],
       "ref": "aa5f2f9f-9c41-44c2-8af8-94ec0ef23bc2",
       "rows": [
        [
         "0",
         "8-Hydroxyquinoline",
         "smp_1783",
         "01_001_052-lib_1105",
         "CVCL_0480",
         "unclear",
         "C1=CC2=C(C(=C1)O)N=CC=C2",
         "1923.0",
         "plate4",
         "1478.2681707354711",
         "2341.339094472393",
         "2738.46379741366",
         "0.023782853",
         "[('8-Hydroxyquinoline', 0.05, 'uM')]",
         "8-Hydroxyquinoline",
         "0.05",
         "uM",
         null,
         "unclear",
         "no",
         "yes",
         "Used in some clinical trial formulations, not approved as standalone drug."
        ],
        [
         "1",
         "8-Hydroxyquinoline",
         "smp_1783",
         "01_001_105-lib_1105",
         "CVCL_0546",
         "unclear",
         "C1=CC2=C(C(=C1)O)N=CC=C2",
         "1923.0",
         "plate4",
         "1478.2681707354711",
         "2341.339094472393",
         "2738.46379741366",
         "0.023782853",
         "[('8-Hydroxyquinoline', 0.05, 'uM')]",
         "8-Hydroxyquinoline",
         "0.05",
         "uM",
         null,
         "unclear",
         "no",
         "yes",
         "Used in some clinical trial formulations, not approved as standalone drug."
        ],
        [
         "2",
         "8-Hydroxyquinoline",
         "smp_1783",
         "01_001_165-lib_1105",
         "CVCL_1717",
         "unclear",
         "C1=CC2=C(C(=C1)O)N=CC=C2",
         "1923.0",
         "plate4",
         "1478.2681707354711",
         "2341.339094472393",
         "2738.46379741366",
         "0.023782853",
         "[('8-Hydroxyquinoline', 0.05, 'uM')]",
         "8-Hydroxyquinoline",
         "0.05",
         "uM",
         null,
         "unclear",
         "no",
         "yes",
         "Used in some clinical trial formulations, not approved as standalone drug."
        ],
        [
         "3",
         "8-Hydroxyquinoline",
         "smp_1783",
         "01_003_094-lib_1105",
         "CVCL_1717",
         "unclear",
         "C1=CC2=C(C(=C1)O)N=CC=C2",
         "1923.0",
         "plate4",
         "1478.2681707354711",
         "2341.339094472393",
         "2738.46379741366",
         "0.023782853",
         "[('8-Hydroxyquinoline', 0.05, 'uM')]",
         "8-Hydroxyquinoline",
         "0.05",
         "uM",
         null,
         "unclear",
         "no",
         "yes",
         "Used in some clinical trial formulations, not approved as standalone drug."
        ],
        [
         "4",
         "8-Hydroxyquinoline",
         "smp_1783",
         "01_003_164-lib_1105",
         "CVCL_1056",
         "unclear",
         "C1=CC2=C(C(=C1)O)N=CC=C2",
         "1923.0",
         "plate4",
         "1478.2681707354711",
         "2341.339094472393",
         "2738.46379741366",
         "0.023782853",
         "[('8-Hydroxyquinoline', 0.05, 'uM')]",
         "8-Hydroxyquinoline",
         "0.05",
         "uM",
         null,
         "unclear",
         "no",
         "yes",
         "Used in some clinical trial formulations, not approved as standalone drug."
        ]
       ],
       "shape": {
        "columns": 21,
        "rows": 5
       }
      },
      "text/html": [
       "<div>\n",
       "<style scoped>\n",
       "    .dataframe tbody tr th:only-of-type {\n",
       "        vertical-align: middle;\n",
       "    }\n",
       "\n",
       "    .dataframe tbody tr th {\n",
       "        vertical-align: top;\n",
       "    }\n",
       "\n",
       "    .dataframe thead th {\n",
       "        text-align: right;\n",
       "    }\n",
       "</style>\n",
       "<table border=\"1\" class=\"dataframe\">\n",
       "  <thead>\n",
       "    <tr style=\"text-align: right;\">\n",
       "      <th></th>\n",
       "      <th>drug</th>\n",
       "      <th>sample</th>\n",
       "      <th>BARCODE_SUB_LIB_ID</th>\n",
       "      <th>cell_line_id</th>\n",
       "      <th>moa-fine</th>\n",
       "      <th>canonical_smiles</th>\n",
       "      <th>pubchem_cid</th>\n",
       "      <th>plate</th>\n",
       "      <th>mean_gene_count</th>\n",
       "      <th>mean_tscp_count</th>\n",
       "      <th>...</th>\n",
       "      <th>mean_pcnt_mito</th>\n",
       "      <th>drugname_drugconc</th>\n",
       "      <th>drug_name</th>\n",
       "      <th>drug_conc</th>\n",
       "      <th>drug_unit</th>\n",
       "      <th>targets</th>\n",
       "      <th>moa-broad</th>\n",
       "      <th>human-approved</th>\n",
       "      <th>clinical-trials</th>\n",
       "      <th>gpt-notes-approval</th>\n",
       "    </tr>\n",
       "  </thead>\n",
       "  <tbody>\n",
       "    <tr>\n",
       "      <th>0</th>\n",
       "      <td>8-Hydroxyquinoline</td>\n",
       "      <td>smp_1783</td>\n",
       "      <td>01_001_052-lib_1105</td>\n",
       "      <td>CVCL_0480</td>\n",
       "      <td>unclear</td>\n",
       "      <td>C1=CC2=C(C(=C1)O)N=CC=C2</td>\n",
       "      <td>1923.0</td>\n",
       "      <td>plate4</td>\n",
       "      <td>1478.268171</td>\n",
       "      <td>2341.339094</td>\n",
       "      <td>...</td>\n",
       "      <td>0.023783</td>\n",
       "      <td>[(8-Hydroxyquinoline, 0.05, uM)]</td>\n",
       "      <td>8-Hydroxyquinoline</td>\n",
       "      <td>0.05</td>\n",
       "      <td>uM</td>\n",
       "      <td>None</td>\n",
       "      <td>unclear</td>\n",
       "      <td>no</td>\n",
       "      <td>yes</td>\n",
       "      <td>Used in some clinical trial formulations, not ...</td>\n",
       "    </tr>\n",
       "    <tr>\n",
       "      <th>1</th>\n",
       "      <td>8-Hydroxyquinoline</td>\n",
       "      <td>smp_1783</td>\n",
       "      <td>01_001_105-lib_1105</td>\n",
       "      <td>CVCL_0546</td>\n",
       "      <td>unclear</td>\n",
       "      <td>C1=CC2=C(C(=C1)O)N=CC=C2</td>\n",
       "      <td>1923.0</td>\n",
       "      <td>plate4</td>\n",
       "      <td>1478.268171</td>\n",
       "      <td>2341.339094</td>\n",
       "      <td>...</td>\n",
       "      <td>0.023783</td>\n",
       "      <td>[(8-Hydroxyquinoline, 0.05, uM)]</td>\n",
       "      <td>8-Hydroxyquinoline</td>\n",
       "      <td>0.05</td>\n",
       "      <td>uM</td>\n",
       "      <td>None</td>\n",
       "      <td>unclear</td>\n",
       "      <td>no</td>\n",
       "      <td>yes</td>\n",
       "      <td>Used in some clinical trial formulations, not ...</td>\n",
       "    </tr>\n",
       "    <tr>\n",
       "      <th>2</th>\n",
       "      <td>8-Hydroxyquinoline</td>\n",
       "      <td>smp_1783</td>\n",
       "      <td>01_001_165-lib_1105</td>\n",
       "      <td>CVCL_1717</td>\n",
       "      <td>unclear</td>\n",
       "      <td>C1=CC2=C(C(=C1)O)N=CC=C2</td>\n",
       "      <td>1923.0</td>\n",
       "      <td>plate4</td>\n",
       "      <td>1478.268171</td>\n",
       "      <td>2341.339094</td>\n",
       "      <td>...</td>\n",
       "      <td>0.023783</td>\n",
       "      <td>[(8-Hydroxyquinoline, 0.05, uM)]</td>\n",
       "      <td>8-Hydroxyquinoline</td>\n",
       "      <td>0.05</td>\n",
       "      <td>uM</td>\n",
       "      <td>None</td>\n",
       "      <td>unclear</td>\n",
       "      <td>no</td>\n",
       "      <td>yes</td>\n",
       "      <td>Used in some clinical trial formulations, not ...</td>\n",
       "    </tr>\n",
       "    <tr>\n",
       "      <th>3</th>\n",
       "      <td>8-Hydroxyquinoline</td>\n",
       "      <td>smp_1783</td>\n",
       "      <td>01_003_094-lib_1105</td>\n",
       "      <td>CVCL_1717</td>\n",
       "      <td>unclear</td>\n",
       "      <td>C1=CC2=C(C(=C1)O)N=CC=C2</td>\n",
       "      <td>1923.0</td>\n",
       "      <td>plate4</td>\n",
       "      <td>1478.268171</td>\n",
       "      <td>2341.339094</td>\n",
       "      <td>...</td>\n",
       "      <td>0.023783</td>\n",
       "      <td>[(8-Hydroxyquinoline, 0.05, uM)]</td>\n",
       "      <td>8-Hydroxyquinoline</td>\n",
       "      <td>0.05</td>\n",
       "      <td>uM</td>\n",
       "      <td>None</td>\n",
       "      <td>unclear</td>\n",
       "      <td>no</td>\n",
       "      <td>yes</td>\n",
       "      <td>Used in some clinical trial formulations, not ...</td>\n",
       "    </tr>\n",
       "    <tr>\n",
       "      <th>4</th>\n",
       "      <td>8-Hydroxyquinoline</td>\n",
       "      <td>smp_1783</td>\n",
       "      <td>01_003_164-lib_1105</td>\n",
       "      <td>CVCL_1056</td>\n",
       "      <td>unclear</td>\n",
       "      <td>C1=CC2=C(C(=C1)O)N=CC=C2</td>\n",
       "      <td>1923.0</td>\n",
       "      <td>plate4</td>\n",
       "      <td>1478.268171</td>\n",
       "      <td>2341.339094</td>\n",
       "      <td>...</td>\n",
       "      <td>0.023783</td>\n",
       "      <td>[(8-Hydroxyquinoline, 0.05, uM)]</td>\n",
       "      <td>8-Hydroxyquinoline</td>\n",
       "      <td>0.05</td>\n",
       "      <td>uM</td>\n",
       "      <td>None</td>\n",
       "      <td>unclear</td>\n",
       "      <td>no</td>\n",
       "      <td>yes</td>\n",
       "      <td>Used in some clinical trial formulations, not ...</td>\n",
       "    </tr>\n",
       "  </tbody>\n",
       "</table>\n",
       "<p>5 rows × 21 columns</p>\n",
       "</div>"
      ],
      "text/plain": [
       "                 drug    sample   BARCODE_SUB_LIB_ID cell_line_id moa-fine  \\\n",
       "0  8-Hydroxyquinoline  smp_1783  01_001_052-lib_1105    CVCL_0480  unclear   \n",
       "1  8-Hydroxyquinoline  smp_1783  01_001_105-lib_1105    CVCL_0546  unclear   \n",
       "2  8-Hydroxyquinoline  smp_1783  01_001_165-lib_1105    CVCL_1717  unclear   \n",
       "3  8-Hydroxyquinoline  smp_1783  01_003_094-lib_1105    CVCL_1717  unclear   \n",
       "4  8-Hydroxyquinoline  smp_1783  01_003_164-lib_1105    CVCL_1056  unclear   \n",
       "\n",
       "           canonical_smiles pubchem_cid   plate  mean_gene_count  \\\n",
       "0  C1=CC2=C(C(=C1)O)N=CC=C2      1923.0  plate4      1478.268171   \n",
       "1  C1=CC2=C(C(=C1)O)N=CC=C2      1923.0  plate4      1478.268171   \n",
       "2  C1=CC2=C(C(=C1)O)N=CC=C2      1923.0  plate4      1478.268171   \n",
       "3  C1=CC2=C(C(=C1)O)N=CC=C2      1923.0  plate4      1478.268171   \n",
       "4  C1=CC2=C(C(=C1)O)N=CC=C2      1923.0  plate4      1478.268171   \n",
       "\n",
       "   mean_tscp_count  ...  mean_pcnt_mito                 drugname_drugconc  \\\n",
       "0      2341.339094  ...        0.023783  [(8-Hydroxyquinoline, 0.05, uM)]   \n",
       "1      2341.339094  ...        0.023783  [(8-Hydroxyquinoline, 0.05, uM)]   \n",
       "2      2341.339094  ...        0.023783  [(8-Hydroxyquinoline, 0.05, uM)]   \n",
       "3      2341.339094  ...        0.023783  [(8-Hydroxyquinoline, 0.05, uM)]   \n",
       "4      2341.339094  ...        0.023783  [(8-Hydroxyquinoline, 0.05, uM)]   \n",
       "\n",
       "            drug_name drug_conc drug_unit targets moa-broad human-approved  \\\n",
       "0  8-Hydroxyquinoline      0.05        uM    None   unclear             no   \n",
       "1  8-Hydroxyquinoline      0.05        uM    None   unclear             no   \n",
       "2  8-Hydroxyquinoline      0.05        uM    None   unclear             no   \n",
       "3  8-Hydroxyquinoline      0.05        uM    None   unclear             no   \n",
       "4  8-Hydroxyquinoline      0.05        uM    None   unclear             no   \n",
       "\n",
       "  clinical-trials                                 gpt-notes-approval  \n",
       "0             yes  Used in some clinical trial formulations, not ...  \n",
       "1             yes  Used in some clinical trial formulations, not ...  \n",
       "2             yes  Used in some clinical trial formulations, not ...  \n",
       "3             yes  Used in some clinical trial formulations, not ...  \n",
       "4             yes  Used in some clinical trial formulations, not ...  \n",
       "\n",
       "[5 rows x 21 columns]"
      ]
     },
     "execution_count": 12,
     "metadata": {},
     "output_type": "execute_result"
    }
   ],
   "source": [
    "\n",
    "# get drug metadata\n",
    "drug_metadata = load_dataset(\"vevotx/Tahoe-100M\",\"drug_metadata\", split=\"train\").to_pandas()\n",
    "\n",
    "adata.obs = pd.merge(adata.obs, drug_metadata.drop(columns=[\"canonical_smiles\",\"pubchem_cid\",\"moa-fine\"]), on=\"drug\", how='left')\n",
    "\n",
    "adata.obs.head()\n"
   ]
  },
  {
   "cell_type": "markdown",
   "id": "d7eb71ff",
   "metadata": {
    "id": "d7eb71ff"
   },
   "source": [
    "## Drug Info from PubChem\n",
    "\n",
    "We also provide the pubchem IDs for the compounds in Tahoe, this can be used to querry additional information as needed.\n",
    "\n",
    "我们还提供 Tahoe 化合物的 pubchem ID，这可用于根据需要查询更多信息。"
   ]
  },
  {
   "cell_type": "code",
   "execution_count": 13,
   "id": "05d74c80",
   "metadata": {
    "id": "05d74c80"
   },
   "outputs": [
    {
     "name": "stdout",
     "output_type": "stream",
     "text": [
      "Name: 8-Hydroxyquinoline\n",
      "Synonyms: ['8-HYDROXYQUINOLINE', 'quinolin-8-ol', '148-24-3', '8-quinolinol', 'Oxyquinoline', 'Oxine', 'Quinophenol', 'Oxychinolin', '8-Quinol', '8-Oxyquinoline']\n",
      "Formula: C9H7NO\n",
      "SMILES: None\n",
      "Mass: 145.052763847\n"
     ]
    }
   ],
   "source": [
    "drug_name = adata.obs[\"drug\"].values[0]\n",
    "cid = int(float(adata.obs[\"pubchem_cid\"].values[0]))\n",
    "compound = pcp.Compound.from_cid(cid)\n",
    "\n",
    "print(f\"Name: {drug_name}\")\n",
    "print(f\"Synonyms: {compound.synonyms[:10]}\")\n",
    "print(f\"Formula: {compound.molecular_formula}\")\n",
    "print(f\"SMILES: {compound.isomeric_smiles}\")\n",
    "print(f\"Mass: {compound.exact_mass}\")"
   ]
  },
  {
   "cell_type": "markdown",
   "id": "2dc7179c",
   "metadata": {
    "id": "2dc7179c"
   },
   "source": [
    "## Load Cell Line Metadata\n",
    "The cell-line metadata contains additional identifiers for the\n",
    "cell-lines used in Tahoe (eg: Depmap-IDs) as well as a curated list of driver mutations for each cell line. This information can be used for instance to train genotype aware models on the Tahoe data.\n",
    "\n",
    "细胞系元数据包含 Tahoe 中使用的细胞系的其他标识符（例如：Depmap-ID）以及每个细胞系的驱动突变的精选列表。例如，此信息可用于在 Tahoe 数据上训练基因型感知模型。"
   ]
  },
  {
   "cell_type": "code",
   "execution_count": 14,
   "id": "6519967a",
   "metadata": {
    "id": "6519967a"
   },
   "outputs": [
    {
     "data": {
      "application/vnd.microsoft.datawrangler.viewer.v0+json": {
       "columns": [
        {
         "name": "index",
         "rawType": "int64",
         "type": "integer"
        },
        {
         "name": "cell_name",
         "rawType": "object",
         "type": "string"
        },
        {
         "name": "Cell_ID_DepMap",
         "rawType": "object",
         "type": "string"
        },
        {
         "name": "Cell_ID_Cellosaur",
         "rawType": "object",
         "type": "string"
        },
        {
         "name": "Organ",
         "rawType": "object",
         "type": "string"
        },
        {
         "name": "Driver_Gene_Symbol",
         "rawType": "object",
         "type": "string"
        },
        {
         "name": "Driver_VarZyg",
         "rawType": "object",
         "type": "string"
        },
        {
         "name": "Driver_VarType",
         "rawType": "object",
         "type": "string"
        },
        {
         "name": "Driver_ProtEffect_or_CdnaEffect",
         "rawType": "object",
         "type": "string"
        },
        {
         "name": "Driver_Mech_InferDM",
         "rawType": "object",
         "type": "string"
        },
        {
         "name": "Driver_GeneType_DM",
         "rawType": "object",
         "type": "string"
        }
       ],
       "ref": "ae3871d4-e635-4175-a779-542979646480",
       "rows": [
        [
         "0",
         "A549",
         "ACH-000681",
         "CVCL_0023",
         "Lung",
         "CDKN2A",
         "Hom",
         "Deletion",
         "DEL",
         "LoF",
         "Suppressor"
        ],
        [
         "1",
         "A549",
         "ACH-000681",
         "CVCL_0023",
         "Lung",
         "CDKN2B",
         "Hom",
         "Deletion",
         "DEL",
         "LoF",
         "Suppressor"
        ],
        [
         "2",
         "A549",
         "ACH-000681",
         "CVCL_0023",
         "Lung",
         "KRAS",
         "Hom",
         "Missense",
         "p.G12S",
         "GoF",
         "Oncogene"
        ],
        [
         "3",
         "A549",
         "ACH-000681",
         "CVCL_0023",
         "Lung",
         "SMARCA4",
         "Hom",
         "Frameshift",
         "p.Q729fs",
         "LoF",
         "Suppressor"
        ],
        [
         "4",
         "A549",
         "ACH-000681",
         "CVCL_0023",
         "Lung",
         "STK11",
         "Hom",
         "Stopgain",
         "p.Q37*",
         "LoF",
         "Suppressor"
        ]
       ],
       "shape": {
        "columns": 10,
        "rows": 5
       }
      },
      "text/html": [
       "<div>\n",
       "<style scoped>\n",
       "    .dataframe tbody tr th:only-of-type {\n",
       "        vertical-align: middle;\n",
       "    }\n",
       "\n",
       "    .dataframe tbody tr th {\n",
       "        vertical-align: top;\n",
       "    }\n",
       "\n",
       "    .dataframe thead th {\n",
       "        text-align: right;\n",
       "    }\n",
       "</style>\n",
       "<table border=\"1\" class=\"dataframe\">\n",
       "  <thead>\n",
       "    <tr style=\"text-align: right;\">\n",
       "      <th></th>\n",
       "      <th>cell_name</th>\n",
       "      <th>Cell_ID_DepMap</th>\n",
       "      <th>Cell_ID_Cellosaur</th>\n",
       "      <th>Organ</th>\n",
       "      <th>Driver_Gene_Symbol</th>\n",
       "      <th>Driver_VarZyg</th>\n",
       "      <th>Driver_VarType</th>\n",
       "      <th>Driver_ProtEffect_or_CdnaEffect</th>\n",
       "      <th>Driver_Mech_InferDM</th>\n",
       "      <th>Driver_GeneType_DM</th>\n",
       "    </tr>\n",
       "  </thead>\n",
       "  <tbody>\n",
       "    <tr>\n",
       "      <th>0</th>\n",
       "      <td>A549</td>\n",
       "      <td>ACH-000681</td>\n",
       "      <td>CVCL_0023</td>\n",
       "      <td>Lung</td>\n",
       "      <td>CDKN2A</td>\n",
       "      <td>Hom</td>\n",
       "      <td>Deletion</td>\n",
       "      <td>DEL</td>\n",
       "      <td>LoF</td>\n",
       "      <td>Suppressor</td>\n",
       "    </tr>\n",
       "    <tr>\n",
       "      <th>1</th>\n",
       "      <td>A549</td>\n",
       "      <td>ACH-000681</td>\n",
       "      <td>CVCL_0023</td>\n",
       "      <td>Lung</td>\n",
       "      <td>CDKN2B</td>\n",
       "      <td>Hom</td>\n",
       "      <td>Deletion</td>\n",
       "      <td>DEL</td>\n",
       "      <td>LoF</td>\n",
       "      <td>Suppressor</td>\n",
       "    </tr>\n",
       "    <tr>\n",
       "      <th>2</th>\n",
       "      <td>A549</td>\n",
       "      <td>ACH-000681</td>\n",
       "      <td>CVCL_0023</td>\n",
       "      <td>Lung</td>\n",
       "      <td>KRAS</td>\n",
       "      <td>Hom</td>\n",
       "      <td>Missense</td>\n",
       "      <td>p.G12S</td>\n",
       "      <td>GoF</td>\n",
       "      <td>Oncogene</td>\n",
       "    </tr>\n",
       "    <tr>\n",
       "      <th>3</th>\n",
       "      <td>A549</td>\n",
       "      <td>ACH-000681</td>\n",
       "      <td>CVCL_0023</td>\n",
       "      <td>Lung</td>\n",
       "      <td>SMARCA4</td>\n",
       "      <td>Hom</td>\n",
       "      <td>Frameshift</td>\n",
       "      <td>p.Q729fs</td>\n",
       "      <td>LoF</td>\n",
       "      <td>Suppressor</td>\n",
       "    </tr>\n",
       "    <tr>\n",
       "      <th>4</th>\n",
       "      <td>A549</td>\n",
       "      <td>ACH-000681</td>\n",
       "      <td>CVCL_0023</td>\n",
       "      <td>Lung</td>\n",
       "      <td>STK11</td>\n",
       "      <td>Hom</td>\n",
       "      <td>Stopgain</td>\n",
       "      <td>p.Q37*</td>\n",
       "      <td>LoF</td>\n",
       "      <td>Suppressor</td>\n",
       "    </tr>\n",
       "  </tbody>\n",
       "</table>\n",
       "</div>"
      ],
      "text/plain": [
       "  cell_name Cell_ID_DepMap Cell_ID_Cellosaur Organ Driver_Gene_Symbol  \\\n",
       "0      A549     ACH-000681         CVCL_0023  Lung             CDKN2A   \n",
       "1      A549     ACH-000681         CVCL_0023  Lung             CDKN2B   \n",
       "2      A549     ACH-000681         CVCL_0023  Lung               KRAS   \n",
       "3      A549     ACH-000681         CVCL_0023  Lung            SMARCA4   \n",
       "4      A549     ACH-000681         CVCL_0023  Lung              STK11   \n",
       "\n",
       "  Driver_VarZyg Driver_VarType Driver_ProtEffect_or_CdnaEffect  \\\n",
       "0           Hom       Deletion                             DEL   \n",
       "1           Hom       Deletion                             DEL   \n",
       "2           Hom       Missense                          p.G12S   \n",
       "3           Hom     Frameshift                        p.Q729fs   \n",
       "4           Hom       Stopgain                          p.Q37*   \n",
       "\n",
       "  Driver_Mech_InferDM Driver_GeneType_DM  \n",
       "0                 LoF         Suppressor  \n",
       "1                 LoF         Suppressor  \n",
       "2                 GoF           Oncogene  \n",
       "3                 LoF         Suppressor  \n",
       "4                 LoF         Suppressor  "
      ]
     },
     "execution_count": 14,
     "metadata": {},
     "output_type": "execute_result"
    }
   ],
   "source": [
    "\n",
    "cell_line_metadata = load_dataset(\"vevotx/Tahoe-100M\",\"cell_line_metadata\", split=\"train\").to_pandas()\n",
    "\n",
    "# save cell line to csv\n",
    "# cell_line_metadata.to_csv(\"/home/ubuntu/anatoly-tahoe-100-texas/data/tahoe-100m_5M_cell_line_metadata.csv\", index=False)\n",
    "cell_line_metadata.to_csv(\"../data/tahoe-100m_5M_cell_line_metadata.csv\", index=False)\n",
    "\n",
    "# show cell names\n",
    "cell_line_metadata.head(5)\n"
   ]
  },
  {
   "cell_type": "markdown",
   "id": "4ced8a90",
   "metadata": {},
   "source": [
    "### Save the data"
   ]
  },
  {
   "cell_type": "code",
   "execution_count": 15,
   "id": "7d6bd1c7",
   "metadata": {},
   "outputs": [],
   "source": [
    "\n",
    " # convert targets to string\n",
    "adata.obs[\"targets\"] = adata.obs[\"targets\"].astype(str)\n",
    "\n",
    "# rename drug_conc as string\n",
    "adata.obs[\"drugname_drugconc\"] = adata.obs[\"drugname_drugconc\"].astype(str)\n"
   ]
  },
  {
   "cell_type": "code",
   "execution_count": 16,
   "id": "8a62e107",
   "metadata": {},
   "outputs": [],
   "source": [
    "# save down-sampled adata file\n",
    "adata.write_h5ad(\"../data/tahoe-100m_5M.h5ad\")\n"
   ]
  }
 ],
 "metadata": {
  "colab": {
   "provenance": []
  },
  "kernelspec": {
   "display_name": "tahoe-cvae",
   "language": "python",
   "name": "python3"
  },
  "language_info": {
   "codemirror_mode": {
    "name": "ipython",
    "version": 3
   },
   "file_extension": ".py",
   "mimetype": "text/x-python",
   "name": "python",
   "nbconvert_exporter": "python",
   "pygments_lexer": "ipython3",
   "version": "3.11.13"
  }
 },
 "nbformat": 4,
 "nbformat_minor": 5
}
