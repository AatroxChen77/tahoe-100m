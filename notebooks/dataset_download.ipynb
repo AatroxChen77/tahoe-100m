{
 "cells": [
  {
   "cell_type": "code",
   "execution_count": null,
   "id": "465a77c3",
   "metadata": {},
   "outputs": [
    {
     "name": "stderr",
     "output_type": "stream",
     "text": [
      "c:\\Users\\Cavendishes\\.conda\\envs\\tahoe-cvae\\Lib\\site-packages\\tqdm\\auto.py:21: TqdmWarning: IProgress not found. Please update jupyter and ipywidgets. See https://ipywidgets.readthedocs.io/en/stable/user_install.html\n",
      "  from .autonotebook import tqdm as notebook_tqdm\n",
      "Creating parquet from Arrow format: 100%|██████████| 100/100 [00:03<00:00, 28.77ba/s]\n",
      "Creating parquet from Arrow format: 100%|██████████| 100/100 [00:03<00:00, 25.20ba/s]\n",
      " 30%|██▉       | 299886/1000000 [06:01<07:54, 1476.45it/s] "
     ]
    }
   ],
   "source": [
    "from datasets import load_dataset, Dataset\n",
    "import os\n",
    "from tqdm import tqdm\n",
    "\n",
    "streaming_ds = load_dataset(\"vevotx/Tahoe-100M\", split=\"train\", streaming=True)\n",
    "save_dir = \"tahoe_100w_parquet\"\n",
    "os.makedirs(save_dir, exist_ok=True)\n",
    "\n",
    "batch = []\n",
    "batch_size = 100_000  # 每批写一次磁盘\n",
    "total = 1_000_000     # 总数\n",
    "n = 0\n",
    "file_idx = 0\n",
    "\n",
    "for sample in tqdm(streaming_ds, total=total):\n",
    "    batch.append(sample)\n",
    "    n += 1\n",
    "\n",
    "    if len(batch) == batch_size:\n",
    "        ds_batch = Dataset.from_list(batch)\n",
    "        ds_batch.to_parquet(f\"{save_dir}/part_{file_idx:02d}.parquet\")\n",
    "        batch = []\n",
    "        file_idx += 1\n",
    "\n",
    "    if n >= total:\n",
    "        break\n",
    "\n",
    "# 如果还有剩余\n",
    "if batch:\n",
    "    ds_batch = Dataset.from_list(batch)\n",
    "    ds_batch.to_parquet(f\"{save_dir}/part_{file_idx:02d}.parquet\")\n"
   ]
  }
 ],
 "metadata": {
  "kernelspec": {
   "display_name": "tahoe-cvae",
   "language": "python",
   "name": "python3"
  },
  "language_info": {
   "codemirror_mode": {
    "name": "ipython",
    "version": 3
   },
   "file_extension": ".py",
   "mimetype": "text/x-python",
   "name": "python",
   "nbconvert_exporter": "python",
   "pygments_lexer": "ipython3",
   "version": "3.11.13"
  }
 },
 "nbformat": 4,
 "nbformat_minor": 5
}
